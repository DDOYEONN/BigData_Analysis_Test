{
  "nbformat": 4,
  "nbformat_minor": 0,
  "metadata": {
    "colab": {
      "provenance": [],
      "authorship_tag": "ABX9TyNGoeSKZU3MXik87jCBCjfq",
      "include_colab_link": true
    },
    "kernelspec": {
      "name": "python3",
      "display_name": "Python 3"
    },
    "language_info": {
      "name": "python"
    }
  },
  "cells": [
    {
      "cell_type": "markdown",
      "metadata": {
        "id": "view-in-github",
        "colab_type": "text"
      },
      "source": [
        "<a href=\"https://colab.research.google.com/github/DDOYEONN/BigData_Analysis_Test/blob/main/%EC%9C%A0%ED%8A%9C%EB%B8%8C_%EA%B3%B5%EB%B2%94%EC%BB%A8%ED%85%90%EC%B8%A0_%EB%8F%99%EC%98%81%EC%83%81_%EB%8D%B0%EC%9D%B4%ED%84%B0.ipynb\" target=\"_parent\"><img src=\"https://colab.research.google.com/assets/colab-badge.svg\" alt=\"Open In Colab\"/></a>"
      ]
    },
    {
      "cell_type": "code",
      "execution_count": 3,
      "metadata": {
        "id": "RKv90EA8BUFO",
        "colab": {
          "base_uri": "https://localhost:8080/",
          "height": 141
        },
        "outputId": "5a0eacf3-fa43-4f78-df99-359b2cb3b3c8"
      },
      "outputs": [
        {
          "output_type": "error",
          "ename": "SyntaxError",
          "evalue": "ignored",
          "traceback": [
            "\u001b[0;36m  File \u001b[0;32m\"<ipython-input-3-ad7e711b692a>\"\u001b[0;36m, line \u001b[0;32m1\u001b[0m\n\u001b[0;31m    데이터 출처 :https://www.kaggle.com/kukuroo3/youtube-episodic-contents-kr(참고, 데이터 수정)\u001b[0m\n\u001b[0m         ^\u001b[0m\n\u001b[0;31mSyntaxError\u001b[0m\u001b[0;31m:\u001b[0m invalid syntax\n"
          ]
        }
      ],
      "source": [
        "데이터 출처 :https://www.kaggle.com/kukuroo3/youtube-episodic-contents-kr(참고, 데이터 수정)\n",
        "데이터 설명 : 유튜브 “공범” 컨텐츠 동영상 정보 ( 10분 간격 수집)\n",
        "dataurl1 (비디오 정보) = https://raw.githubusercontent.com/Datamanim/datarepo/main/youtube/videoInfo.csv\n",
        "dataurl2 (참가자 채널 정보)= https://raw.githubusercontent.com/Datamanim/datarepo/main/youtube/channelInfo.csv"
      ]
    },
    {
      "cell_type": "code",
      "source": [
        "import pandas as pd\n",
        "channel =pd.read_csv('https://raw.githubusercontent.com/Datamanim/datarepo/main/youtube/channelInfo.csv')\n",
        "video =pd.read_csv('https://raw.githubusercontent.com/Datamanim/datarepo/main/youtube/videoInfo.csv')\n",
        "display(channel.head())\n",
        "display(video.head())"
      ],
      "metadata": {
        "colab": {
          "base_uri": "https://localhost:8080/",
          "height": 395
        },
        "id": "TmiS5y3CBgqa",
        "outputId": "40c804a0-c1b7-4d7e-ab65-afbcd0e0ca91"
      },
      "execution_count": 5,
      "outputs": [
        {
          "output_type": "display_data",
          "data": {
            "text/plain": [
              "                  channelid   subcnt    viewcnt  videocnt  \\\n",
              "0  UCkQCwnkQfgSuPTTnw_Y7v7w  1310000  410238653       736   \n",
              "1  UCkQCwnkQfgSuPTTnw_Y7v7w  1310000  412531322       736   \n",
              "2  UCkQCwnkQfgSuPTTnw_Y7v7w  1310000  412531322       735   \n",
              "3  UCkQCwnkQfgSuPTTnw_Y7v7w  1310000  412531322       737   \n",
              "4  UCkQCwnkQfgSuPTTnw_Y7v7w  1320000  412531322       737   \n",
              "\n",
              "                    ct channelname  \n",
              "0  2021-09-30 03:01:03         꽈뚜룹  \n",
              "1  2021-09-30 09:01:03         꽈뚜룹  \n",
              "2  2021-09-30 15:01:03         꽈뚜룹  \n",
              "3  2021-09-30 21:01:03         꽈뚜룹  \n",
              "4  2021-10-01 03:01:04         꽈뚜룹  "
            ],
            "text/html": [
              "\n",
              "  <div id=\"df-580610ed-4792-4c55-90f5-cd34e3d89181\">\n",
              "    <div class=\"colab-df-container\">\n",
              "      <div>\n",
              "<style scoped>\n",
              "    .dataframe tbody tr th:only-of-type {\n",
              "        vertical-align: middle;\n",
              "    }\n",
              "\n",
              "    .dataframe tbody tr th {\n",
              "        vertical-align: top;\n",
              "    }\n",
              "\n",
              "    .dataframe thead th {\n",
              "        text-align: right;\n",
              "    }\n",
              "</style>\n",
              "<table border=\"1\" class=\"dataframe\">\n",
              "  <thead>\n",
              "    <tr style=\"text-align: right;\">\n",
              "      <th></th>\n",
              "      <th>channelid</th>\n",
              "      <th>subcnt</th>\n",
              "      <th>viewcnt</th>\n",
              "      <th>videocnt</th>\n",
              "      <th>ct</th>\n",
              "      <th>channelname</th>\n",
              "    </tr>\n",
              "  </thead>\n",
              "  <tbody>\n",
              "    <tr>\n",
              "      <th>0</th>\n",
              "      <td>UCkQCwnkQfgSuPTTnw_Y7v7w</td>\n",
              "      <td>1310000</td>\n",
              "      <td>410238653</td>\n",
              "      <td>736</td>\n",
              "      <td>2021-09-30 03:01:03</td>\n",
              "      <td>꽈뚜룹</td>\n",
              "    </tr>\n",
              "    <tr>\n",
              "      <th>1</th>\n",
              "      <td>UCkQCwnkQfgSuPTTnw_Y7v7w</td>\n",
              "      <td>1310000</td>\n",
              "      <td>412531322</td>\n",
              "      <td>736</td>\n",
              "      <td>2021-09-30 09:01:03</td>\n",
              "      <td>꽈뚜룹</td>\n",
              "    </tr>\n",
              "    <tr>\n",
              "      <th>2</th>\n",
              "      <td>UCkQCwnkQfgSuPTTnw_Y7v7w</td>\n",
              "      <td>1310000</td>\n",
              "      <td>412531322</td>\n",
              "      <td>735</td>\n",
              "      <td>2021-09-30 15:01:03</td>\n",
              "      <td>꽈뚜룹</td>\n",
              "    </tr>\n",
              "    <tr>\n",
              "      <th>3</th>\n",
              "      <td>UCkQCwnkQfgSuPTTnw_Y7v7w</td>\n",
              "      <td>1310000</td>\n",
              "      <td>412531322</td>\n",
              "      <td>737</td>\n",
              "      <td>2021-09-30 21:01:03</td>\n",
              "      <td>꽈뚜룹</td>\n",
              "    </tr>\n",
              "    <tr>\n",
              "      <th>4</th>\n",
              "      <td>UCkQCwnkQfgSuPTTnw_Y7v7w</td>\n",
              "      <td>1320000</td>\n",
              "      <td>412531322</td>\n",
              "      <td>737</td>\n",
              "      <td>2021-10-01 03:01:04</td>\n",
              "      <td>꽈뚜룹</td>\n",
              "    </tr>\n",
              "  </tbody>\n",
              "</table>\n",
              "</div>\n",
              "      <button class=\"colab-df-convert\" onclick=\"convertToInteractive('df-580610ed-4792-4c55-90f5-cd34e3d89181')\"\n",
              "              title=\"Convert this dataframe to an interactive table.\"\n",
              "              style=\"display:none;\">\n",
              "        \n",
              "  <svg xmlns=\"http://www.w3.org/2000/svg\" height=\"24px\"viewBox=\"0 0 24 24\"\n",
              "       width=\"24px\">\n",
              "    <path d=\"M0 0h24v24H0V0z\" fill=\"none\"/>\n",
              "    <path d=\"M18.56 5.44l.94 2.06.94-2.06 2.06-.94-2.06-.94-.94-2.06-.94 2.06-2.06.94zm-11 1L8.5 8.5l.94-2.06 2.06-.94-2.06-.94L8.5 2.5l-.94 2.06-2.06.94zm10 10l.94 2.06.94-2.06 2.06-.94-2.06-.94-.94-2.06-.94 2.06-2.06.94z\"/><path d=\"M17.41 7.96l-1.37-1.37c-.4-.4-.92-.59-1.43-.59-.52 0-1.04.2-1.43.59L10.3 9.45l-7.72 7.72c-.78.78-.78 2.05 0 2.83L4 21.41c.39.39.9.59 1.41.59.51 0 1.02-.2 1.41-.59l7.78-7.78 2.81-2.81c.8-.78.8-2.07 0-2.86zM5.41 20L4 18.59l7.72-7.72 1.47 1.35L5.41 20z\"/>\n",
              "  </svg>\n",
              "      </button>\n",
              "      \n",
              "  <style>\n",
              "    .colab-df-container {\n",
              "      display:flex;\n",
              "      flex-wrap:wrap;\n",
              "      gap: 12px;\n",
              "    }\n",
              "\n",
              "    .colab-df-convert {\n",
              "      background-color: #E8F0FE;\n",
              "      border: none;\n",
              "      border-radius: 50%;\n",
              "      cursor: pointer;\n",
              "      display: none;\n",
              "      fill: #1967D2;\n",
              "      height: 32px;\n",
              "      padding: 0 0 0 0;\n",
              "      width: 32px;\n",
              "    }\n",
              "\n",
              "    .colab-df-convert:hover {\n",
              "      background-color: #E2EBFA;\n",
              "      box-shadow: 0px 1px 2px rgba(60, 64, 67, 0.3), 0px 1px 3px 1px rgba(60, 64, 67, 0.15);\n",
              "      fill: #174EA6;\n",
              "    }\n",
              "\n",
              "    [theme=dark] .colab-df-convert {\n",
              "      background-color: #3B4455;\n",
              "      fill: #D2E3FC;\n",
              "    }\n",
              "\n",
              "    [theme=dark] .colab-df-convert:hover {\n",
              "      background-color: #434B5C;\n",
              "      box-shadow: 0px 1px 3px 1px rgba(0, 0, 0, 0.15);\n",
              "      filter: drop-shadow(0px 1px 2px rgba(0, 0, 0, 0.3));\n",
              "      fill: #FFFFFF;\n",
              "    }\n",
              "  </style>\n",
              "\n",
              "      <script>\n",
              "        const buttonEl =\n",
              "          document.querySelector('#df-580610ed-4792-4c55-90f5-cd34e3d89181 button.colab-df-convert');\n",
              "        buttonEl.style.display =\n",
              "          google.colab.kernel.accessAllowed ? 'block' : 'none';\n",
              "\n",
              "        async function convertToInteractive(key) {\n",
              "          const element = document.querySelector('#df-580610ed-4792-4c55-90f5-cd34e3d89181');\n",
              "          const dataTable =\n",
              "            await google.colab.kernel.invokeFunction('convertToInteractive',\n",
              "                                                     [key], {});\n",
              "          if (!dataTable) return;\n",
              "\n",
              "          const docLinkHtml = 'Like what you see? Visit the ' +\n",
              "            '<a target=\"_blank\" href=https://colab.research.google.com/notebooks/data_table.ipynb>data table notebook</a>'\n",
              "            + ' to learn more about interactive tables.';\n",
              "          element.innerHTML = '';\n",
              "          dataTable['output_type'] = 'display_data';\n",
              "          await google.colab.output.renderOutput(dataTable, element);\n",
              "          const docLink = document.createElement('div');\n",
              "          docLink.innerHTML = docLinkHtml;\n",
              "          element.appendChild(docLink);\n",
              "        }\n",
              "      </script>\n",
              "    </div>\n",
              "  </div>\n",
              "  "
            ]
          },
          "metadata": {}
        },
        {
          "output_type": "display_data",
          "data": {
            "text/plain": [
              "       videopk  viewcnt  likecnt  dislikecnt  favoritecnt  cmcnt  \\\n",
              "0  c5JQp6xafqc  1667010    30474         706            0   6587   \n",
              "1  c5JQp6xafqc  1669089    30495         707            0   6589   \n",
              "2  c5JQp6xafqc  1674759    30522         711            0   6596   \n",
              "3  c5JQp6xafqc  1677026    30555         712            0   6604   \n",
              "4  c5JQp6xafqc  1681824    30585         713            0   6600   \n",
              "\n",
              "                    ct videoname  \n",
              "0  2021-10-10 15:20:03    공범 EP1  \n",
              "1  2021-10-10 15:30:03    공범 EP1  \n",
              "2  2021-10-10 15:40:02    공범 EP1  \n",
              "3  2021-10-10 15:50:03    공범 EP1  \n",
              "4  2021-10-10 16:00:03    공범 EP1  "
            ],
            "text/html": [
              "\n",
              "  <div id=\"df-81e24cb5-77f5-4de1-92e6-e828e05ad55a\">\n",
              "    <div class=\"colab-df-container\">\n",
              "      <div>\n",
              "<style scoped>\n",
              "    .dataframe tbody tr th:only-of-type {\n",
              "        vertical-align: middle;\n",
              "    }\n",
              "\n",
              "    .dataframe tbody tr th {\n",
              "        vertical-align: top;\n",
              "    }\n",
              "\n",
              "    .dataframe thead th {\n",
              "        text-align: right;\n",
              "    }\n",
              "</style>\n",
              "<table border=\"1\" class=\"dataframe\">\n",
              "  <thead>\n",
              "    <tr style=\"text-align: right;\">\n",
              "      <th></th>\n",
              "      <th>videopk</th>\n",
              "      <th>viewcnt</th>\n",
              "      <th>likecnt</th>\n",
              "      <th>dislikecnt</th>\n",
              "      <th>favoritecnt</th>\n",
              "      <th>cmcnt</th>\n",
              "      <th>ct</th>\n",
              "      <th>videoname</th>\n",
              "    </tr>\n",
              "  </thead>\n",
              "  <tbody>\n",
              "    <tr>\n",
              "      <th>0</th>\n",
              "      <td>c5JQp6xafqc</td>\n",
              "      <td>1667010</td>\n",
              "      <td>30474</td>\n",
              "      <td>706</td>\n",
              "      <td>0</td>\n",
              "      <td>6587</td>\n",
              "      <td>2021-10-10 15:20:03</td>\n",
              "      <td>공범 EP1</td>\n",
              "    </tr>\n",
              "    <tr>\n",
              "      <th>1</th>\n",
              "      <td>c5JQp6xafqc</td>\n",
              "      <td>1669089</td>\n",
              "      <td>30495</td>\n",
              "      <td>707</td>\n",
              "      <td>0</td>\n",
              "      <td>6589</td>\n",
              "      <td>2021-10-10 15:30:03</td>\n",
              "      <td>공범 EP1</td>\n",
              "    </tr>\n",
              "    <tr>\n",
              "      <th>2</th>\n",
              "      <td>c5JQp6xafqc</td>\n",
              "      <td>1674759</td>\n",
              "      <td>30522</td>\n",
              "      <td>711</td>\n",
              "      <td>0</td>\n",
              "      <td>6596</td>\n",
              "      <td>2021-10-10 15:40:02</td>\n",
              "      <td>공범 EP1</td>\n",
              "    </tr>\n",
              "    <tr>\n",
              "      <th>3</th>\n",
              "      <td>c5JQp6xafqc</td>\n",
              "      <td>1677026</td>\n",
              "      <td>30555</td>\n",
              "      <td>712</td>\n",
              "      <td>0</td>\n",
              "      <td>6604</td>\n",
              "      <td>2021-10-10 15:50:03</td>\n",
              "      <td>공범 EP1</td>\n",
              "    </tr>\n",
              "    <tr>\n",
              "      <th>4</th>\n",
              "      <td>c5JQp6xafqc</td>\n",
              "      <td>1681824</td>\n",
              "      <td>30585</td>\n",
              "      <td>713</td>\n",
              "      <td>0</td>\n",
              "      <td>6600</td>\n",
              "      <td>2021-10-10 16:00:03</td>\n",
              "      <td>공범 EP1</td>\n",
              "    </tr>\n",
              "  </tbody>\n",
              "</table>\n",
              "</div>\n",
              "      <button class=\"colab-df-convert\" onclick=\"convertToInteractive('df-81e24cb5-77f5-4de1-92e6-e828e05ad55a')\"\n",
              "              title=\"Convert this dataframe to an interactive table.\"\n",
              "              style=\"display:none;\">\n",
              "        \n",
              "  <svg xmlns=\"http://www.w3.org/2000/svg\" height=\"24px\"viewBox=\"0 0 24 24\"\n",
              "       width=\"24px\">\n",
              "    <path d=\"M0 0h24v24H0V0z\" fill=\"none\"/>\n",
              "    <path d=\"M18.56 5.44l.94 2.06.94-2.06 2.06-.94-2.06-.94-.94-2.06-.94 2.06-2.06.94zm-11 1L8.5 8.5l.94-2.06 2.06-.94-2.06-.94L8.5 2.5l-.94 2.06-2.06.94zm10 10l.94 2.06.94-2.06 2.06-.94-2.06-.94-.94-2.06-.94 2.06-2.06.94z\"/><path d=\"M17.41 7.96l-1.37-1.37c-.4-.4-.92-.59-1.43-.59-.52 0-1.04.2-1.43.59L10.3 9.45l-7.72 7.72c-.78.78-.78 2.05 0 2.83L4 21.41c.39.39.9.59 1.41.59.51 0 1.02-.2 1.41-.59l7.78-7.78 2.81-2.81c.8-.78.8-2.07 0-2.86zM5.41 20L4 18.59l7.72-7.72 1.47 1.35L5.41 20z\"/>\n",
              "  </svg>\n",
              "      </button>\n",
              "      \n",
              "  <style>\n",
              "    .colab-df-container {\n",
              "      display:flex;\n",
              "      flex-wrap:wrap;\n",
              "      gap: 12px;\n",
              "    }\n",
              "\n",
              "    .colab-df-convert {\n",
              "      background-color: #E8F0FE;\n",
              "      border: none;\n",
              "      border-radius: 50%;\n",
              "      cursor: pointer;\n",
              "      display: none;\n",
              "      fill: #1967D2;\n",
              "      height: 32px;\n",
              "      padding: 0 0 0 0;\n",
              "      width: 32px;\n",
              "    }\n",
              "\n",
              "    .colab-df-convert:hover {\n",
              "      background-color: #E2EBFA;\n",
              "      box-shadow: 0px 1px 2px rgba(60, 64, 67, 0.3), 0px 1px 3px 1px rgba(60, 64, 67, 0.15);\n",
              "      fill: #174EA6;\n",
              "    }\n",
              "\n",
              "    [theme=dark] .colab-df-convert {\n",
              "      background-color: #3B4455;\n",
              "      fill: #D2E3FC;\n",
              "    }\n",
              "\n",
              "    [theme=dark] .colab-df-convert:hover {\n",
              "      background-color: #434B5C;\n",
              "      box-shadow: 0px 1px 3px 1px rgba(0, 0, 0, 0.15);\n",
              "      filter: drop-shadow(0px 1px 2px rgba(0, 0, 0, 0.3));\n",
              "      fill: #FFFFFF;\n",
              "    }\n",
              "  </style>\n",
              "\n",
              "      <script>\n",
              "        const buttonEl =\n",
              "          document.querySelector('#df-81e24cb5-77f5-4de1-92e6-e828e05ad55a button.colab-df-convert');\n",
              "        buttonEl.style.display =\n",
              "          google.colab.kernel.accessAllowed ? 'block' : 'none';\n",
              "\n",
              "        async function convertToInteractive(key) {\n",
              "          const element = document.querySelector('#df-81e24cb5-77f5-4de1-92e6-e828e05ad55a');\n",
              "          const dataTable =\n",
              "            await google.colab.kernel.invokeFunction('convertToInteractive',\n",
              "                                                     [key], {});\n",
              "          if (!dataTable) return;\n",
              "\n",
              "          const docLinkHtml = 'Like what you see? Visit the ' +\n",
              "            '<a target=\"_blank\" href=https://colab.research.google.com/notebooks/data_table.ipynb>data table notebook</a>'\n",
              "            + ' to learn more about interactive tables.';\n",
              "          element.innerHTML = '';\n",
              "          dataTable['output_type'] = 'display_data';\n",
              "          await google.colab.output.renderOutput(dataTable, element);\n",
              "          const docLink = document.createElement('div');\n",
              "          docLink.innerHTML = docLinkHtml;\n",
              "          element.appendChild(docLink);\n",
              "        }\n",
              "      </script>\n",
              "    </div>\n",
              "  </div>\n",
              "  "
            ]
          },
          "metadata": {}
        }
      ]
    },
    {
      "cell_type": "markdown",
      "source": [
        "각 데이터의 ‘ct’컬럼을 시간으로 인식할수 있게 datatype을 변경하고 video 데이터의 videoname의 각 value 마다 몇개의 데이터씩 가지고 있는지 확인하라"
      ],
      "metadata": {
        "id": "SBl0w9-fBoEf"
      }
    },
    {
      "cell_type": "code",
      "source": [
        "#답 작성할 때 answer이라고 작성하기 !!!!!!!\n",
        "channel['ct'] = pd.to_datetime(channel['ct'])\n",
        "video['ct'] = pd.to_datetime(video['ct'])\n",
        "answer = video['videoname'].value_counts()\n",
        "print(answer)"
      ],
      "metadata": {
        "colab": {
          "base_uri": "https://localhost:8080/"
        },
        "id": "O6aZJssmBpey",
        "outputId": "d02b1f34-6615-4541-bdf0-0c81d34f388a"
      },
      "execution_count": 6,
      "outputs": [
        {
          "output_type": "stream",
          "name": "stdout",
          "text": [
            " 공범 EP1    3492\n",
            " 공범 EP2    3204\n",
            " 공범 EP3    2568\n",
            " 공범 EP4    2280\n",
            " 공범 EP5    1562\n",
            " 공범 EP6    1274\n",
            " 공범 EP7     555\n",
            " 공범 EP8     266\n",
            "Name: videoname, dtype: int64\n"
          ]
        }
      ]
    },
    {
      "cell_type": "markdown",
      "source": [
        "수집된 각 video의 가장 최신화 된 날짜의 viewcount값을 출력하라"
      ],
      "metadata": {
        "id": "g2AIgbCDCg1B"
      }
    },
    {
      "cell_type": "code",
      "source": [
        "answer = video.sort_values(['videoname','ct']).drop_duplicates('videoname', keep='first')[['videoname','ct','viewcnt']].reset_index(drop=True)\n",
        "answer"
      ],
      "metadata": {
        "colab": {
          "base_uri": "https://localhost:8080/",
          "height": 300
        },
        "id": "seMJDporjVbC",
        "outputId": "cfaaed48-844b-40d4-c208-e6e8a778e4b0"
      },
      "execution_count": 14,
      "outputs": [
        {
          "output_type": "execute_result",
          "data": {
            "text/plain": [
              "  videoname                  ct  viewcnt\n",
              "0    공범 EP1 2021-10-07 19:10:03     6396\n",
              "1    공범 EP2 2021-10-09 19:10:03    11153\n",
              "2    공범 EP3 2021-10-14 19:10:04    10240\n",
              "3    공범 EP4 2021-10-16 19:10:04    23581\n",
              "4    공범 EP5 2021-10-21 19:10:04    16777\n",
              "5    공범 EP6 2021-10-23 19:10:04    24331\n",
              "6    공범 EP7 2021-10-28 19:10:04    32404\n",
              "7    공범 EP8 2021-10-30 19:20:04    82015"
            ],
            "text/html": [
              "\n",
              "  <div id=\"df-764ea1e4-e834-4057-b359-68f380f073b4\">\n",
              "    <div class=\"colab-df-container\">\n",
              "      <div>\n",
              "<style scoped>\n",
              "    .dataframe tbody tr th:only-of-type {\n",
              "        vertical-align: middle;\n",
              "    }\n",
              "\n",
              "    .dataframe tbody tr th {\n",
              "        vertical-align: top;\n",
              "    }\n",
              "\n",
              "    .dataframe thead th {\n",
              "        text-align: right;\n",
              "    }\n",
              "</style>\n",
              "<table border=\"1\" class=\"dataframe\">\n",
              "  <thead>\n",
              "    <tr style=\"text-align: right;\">\n",
              "      <th></th>\n",
              "      <th>videoname</th>\n",
              "      <th>ct</th>\n",
              "      <th>viewcnt</th>\n",
              "    </tr>\n",
              "  </thead>\n",
              "  <tbody>\n",
              "    <tr>\n",
              "      <th>0</th>\n",
              "      <td>공범 EP1</td>\n",
              "      <td>2021-10-07 19:10:03</td>\n",
              "      <td>6396</td>\n",
              "    </tr>\n",
              "    <tr>\n",
              "      <th>1</th>\n",
              "      <td>공범 EP2</td>\n",
              "      <td>2021-10-09 19:10:03</td>\n",
              "      <td>11153</td>\n",
              "    </tr>\n",
              "    <tr>\n",
              "      <th>2</th>\n",
              "      <td>공범 EP3</td>\n",
              "      <td>2021-10-14 19:10:04</td>\n",
              "      <td>10240</td>\n",
              "    </tr>\n",
              "    <tr>\n",
              "      <th>3</th>\n",
              "      <td>공범 EP4</td>\n",
              "      <td>2021-10-16 19:10:04</td>\n",
              "      <td>23581</td>\n",
              "    </tr>\n",
              "    <tr>\n",
              "      <th>4</th>\n",
              "      <td>공범 EP5</td>\n",
              "      <td>2021-10-21 19:10:04</td>\n",
              "      <td>16777</td>\n",
              "    </tr>\n",
              "    <tr>\n",
              "      <th>5</th>\n",
              "      <td>공범 EP6</td>\n",
              "      <td>2021-10-23 19:10:04</td>\n",
              "      <td>24331</td>\n",
              "    </tr>\n",
              "    <tr>\n",
              "      <th>6</th>\n",
              "      <td>공범 EP7</td>\n",
              "      <td>2021-10-28 19:10:04</td>\n",
              "      <td>32404</td>\n",
              "    </tr>\n",
              "    <tr>\n",
              "      <th>7</th>\n",
              "      <td>공범 EP8</td>\n",
              "      <td>2021-10-30 19:20:04</td>\n",
              "      <td>82015</td>\n",
              "    </tr>\n",
              "  </tbody>\n",
              "</table>\n",
              "</div>\n",
              "      <button class=\"colab-df-convert\" onclick=\"convertToInteractive('df-764ea1e4-e834-4057-b359-68f380f073b4')\"\n",
              "              title=\"Convert this dataframe to an interactive table.\"\n",
              "              style=\"display:none;\">\n",
              "        \n",
              "  <svg xmlns=\"http://www.w3.org/2000/svg\" height=\"24px\"viewBox=\"0 0 24 24\"\n",
              "       width=\"24px\">\n",
              "    <path d=\"M0 0h24v24H0V0z\" fill=\"none\"/>\n",
              "    <path d=\"M18.56 5.44l.94 2.06.94-2.06 2.06-.94-2.06-.94-.94-2.06-.94 2.06-2.06.94zm-11 1L8.5 8.5l.94-2.06 2.06-.94-2.06-.94L8.5 2.5l-.94 2.06-2.06.94zm10 10l.94 2.06.94-2.06 2.06-.94-2.06-.94-.94-2.06-.94 2.06-2.06.94z\"/><path d=\"M17.41 7.96l-1.37-1.37c-.4-.4-.92-.59-1.43-.59-.52 0-1.04.2-1.43.59L10.3 9.45l-7.72 7.72c-.78.78-.78 2.05 0 2.83L4 21.41c.39.39.9.59 1.41.59.51 0 1.02-.2 1.41-.59l7.78-7.78 2.81-2.81c.8-.78.8-2.07 0-2.86zM5.41 20L4 18.59l7.72-7.72 1.47 1.35L5.41 20z\"/>\n",
              "  </svg>\n",
              "      </button>\n",
              "      \n",
              "  <style>\n",
              "    .colab-df-container {\n",
              "      display:flex;\n",
              "      flex-wrap:wrap;\n",
              "      gap: 12px;\n",
              "    }\n",
              "\n",
              "    .colab-df-convert {\n",
              "      background-color: #E8F0FE;\n",
              "      border: none;\n",
              "      border-radius: 50%;\n",
              "      cursor: pointer;\n",
              "      display: none;\n",
              "      fill: #1967D2;\n",
              "      height: 32px;\n",
              "      padding: 0 0 0 0;\n",
              "      width: 32px;\n",
              "    }\n",
              "\n",
              "    .colab-df-convert:hover {\n",
              "      background-color: #E2EBFA;\n",
              "      box-shadow: 0px 1px 2px rgba(60, 64, 67, 0.3), 0px 1px 3px 1px rgba(60, 64, 67, 0.15);\n",
              "      fill: #174EA6;\n",
              "    }\n",
              "\n",
              "    [theme=dark] .colab-df-convert {\n",
              "      background-color: #3B4455;\n",
              "      fill: #D2E3FC;\n",
              "    }\n",
              "\n",
              "    [theme=dark] .colab-df-convert:hover {\n",
              "      background-color: #434B5C;\n",
              "      box-shadow: 0px 1px 3px 1px rgba(0, 0, 0, 0.15);\n",
              "      filter: drop-shadow(0px 1px 2px rgba(0, 0, 0, 0.3));\n",
              "      fill: #FFFFFF;\n",
              "    }\n",
              "  </style>\n",
              "\n",
              "      <script>\n",
              "        const buttonEl =\n",
              "          document.querySelector('#df-764ea1e4-e834-4057-b359-68f380f073b4 button.colab-df-convert');\n",
              "        buttonEl.style.display =\n",
              "          google.colab.kernel.accessAllowed ? 'block' : 'none';\n",
              "\n",
              "        async function convertToInteractive(key) {\n",
              "          const element = document.querySelector('#df-764ea1e4-e834-4057-b359-68f380f073b4');\n",
              "          const dataTable =\n",
              "            await google.colab.kernel.invokeFunction('convertToInteractive',\n",
              "                                                     [key], {});\n",
              "          if (!dataTable) return;\n",
              "\n",
              "          const docLinkHtml = 'Like what you see? Visit the ' +\n",
              "            '<a target=\"_blank\" href=https://colab.research.google.com/notebooks/data_table.ipynb>data table notebook</a>'\n",
              "            + ' to learn more about interactive tables.';\n",
              "          element.innerHTML = '';\n",
              "          dataTable['output_type'] = 'display_data';\n",
              "          await google.colab.output.renderOutput(dataTable, element);\n",
              "          const docLink = document.createElement('div');\n",
              "          docLink.innerHTML = docLinkHtml;\n",
              "          element.appendChild(docLink);\n",
              "        }\n",
              "      </script>\n",
              "    </div>\n",
              "  </div>\n",
              "  "
            ]
          },
          "metadata": {},
          "execution_count": 14
        }
      ]
    },
    {
      "cell_type": "markdown",
      "source": [
        "Channel 데이터중 2021-10-03일 이후 각 채널의 처음 기록 됐던 구독자 수(subcnt)를 출력하라\n"
      ],
      "metadata": {
        "id": "fsFwAluBkit7"
      }
    },
    {
      "cell_type": "code",
      "source": [
        "channel.ct = pd.to_datetime(channel.ct)\n",
        "target = channel[channel.ct >= pd.to_datetime('2021-10-03')].sort_values(['ct','channelname']).drop_duplicates('channelname')\n",
        "answer = target[['channelname','subcnt']].reset_index(drop =True)\n",
        "print(answer)"
      ],
      "metadata": {
        "colab": {
          "base_uri": "https://localhost:8080/"
        },
        "id": "KPKrS--Tjx0O",
        "outputId": "8c644e6d-7ae6-49b7-ccf0-eaf2e48cd5c2"
      },
      "execution_count": 21,
      "outputs": [
        {
          "output_type": "stream",
          "name": "stdout",
          "text": [
            "        channelname   subcnt\n",
            "0            논리왕 전기   922000\n",
            "1             야전삽짱재   257000\n",
            "2        츄정ChuJeong   322000\n",
            "3        김농밀의 농밀한 삶     7520\n",
            "4       릴펄 Lilpearl    10100\n",
            "5   와글와글 WagleWagle    55000\n",
            "6               조나단   215000\n",
            "7           형사!탐정되다    14900\n",
            "8     Balming Tiger    54300\n",
            "9     곽토리 kwak tori   471000\n",
            "10              꽈뚜룹  1330000\n"
          ]
        }
      ]
    },
    {
      "cell_type": "markdown",
      "source": [
        "각채널의 2021-10-03 03:00:00 ~ 2021-11-01 15:00:00 까지 구독자수 (subcnt) 의 증가량을 구하여라"
      ],
      "metadata": {
        "id": "xzcpwirYmkoG"
      }
    },
    {
      "cell_type": "code",
      "source": [
        "end = channel.loc[channel.ct.dt.strftime('%Y-%m-%d %H') =='2021-11-01 15']\n",
        "start = channel.loc[channel.ct.dt.strftime('%Y-%m-%d %H') =='2021-10-03 03']\n",
        "\n",
        "end_df = end[['channelname','subcnt']].reset_index(drop=True)\n",
        "start_df = start[['channelname','subcnt']].reset_index(drop=True)\n",
        "\n",
        "#이름바뀜\n",
        "end_df.columns = ['channelname','end_sub']\n",
        "start_df.columns = ['channelname','start_sub']\n",
        "\n",
        "tt = pd.merge(start_df,end_df)\n",
        "tt['del'] = tt['end_sub'] - tt['start_sub']\n",
        "result = tt[['channelname','del']]\n",
        "display(result)"
      ],
      "metadata": {
        "colab": {
          "base_uri": "https://localhost:8080/"
        },
        "id": "a0Je_dABmTkt",
        "outputId": "875cf8d2-df67-467d-b63e-f3629700e3cd"
      },
      "execution_count": 31,
      "outputs": [
        {
          "output_type": "execute_result",
          "data": {
            "text/plain": [
              "Index(['channelname', 'end_sub'], dtype='object')"
            ]
          },
          "metadata": {},
          "execution_count": 31
        }
      ]
    },
    {
      "cell_type": "markdown",
      "source": [
        "각 비디오는 10분 간격으로 구독자수, 좋아요, 싫어요수, 댓글수가 수집된것으로 알려졌다. 공범 EP1의 비디오정보 데이터중 수집간격이 5분 이하, 20분이상인 데이터 구간( 해당 시점 전,후) 의 시각을 모두 출력하라"
      ],
      "metadata": {
        "id": "cLOz4WAkrdET"
      }
    },
    {
      "cell_type": "code",
      "source": [
        "# diff는 한 객체 내에서 열과 열 / 행과 행의 차이를 출력하는 메서드\n",
        "# 두 날짜의 차이 datetime.timedelta"
      ],
      "metadata": {
        "id": "5llA7ZGssRYS"
      },
      "execution_count": null,
      "outputs": []
    },
    {
      "cell_type": "code",
      "source": [
        "import datetime\n",
        "\n",
        "ep_one = video.loc[video.videoname.str.contains('1')].sort_values('ct').reset_index(drop=True)\n",
        "\n",
        "ep_one[\n",
        "        (ep_one.ct.diff(1) >=datetime.timedelta(minutes=20)) | \\\n",
        "        (ep_one.ct.diff(1) <=datetime.timedelta(minutes=5))\n",
        "      \n",
        "      ]\n",
        "\n",
        "answer = ep_one[ep_one.index.isin([720,721,722,723,1635,1636,1637])]\n",
        "display(answer)"
      ],
      "metadata": {
        "id": "nY0PYutyoHlv"
      },
      "execution_count": null,
      "outputs": []
    },
    {
      "cell_type": "markdown",
      "source": [
        "각 에피소드의 시작날짜(년-월-일)를 에피소드 이름과 묶어 데이터 프레임으로 만들고 출력하라"
      ],
      "metadata": {
        "id": "eJ1RZK7atnZ3"
      }
    },
    {
      "cell_type": "code",
      "source": [
        "start_date = video.sort_values(['ct', 'videoname']).drop_duplicates('videoname')[['ct', 'videoname']]\n",
        "start_date['date'] = start_date.ct.dt.date\n",
        "answer = start_date[['date','videoname']]\n",
        "display(answer)"
      ],
      "metadata": {
        "id": "emivWreVtrdN"
      },
      "execution_count": null,
      "outputs": []
    },
    {
      "cell_type": "markdown",
      "source": [
        "“공범” 컨텐츠의 경우 19:00시에 공개 되는것으로 알려져있다. 공개된 날의 21시의 viewcnt, ct, videoname 으로 구성된 데이터 프레임을 viewcnt를 내림차순으로 정렬하여 출력하라"
      ],
      "metadata": {
        "id": "FxbSZGz4u7px"
      }
    },
    {
      "cell_type": "code",
      "source": [
        "video['time']= video.ct.dt.hour\n",
        "\n",
        "answer = video.loc[video['time'] ==21] \\\n",
        "            .sort_values(['videoname','ct'])\\\n",
        "            .drop_duplicates('videoname') \\\n",
        "            .sort_values('viewcnt',ascending=False)[['videoname','viewcnt','ct']]\\\n",
        "            .reset_index(drop=True)\n",
        "\n",
        "display(answer)"
      ],
      "metadata": {
        "id": "z-6k0nlruzZD"
      },
      "execution_count": null,
      "outputs": []
    },
    {
      "cell_type": "markdown",
      "source": [
        "video 정보의 가장 최근 데이터들에서 각 에피소드의 싫어요/좋아요 비율을 ratio 컬럼으로 만들고 videoname, ratio로 구성된 데이터 프레임을 ratio를 오름차순으로 정렬하라"
      ],
      "metadata": {
        "id": "x-x9sw0VwV3k"
      }
    },
    {
      "cell_type": "code",
      "source": [
        "target = video.sort_values('ct').drop_duplicates('videoname',keep='last')\n",
        "target['ratio'] =target['dislikecnt'] / target['likecnt']\n",
        "\n",
        "answer = target.sort_values('ratio')[['videoname','ratio']].reset_index(drop=True)\n",
        "answer"
      ],
      "metadata": {
        "id": "t8YutBbQwCo0"
      },
      "execution_count": null,
      "outputs": []
    },
    {
      "cell_type": "markdown",
      "source": [
        "2021-11-01 00:00:00 ~ 15:00:00까지 각 에피소드별 viewcnt의 증가량을 데이터 프레임으로 만드시오"
      ],
      "metadata": {
        "id": "wx7SKGcPxytt"
      }
    },
    {
      "cell_type": "code",
      "source": [
        "start = pd.to_datetime(\"2021-11-01 00:00:00\")\n",
        "end = pd.to_datetime(\"2021-11-01 15:00:00\")\n",
        "\n",
        "target = video.loc[(video[\"ct\"] >= start) & (video['ct'] <= end)].reset_index(drop=True)\n",
        "\n",
        "def check(x):\n",
        "    result = max(x) - min(x)\n",
        "    return result\n",
        "\n",
        "answer = target[['videoname','viewcnt']].groupby(\"videoname\").agg(check)\n",
        "answer"
      ],
      "metadata": {
        "id": "ZbN1QSeFxvIh"
      },
      "execution_count": null,
      "outputs": []
    },
    {
      "cell_type": "markdown",
      "source": [
        "video 데이터 중에서 중복되는 데이터가 존재한다. 중복되는 각 데이터의 시간대와 videoname 을 구하여라"
      ],
      "metadata": {
        "id": "TU93baWhzHBP"
      }
    },
    {
      "cell_type": "code",
      "source": [
        "#set 내장함수; 집합의 성질을 가지는 함수들을 비롯해 중복되지 않은 원소를 얻고자 할 때 사용"
      ],
      "metadata": {
        "id": "tgvbMoRIzIUs"
      },
      "execution_count": null,
      "outputs": []
    },
    {
      "cell_type": "code",
      "source": [
        "answer = video[video.index.isin(set(video.index))] = set(video.drop_duplicates().index)\n",
        "result = answer[['videonmae', 'ct']]\n",
        "display(result)"
      ],
      "metadata": {
        "id": "fIjBAETVyll5"
      },
      "execution_count": null,
      "outputs": []
    }
  ]
}
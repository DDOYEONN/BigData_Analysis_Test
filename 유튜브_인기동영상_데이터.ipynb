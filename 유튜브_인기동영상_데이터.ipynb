{
  "nbformat": 4,
  "nbformat_minor": 0,
  "metadata": {
    "colab": {
      "provenance": [],
      "collapsed_sections": [],
      "authorship_tag": "ABX9TyPCQVFeJ55OHu98JyjdMzXq",
      "include_colab_link": true
    },
    "kernelspec": {
      "name": "python3",
      "display_name": "Python 3"
    },
    "language_info": {
      "name": "python"
    }
  },
  "cells": [
    {
      "cell_type": "markdown",
      "metadata": {
        "id": "view-in-github",
        "colab_type": "text"
      },
      "source": [
        "<a href=\"https://colab.research.google.com/github/DDOYEONN/BigData_Analysis_Test/blob/main/%EC%9C%A0%ED%8A%9C%EB%B8%8C_%EC%9D%B8%EA%B8%B0%EB%8F%99%EC%98%81%EC%83%81_%EB%8D%B0%EC%9D%B4%ED%84%B0.ipynb\" target=\"_parent\"><img src=\"https://colab.research.google.com/assets/colab-badge.svg\" alt=\"Open In Colab\"/></a>"
      ]
    },
    {
      "cell_type": "code",
      "execution_count": null,
      "metadata": {
        "colab": {
          "base_uri": "https://localhost:8080/",
          "height": 161
        },
        "id": "8_RO1kDBy932",
        "outputId": "0c45e1dd-511d-4c53-a7c3-49e1e577a28f"
      },
      "outputs": [
        {
          "output_type": "error",
          "ename": "SyntaxError",
          "evalue": "ignored",
          "traceback": [
            "\u001b[0;36m  File \u001b[0;32m\"<ipython-input-2-ca2ef3122e2d>\"\u001b[0;36m, line \u001b[0;32m2\u001b[0m\n\u001b[0;31m    https://www.kaggle.com/rsrishav/youtube-trending-video-dataset?select=KR_youtube_trending_data.csv\u001b[0m\n\u001b[0m           ^\u001b[0m\n\u001b[0;31mSyntaxError\u001b[0m\u001b[0;31m:\u001b[0m invalid syntax\n"
          ]
        }
      ],
      "source": [
        "#데이터 출처:\n",
        "https://www.kaggle.com/rsrishav/youtube-trending-video-dataset?select=KR_youtube_trending_data.csv"
      ]
    },
    {
      "cell_type": "markdown",
      "source": [],
      "metadata": {
        "id": "8itN8Afk7rzg"
      }
    },
    {
      "cell_type": "code",
      "source": [
        "import pandas as pd\n",
        "df = pd.read_csv('https://raw.githubusercontent.com/Datamanim/datarepo/main/youtube/youtube.csv', index_col =0)\n",
        "df.head()"
      ],
      "metadata": {
        "id": "K7CTV7OazFJt"
      },
      "execution_count": null,
      "outputs": []
    },
    {
      "cell_type": "markdown",
      "source": [
        "인기동영상 제작횟수가 많은 채널 상위 10개명을 출력하라 (날짜기준, 중복포함)"
      ],
      "metadata": {
        "id": "5Va012-nzN3e"
      }
    },
    {
      "cell_type": "code",
      "source": [
        "#sort_vlaues()값이 큰 것대로 정렬 #value_counts개수 출력해줌\n",
        "title_value = df['channelTitle'].value_counts().head(10).index\n",
        "answer = list(df.loc[df['channelTitle'].isin(title_value)].channelTitle.unique())\n",
        "print(answer)"
      ],
      "metadata": {
        "colab": {
          "base_uri": "https://localhost:8080/"
        },
        "id": "I7hAvE8R7ysl",
        "outputId": "6b8db119-712c-4a82-c127-ed977e98a2f2"
      },
      "execution_count": null,
      "outputs": [
        {
          "output_type": "stream",
          "name": "stdout",
          "text": [
            "['장삐쭈', '총몇명', '파뿌리', '짤툰', '런닝맨 - 스브스 공식 채널', '엠뚜루마뚜루 : MBC 공식 종합 채널', 'SPOTV', '채널 십오야', '이과장', 'BANGTANTV']\n"
          ]
        }
      ]
    },
    {
      "cell_type": "markdown",
      "source": [
        "논란으로 인기동영상이 된 케이스를 확인하고 싶다. dislikes수가 like 수보다 높은 동영상을 제작한 채널을 모두 출력하라"
      ],
      "metadata": {
        "id": "e3FZsS_IAw9p"
      }
    },
    {
      "cell_type": "code",
      "source": [
        "#앞에 list추가도 가능 list(df.loc~~)\n",
        "more_dislike = df.loc[df.dislikes > df.likes]['channelTitle'].unique()\n",
        "print(more_dislike)"
      ],
      "metadata": {
        "colab": {
          "base_uri": "https://localhost:8080/"
        },
        "id": "lt1FZzvo_uXG",
        "outputId": "1474c571-bea3-420f-f56b-758420ff5a1e"
      },
      "execution_count": null,
      "outputs": [
        {
          "output_type": "stream",
          "name": "stdout",
          "text": [
            "['핫도그TV' 'ASMR 애정TV' '하얀트리HayanTree' '양팡 YangPang' '철구형 (CHULTUBE)'\n",
            " '왜냐맨하우스' '(MUTUBE)와꾸대장봉준' '오메킴TV' '육지담' 'MapleStory_KR'\n",
            " 'ROAD FIGHTING CHAMPIONSHIP' '사나이 김기훈' '나혼자산다 STUDIO' 'Gen.G esports']\n"
          ]
        }
      ]
    },
    {
      "cell_type": "markdown",
      "source": [
        "채널명을 바꾼 케이스가 있는지 확인하고 싶다. channelId의 경우 고유값이므로 이를 통해 채널명을 한번이라도 바꾼 채널의 갯수를 구하여라"
      ],
      "metadata": {
        "id": "uSkIi63UC-yj"
      }
    },
    {
      "cell_type": "code",
      "source": [
        "change = df[['channelTitle', 'channelId']].drop_duplicates().channelId.value_counts()\n",
        "target = change[change > 1]\n",
        "print(len(target))"
      ],
      "metadata": {
        "id": "NYg66FsjENf5",
        "colab": {
          "base_uri": "https://localhost:8080/"
        },
        "outputId": "3f96892b-ed71-4963-fa48-c8979d7e1fb2"
      },
      "execution_count": null,
      "outputs": [
        {
          "output_type": "stream",
          "name": "stdout",
          "text": [
            "71\n"
          ]
        }
      ]
    },
    {
      "cell_type": "markdown",
      "source": [
        "일요일에 인기있었던 영상들중 가장많은 영상 종류(categoryId)는 무엇인가?"
      ],
      "metadata": {
        "id": "vjKOW0iXcN7_"
      }
    },
    {
      "cell_type": "markdown",
      "source": [],
      "metadata": {
        "id": "XrD4P5n0fXtm"
      }
    },
    {
      "cell_type": "code",
      "source": [
        "###참고###\n",
        "#pd.datetime() datetime 형식으로 변환\n",
        "df['datetime'].dt.year # 연도 정보\n",
        "df['datetime'].dt.month # 월 정보\n",
        "df['datetime'].dt.day # 일 정보\n",
        "df['datetime'].dt.hour # 시간 정보\n",
        "df['datetime'].dt.minute # 분 정보\n",
        "df['datetime'].dt.second # 초 정보"
      ],
      "metadata": {
        "id": "aURBfCA-fHUz"
      },
      "execution_count": null,
      "outputs": []
    },
    {
      "cell_type": "code",
      "source": [
        "df['trending_date2'] = pd.to_datetime(df['trending_date2'])\n",
        "answer = df.loc[df['trending_date2'].dt.day_name() == 'Sunday'].categoryId.value_counts().index[0]\n",
        "answer"
      ],
      "metadata": {
        "colab": {
          "base_uri": "https://localhost:8080/"
        },
        "id": "VKKQrvZpe8Gv",
        "outputId": "e8116a1e-d626-4b9e-f8fc-eb5b5862b481"
      },
      "execution_count": null,
      "outputs": [
        {
          "output_type": "execute_result",
          "data": {
            "text/plain": [
              "24"
            ]
          },
          "metadata": {},
          "execution_count": 141
        }
      ]
    },
    {
      "cell_type": "markdown",
      "source": [
        "각 요일별 인기 영상들의 categoryId는 각각 몇개 씩인지 하나의 데이터 프레임으로 표현하라"
      ],
      "metadata": {
        "id": "qKH7nVoJgXDC"
      }
    },
    {
      "cell_type": "markdown",
      "source": [
        "###설명###\n",
        "as_index = False #인덱스를 사용하고 싶지 않은 경우\n",
        "\n",
        "index_col = 0 하면 # [ERROR] groupby() got an unexpected keyword argument 'index_col'\n",
        "\n",
        "\n",
        "\n",
        "---\n",
        "len(arr) : 리스트의 길이를 알려줍니다 - 리스트가 중첩 리스트일 경우 가장 바깥 리스트의 길이를 알려줍니다.\n",
        "array2는 길이가 4인 리스트가 3개 들어가있기 때문에 len(array2)는 3\n",
        "\n",
        "arr.size는 arr에 몇개의 요소가 들어있는지를 알려줌\n",
        "array2의 경우 크기가 3 * 4인 2차원 array이기 때문에 array2.size는 12입니다."
      ],
      "metadata": {
        "id": "nlTDY7S1jISy"
      }
    },
    {
      "cell_type": "code",
      "source": [
        "group = df.groupby([df['trending_date2'].dt.day_name(),'categoryId'],as_index=False).size()\n",
        "answer= group.pivot(index='categoryId',columns='trending_date2')\n",
        "display(answer)"
      ],
      "metadata": {
        "id": "IqdDXY9lgroQ"
      },
      "execution_count": null,
      "outputs": []
    },
    {
      "cell_type": "markdown",
      "source": [
        "댓글의 수로 (comment_count) 영상 반응에 대한 판단을 할 수 있다. viewcount대비 댓글수가 가장 높은 영상을 확인하라 (view_count값이 0인 경우는 제외한다)"
      ],
      "metadata": {
        "id": "lLbKW7IYlXI2"
      }
    },
    {
      "cell_type": "code",
      "source": [
        "#dropna 결측값있는 행 제거"
      ],
      "metadata": {
        "id": "_c2ijfU9msEE"
      },
      "execution_count": null,
      "outputs": []
    },
    {
      "cell_type": "code",
      "source": [
        "#df[['comment_count','view_count']].sort_values(by = 'view_count', ascending = False).index[0]"
      ],
      "metadata": {
        "colab": {
          "base_uri": "https://localhost:8080/"
        },
        "id": "Uv3KZKT2is4q",
        "outputId": "2c76e2c3-0750-4917-c1d4-e5f00df70b34"
      },
      "execution_count": null,
      "outputs": [
        {
          "output_type": "execute_result",
          "data": {
            "text/plain": [
              "30583"
            ]
          },
          "metadata": {},
          "execution_count": 171
        }
      ]
    },
    {
      "cell_type": "code",
      "source": [
        "target2 = df.loc[df.view_count != 0]\n",
        "t = target2.copy()\n",
        "t['ratio'] = (target2['comment_count']/target2['view_count']).dropna()\n",
        "result = t.sort_values(by = 'ratio', ascending = False).iloc[0].title\n",
        "print(result)\n"
      ],
      "metadata": {
        "colab": {
          "base_uri": "https://localhost:8080/"
        },
        "id": "upr5yl6MmSY5",
        "outputId": "b4cea94e-61ea-4d75-b81b-275d6b09d8f9"
      },
      "execution_count": null,
      "outputs": [
        {
          "output_type": "stream",
          "name": "stdout",
          "text": [
            "60분 동안 댓글이 달리지 않으면, 영상이 삭제됩니다. (챌린지)\n"
          ]
        }
      ]
    },
    {
      "cell_type": "markdown",
      "source": [
        "like 대비 dislike의 수가 가장 적은 영상은 무엇인가? (like, dislike 값이 0인경우는 제외한다)"
      ],
      "metadata": {
        "id": "64_UXKEonkDK"
      }
    },
    {
      "cell_type": "code",
      "source": [
        "target3 = df.loc[(df['dislikes'] != 0) & (df['likes'] != 0)]\n",
        "tt = target3.copy()\n",
        "tt['ratio'] = (target3['dislikes'] / target3['likes']).dropna()\n",
        "result = tt.sort_values(by = 'ratio').iloc[0].title\n",
        "print(result)\n",
        "\n",
        "\n",
        "# target = df.loc[(df.likes !=0) & (df.dislikes !=0)]\n",
        "# num = (target['dislikes']/target['likes']).sort_values().index[0]\n",
        "\n",
        "# answer = df.iloc[num].title\n",
        "# print(answer)"
      ],
      "metadata": {
        "colab": {
          "base_uri": "https://localhost:8080/"
        },
        "id": "_0MUBpifnm8a",
        "outputId": "e3f834f1-e57c-4cdb-956f-d5bf652b4861"
      },
      "execution_count": null,
      "outputs": [
        {
          "output_type": "stream",
          "name": "stdout",
          "text": [
            "[줌터뷰] *최초공개* 사부작즈🐰🐶의 비공식 이름은 아이라인즈? 꿀조합 티키타카 가득한 NCT 127 도영&정우의 줌터뷰\n"
          ]
        }
      ]
    },
    {
      "cell_type": "markdown",
      "source": [
        "가장많은 트렌드 영상을 제작한 채널의 이름은 무엇인가? (날짜기준, 중복포함)"
      ],
      "metadata": {
        "id": "57KdcTlGpMNn"
      }
    },
    {
      "cell_type": "code",
      "source": [
        "answer = df.loc[df.channelId == df.channelId.value_counts().index[0]].channelTitle.unique()"
      ],
      "metadata": {
        "id": "tYkvn5r9_YBc"
      },
      "execution_count": null,
      "outputs": []
    },
    {
      "cell_type": "code",
      "source": [
        "df.loc[df.channelId == df.channelId.value_counts().index[0]].channelTitle.unique()"
      ],
      "metadata": {
        "colab": {
          "base_uri": "https://localhost:8080/"
        },
        "id": "6FVIKlOY-V0V",
        "outputId": "c8dd1ef7-81b9-4b99-baf7-c43e4a0f878a"
      },
      "execution_count": null,
      "outputs": [
        {
          "output_type": "execute_result",
          "data": {
            "text/plain": [
              "array(['짤툰'], dtype=object)"
            ]
          },
          "metadata": {},
          "execution_count": 13
        }
      ]
    },
    {
      "cell_type": "markdown",
      "source": [
        "20회(20일)이상 인기동영상 리스트에 포함된 동영상의 숫자는?"
      ],
      "metadata": {
        "id": "8gyOlCbg_rxl"
      }
    },
    {
      "cell_type": "code",
      "source": [
        "answer = (df[['title', 'channelId']].value_counts()>= 20).sum()\n",
        "answer"
      ],
      "metadata": {
        "colab": {
          "base_uri": "https://localhost:8080/"
        },
        "id": "_QvDQdDe_6IR",
        "outputId": "74635ee3-4167-45d3-92ed-911bba241262"
      },
      "execution_count": 18,
      "outputs": [
        {
          "output_type": "execute_result",
          "data": {
            "text/plain": [
              "40"
            ]
          },
          "metadata": {},
          "execution_count": 18
        }
      ]
    },
    {
      "cell_type": "code",
      "source": [],
      "metadata": {
        "id": "beSjTYzrAHm_"
      },
      "execution_count": null,
      "outputs": []
    }
  ]
}
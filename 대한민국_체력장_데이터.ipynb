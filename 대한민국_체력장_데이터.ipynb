{
  "nbformat": 4,
  "nbformat_minor": 0,
  "metadata": {
    "colab": {
      "provenance": [],
      "authorship_tag": "ABX9TyNBEckX5dm9yqH1id3SMJyr",
      "include_colab_link": true
    },
    "kernelspec": {
      "name": "python3",
      "display_name": "Python 3"
    },
    "language_info": {
      "name": "python"
    }
  },
  "cells": [
    {
      "cell_type": "markdown",
      "metadata": {
        "id": "view-in-github",
        "colab_type": "text"
      },
      "source": [
        "<a href=\"https://colab.research.google.com/github/DDOYEONN/BigData_Analysis_Test/blob/main/%EB%8C%80%ED%95%9C%EB%AF%BC%EA%B5%AD_%EC%B2%B4%EB%A0%A5%EC%9E%A5_%EB%8D%B0%EC%9D%B4%ED%84%B0.ipynb\" target=\"_parent\"><img src=\"https://colab.research.google.com/assets/colab-badge.svg\" alt=\"Open In Colab\"/></a>"
      ]
    },
    {
      "cell_type": "code",
      "source": [
        "데이터 출처 : https://www.kaggle.com/shubh0799/churn-modelling 에서 변형\n",
        "데이터 설명 : 고객의 신상정보 데이터를 통한 회사 서비스 이탈 예측 (종속변수 : Exited)\n",
        "Data url : https://raw.githubusercontent.com/Datamanim/datarepo/main/churn/train.csv"
      ],
      "metadata": {
        "id": "RP6-8OArrEWW",
        "outputId": "9744f019-183e-48c1-cebf-35fcc92901b6",
        "colab": {
          "base_uri": "https://localhost:8080/",
          "height": 141
        }
      },
      "execution_count": 1,
      "outputs": [
        {
          "output_type": "error",
          "ename": "SyntaxError",
          "evalue": "ignored",
          "traceback": [
            "\u001b[0;36m  File \u001b[0;32m\"<ipython-input-1-8404b11eaf2c>\"\u001b[0;36m, line \u001b[0;32m1\u001b[0m\n\u001b[0;31m    데이터 출처 : https://www.kaggle.com/shubh0799/churn-modelling 에서 변형\u001b[0m\n\u001b[0m         ^\u001b[0m\n\u001b[0;31mSyntaxError\u001b[0m\u001b[0;31m:\u001b[0m invalid syntax\n"
          ]
        }
      ]
    },
    {
      "cell_type": "code",
      "execution_count": 2,
      "metadata": {
        "colab": {
          "base_uri": "https://localhost:8080/",
          "height": 268
        },
        "id": "Z-SgJEh0qrJT",
        "outputId": "cb8c13f2-782d-4e7c-8ec6-90637046d15a"
      },
      "outputs": [
        {
          "output_type": "execute_result",
          "data": {
            "text/plain": [
              "   측정나이 측정회원성별  신장 : cm  체중 : kg  체지방율 : %  이완기혈압(최저) : mmHg  \\\n",
              "0  59.0      M    175.0     70.6      19.2              91.0   \n",
              "1  40.0      F    161.4     45.8      21.7              62.0   \n",
              "2  27.0      M    176.6     84.8      19.2              87.0   \n",
              "3  38.0      M    167.6     76.7      24.7              63.0   \n",
              "4  21.0      M    165.2     66.2      21.5              83.0   \n",
              "\n",
              "   수축기혈압(최고) : mmHg  악력D : kg  앉아윗몸앞으로굽히기 : cm  교차윗몸일으키기 : 회  제자리 멀리뛰기 : cm 등급  \n",
              "0             150.0      40.6             12.2          30.0          179.0  C  \n",
              "1             119.0      22.1             16.0          32.0          165.0  B  \n",
              "2             153.0      45.9             13.2          61.0          216.0  B  \n",
              "3             132.0      43.6             16.0          45.0          231.0  A  \n",
              "4             106.0      33.5             10.6          46.0          198.0  C  "
            ],
            "text/html": [
              "\n",
              "  <div id=\"df-c3a42dc6-874a-47db-b563-864e93a7429c\">\n",
              "    <div class=\"colab-df-container\">\n",
              "      <div>\n",
              "<style scoped>\n",
              "    .dataframe tbody tr th:only-of-type {\n",
              "        vertical-align: middle;\n",
              "    }\n",
              "\n",
              "    .dataframe tbody tr th {\n",
              "        vertical-align: top;\n",
              "    }\n",
              "\n",
              "    .dataframe thead th {\n",
              "        text-align: right;\n",
              "    }\n",
              "</style>\n",
              "<table border=\"1\" class=\"dataframe\">\n",
              "  <thead>\n",
              "    <tr style=\"text-align: right;\">\n",
              "      <th></th>\n",
              "      <th>측정나이</th>\n",
              "      <th>측정회원성별</th>\n",
              "      <th>신장 : cm</th>\n",
              "      <th>체중 : kg</th>\n",
              "      <th>체지방율 : %</th>\n",
              "      <th>이완기혈압(최저) : mmHg</th>\n",
              "      <th>수축기혈압(최고) : mmHg</th>\n",
              "      <th>악력D : kg</th>\n",
              "      <th>앉아윗몸앞으로굽히기 : cm</th>\n",
              "      <th>교차윗몸일으키기 : 회</th>\n",
              "      <th>제자리 멀리뛰기 : cm</th>\n",
              "      <th>등급</th>\n",
              "    </tr>\n",
              "  </thead>\n",
              "  <tbody>\n",
              "    <tr>\n",
              "      <th>0</th>\n",
              "      <td>59.0</td>\n",
              "      <td>M</td>\n",
              "      <td>175.0</td>\n",
              "      <td>70.6</td>\n",
              "      <td>19.2</td>\n",
              "      <td>91.0</td>\n",
              "      <td>150.0</td>\n",
              "      <td>40.6</td>\n",
              "      <td>12.2</td>\n",
              "      <td>30.0</td>\n",
              "      <td>179.0</td>\n",
              "      <td>C</td>\n",
              "    </tr>\n",
              "    <tr>\n",
              "      <th>1</th>\n",
              "      <td>40.0</td>\n",
              "      <td>F</td>\n",
              "      <td>161.4</td>\n",
              "      <td>45.8</td>\n",
              "      <td>21.7</td>\n",
              "      <td>62.0</td>\n",
              "      <td>119.0</td>\n",
              "      <td>22.1</td>\n",
              "      <td>16.0</td>\n",
              "      <td>32.0</td>\n",
              "      <td>165.0</td>\n",
              "      <td>B</td>\n",
              "    </tr>\n",
              "    <tr>\n",
              "      <th>2</th>\n",
              "      <td>27.0</td>\n",
              "      <td>M</td>\n",
              "      <td>176.6</td>\n",
              "      <td>84.8</td>\n",
              "      <td>19.2</td>\n",
              "      <td>87.0</td>\n",
              "      <td>153.0</td>\n",
              "      <td>45.9</td>\n",
              "      <td>13.2</td>\n",
              "      <td>61.0</td>\n",
              "      <td>216.0</td>\n",
              "      <td>B</td>\n",
              "    </tr>\n",
              "    <tr>\n",
              "      <th>3</th>\n",
              "      <td>38.0</td>\n",
              "      <td>M</td>\n",
              "      <td>167.6</td>\n",
              "      <td>76.7</td>\n",
              "      <td>24.7</td>\n",
              "      <td>63.0</td>\n",
              "      <td>132.0</td>\n",
              "      <td>43.6</td>\n",
              "      <td>16.0</td>\n",
              "      <td>45.0</td>\n",
              "      <td>231.0</td>\n",
              "      <td>A</td>\n",
              "    </tr>\n",
              "    <tr>\n",
              "      <th>4</th>\n",
              "      <td>21.0</td>\n",
              "      <td>M</td>\n",
              "      <td>165.2</td>\n",
              "      <td>66.2</td>\n",
              "      <td>21.5</td>\n",
              "      <td>83.0</td>\n",
              "      <td>106.0</td>\n",
              "      <td>33.5</td>\n",
              "      <td>10.6</td>\n",
              "      <td>46.0</td>\n",
              "      <td>198.0</td>\n",
              "      <td>C</td>\n",
              "    </tr>\n",
              "  </tbody>\n",
              "</table>\n",
              "</div>\n",
              "      <button class=\"colab-df-convert\" onclick=\"convertToInteractive('df-c3a42dc6-874a-47db-b563-864e93a7429c')\"\n",
              "              title=\"Convert this dataframe to an interactive table.\"\n",
              "              style=\"display:none;\">\n",
              "        \n",
              "  <svg xmlns=\"http://www.w3.org/2000/svg\" height=\"24px\"viewBox=\"0 0 24 24\"\n",
              "       width=\"24px\">\n",
              "    <path d=\"M0 0h24v24H0V0z\" fill=\"none\"/>\n",
              "    <path d=\"M18.56 5.44l.94 2.06.94-2.06 2.06-.94-2.06-.94-.94-2.06-.94 2.06-2.06.94zm-11 1L8.5 8.5l.94-2.06 2.06-.94-2.06-.94L8.5 2.5l-.94 2.06-2.06.94zm10 10l.94 2.06.94-2.06 2.06-.94-2.06-.94-.94-2.06-.94 2.06-2.06.94z\"/><path d=\"M17.41 7.96l-1.37-1.37c-.4-.4-.92-.59-1.43-.59-.52 0-1.04.2-1.43.59L10.3 9.45l-7.72 7.72c-.78.78-.78 2.05 0 2.83L4 21.41c.39.39.9.59 1.41.59.51 0 1.02-.2 1.41-.59l7.78-7.78 2.81-2.81c.8-.78.8-2.07 0-2.86zM5.41 20L4 18.59l7.72-7.72 1.47 1.35L5.41 20z\"/>\n",
              "  </svg>\n",
              "      </button>\n",
              "      \n",
              "  <style>\n",
              "    .colab-df-container {\n",
              "      display:flex;\n",
              "      flex-wrap:wrap;\n",
              "      gap: 12px;\n",
              "    }\n",
              "\n",
              "    .colab-df-convert {\n",
              "      background-color: #E8F0FE;\n",
              "      border: none;\n",
              "      border-radius: 50%;\n",
              "      cursor: pointer;\n",
              "      display: none;\n",
              "      fill: #1967D2;\n",
              "      height: 32px;\n",
              "      padding: 0 0 0 0;\n",
              "      width: 32px;\n",
              "    }\n",
              "\n",
              "    .colab-df-convert:hover {\n",
              "      background-color: #E2EBFA;\n",
              "      box-shadow: 0px 1px 2px rgba(60, 64, 67, 0.3), 0px 1px 3px 1px rgba(60, 64, 67, 0.15);\n",
              "      fill: #174EA6;\n",
              "    }\n",
              "\n",
              "    [theme=dark] .colab-df-convert {\n",
              "      background-color: #3B4455;\n",
              "      fill: #D2E3FC;\n",
              "    }\n",
              "\n",
              "    [theme=dark] .colab-df-convert:hover {\n",
              "      background-color: #434B5C;\n",
              "      box-shadow: 0px 1px 3px 1px rgba(0, 0, 0, 0.15);\n",
              "      filter: drop-shadow(0px 1px 2px rgba(0, 0, 0, 0.3));\n",
              "      fill: #FFFFFF;\n",
              "    }\n",
              "  </style>\n",
              "\n",
              "      <script>\n",
              "        const buttonEl =\n",
              "          document.querySelector('#df-c3a42dc6-874a-47db-b563-864e93a7429c button.colab-df-convert');\n",
              "        buttonEl.style.display =\n",
              "          google.colab.kernel.accessAllowed ? 'block' : 'none';\n",
              "\n",
              "        async function convertToInteractive(key) {\n",
              "          const element = document.querySelector('#df-c3a42dc6-874a-47db-b563-864e93a7429c');\n",
              "          const dataTable =\n",
              "            await google.colab.kernel.invokeFunction('convertToInteractive',\n",
              "                                                     [key], {});\n",
              "          if (!dataTable) return;\n",
              "\n",
              "          const docLinkHtml = 'Like what you see? Visit the ' +\n",
              "            '<a target=\"_blank\" href=https://colab.research.google.com/notebooks/data_table.ipynb>data table notebook</a>'\n",
              "            + ' to learn more about interactive tables.';\n",
              "          element.innerHTML = '';\n",
              "          dataTable['output_type'] = 'display_data';\n",
              "          await google.colab.output.renderOutput(dataTable, element);\n",
              "          const docLink = document.createElement('div');\n",
              "          docLink.innerHTML = docLinkHtml;\n",
              "          element.appendChild(docLink);\n",
              "        }\n",
              "      </script>\n",
              "    </div>\n",
              "  </div>\n",
              "  "
            ]
          },
          "metadata": {},
          "execution_count": 2
        }
      ],
      "source": [
        "import pandas as pd\n",
        "df =pd.read_csv('https://raw.githubusercontent.com/Datamanim/datarepo/main/body/body.csv')\n",
        "df.head()"
      ]
    },
    {
      "cell_type": "markdown",
      "source": [
        "전체데이터의 수축기혈압(최고) - 이완기혈압(최저)의 평균을 구하여라"
      ],
      "metadata": {
        "id": "FFvmzesyq9ug"
      }
    },
    {
      "cell_type": "code",
      "source": [
        "answer = df['수축기혈압(최고) : mmHg'] - df['이완기혈압(최저) : mmHg']\n",
        "answer.mean()"
      ],
      "metadata": {
        "id": "DHMyu5HOrBXz"
      },
      "execution_count": null,
      "outputs": []
    },
    {
      "cell_type": "markdown",
      "source": [
        "50~59세의 신장평균을 구하여라"
      ],
      "metadata": {
        "id": "ky7fUjRVq_em"
      }
    },
    {
      "cell_type": "code",
      "source": [
        "condition1 = (df['측정나이'] >= 50) & (df['측정나이'] <= 59)\n",
        "condition1 "
      ],
      "metadata": {
        "id": "kksJD_Yvq7IZ"
      },
      "execution_count": null,
      "outputs": []
    },
    {
      "cell_type": "code",
      "source": [
        "#NAN\n",
        "df.loc[df['측정나이'] == condition1 ]['신장 : cm'].mean()"
      ],
      "metadata": {
        "colab": {
          "base_uri": "https://localhost:8080/"
        },
        "id": "1hlIFf_Yrjso",
        "outputId": "11a81085-af79-4fab-9b88-6215bdabbe70"
      },
      "execution_count": null,
      "outputs": [
        {
          "output_type": "execute_result",
          "data": {
            "text/plain": [
              "nan"
            ]
          },
          "metadata": {},
          "execution_count": 23
        }
      ]
    },
    {
      "cell_type": "code",
      "source": [
        "#조건 1. 길이가 같아야 한다. \n",
        "#불린값으로 loc에 넣으면 True인 행들이 지정된다.\n",
        "#불린값(행), : 전체 열로 뽑아짐\n",
        "df.loc[condition1,:]['신장 : cm'].mean()"
      ],
      "metadata": {
        "colab": {
          "base_uri": "https://localhost:8080/"
        },
        "id": "gU23ecATrxr2",
        "outputId": "98963196-652f-4a3d-b2bf-14cdaba9a1d7"
      },
      "execution_count": null,
      "outputs": [
        {
          "output_type": "execute_result",
          "data": {
            "text/plain": [
              "164.07490107405314"
            ]
          },
          "metadata": {},
          "execution_count": 24
        }
      ]
    },
    {
      "cell_type": "code",
      "source": [
        "df.loc[condition1,:]"
      ],
      "metadata": {
        "id": "uCvAdAMm58ao"
      },
      "execution_count": null,
      "outputs": []
    },
    {
      "cell_type": "markdown",
      "source": [
        "연령대 (20~29 : 20대 …) 별 인원수를 구하여라"
      ],
      "metadata": {
        "id": "2FJJRnWH6tZM"
      }
    },
    {
      "cell_type": "code",
      "source": [
        "#순서(1.df.측정나이 // 10 ) (2. *10)\n",
        "df['연령대'] = df.측정나이 // 10*10\n",
        "result = df['연령대'].value_counts()\n",
        "print(result)"
      ],
      "metadata": {
        "id": "1RPsz2rC-9oy",
        "outputId": "b6231b75-8a46-4389-ab3b-3bb675d27a89",
        "colab": {
          "base_uri": "https://localhost:8080/"
        }
      },
      "execution_count": null,
      "outputs": [
        {
          "output_type": "stream",
          "name": "stdout",
          "text": [
            "20.0    5831\n",
            "30.0    2660\n",
            "40.0    1801\n",
            "50.0    1769\n",
            "60.0    1335\n",
            "Name: 연령대, dtype: int64\n"
          ]
        }
      ]
    },
    {
      "cell_type": "code",
      "source": [
        "#몫 구하기\n",
        "25 //10"
      ],
      "metadata": {
        "id": "v3jOt-5d-JQ6",
        "outputId": "41ce7521-1c05-4769-baeb-ae5a2f312000",
        "colab": {
          "base_uri": "https://localhost:8080/"
        }
      },
      "execution_count": null,
      "outputs": [
        {
          "output_type": "execute_result",
          "data": {
            "text/plain": [
              "2"
            ]
          },
          "metadata": {},
          "execution_count": 11
        }
      ]
    },
    {
      "cell_type": "code",
      "source": [
        "#나머지 구하기\n",
        "25 % 10"
      ],
      "metadata": {
        "id": "opI1fhE0_Oew",
        "outputId": "afc90fa5-d6bb-4fc8-b6eb-e40f3e5dc354",
        "colab": {
          "base_uri": "https://localhost:8080/"
        }
      },
      "execution_count": null,
      "outputs": [
        {
          "output_type": "execute_result",
          "data": {
            "text/plain": [
              "5"
            ]
          },
          "metadata": {},
          "execution_count": 12
        }
      ]
    },
    {
      "cell_type": "markdown",
      "source": [
        "연령대 (20~29 : 20대 …) 별 등급의 숫자를 데이터 프레임으로 표현하라"
      ],
      "metadata": {
        "id": "AzKzoZwL_37z"
      }
    },
    {
      "cell_type": "code",
      "source": [
        "df['연령대'] = df['측정나이'] // 10 * 10"
      ],
      "metadata": {
        "id": "6V-Ajvlb_SDq"
      },
      "execution_count": null,
      "outputs": []
    },
    {
      "cell_type": "code",
      "source": [
        "condition = df['연령대'].value_counts()"
      ],
      "metadata": {
        "id": "erUaNDXw_-I3"
      },
      "execution_count": null,
      "outputs": []
    },
    {
      "cell_type": "code",
      "source": [
        "#시도1 - dataframe형태\n",
        "a = df[['연령대', '등급']].value_counts()\n",
        "pd.DataFrame(a)"
      ],
      "metadata": {
        "id": "9BUxUH1cAmuo"
      },
      "execution_count": null,
      "outputs": []
    },
    {
      "cell_type": "code",
      "source": [
        "#시도2\n",
        "df.groupby(['연령대','등급']).count()"
      ],
      "metadata": {
        "id": "ET2vRDwgA8dr"
      },
      "execution_count": null,
      "outputs": []
    },
    {
      "cell_type": "code",
      "source": [
        "# as_index = False 인덱스 0,1,2 형태로 둠\n",
        "result = df.groupby(['연령대','등급'],as_index=False).size()\n",
        "print(result)"
      ],
      "metadata": {
        "id": "yymOnJyVB9D_"
      },
      "execution_count": null,
      "outputs": []
    },
    {
      "cell_type": "markdown",
      "source": [
        "남성 중 A등급과 D등급의 체지방률 평균의 차이(큰 값에서 작은 값의 차)를 구하여라\n",
        "\n"
      ],
      "metadata": {
        "id": "clleCLmPEE3L"
      }
    },
    {
      "cell_type": "code",
      "source": [
        "#1. 남성 뽑고 \n",
        "# A등급 .체지방 평균 \n",
        "# D등급 체지방 평균 "
      ],
      "metadata": {
        "id": "3fcgERZyDLRp"
      },
      "execution_count": null,
      "outputs": []
    },
    {
      "cell_type": "code",
      "source": [
        "a = df.loc[(df['측정회원성별'] == 'M') & (df['등급'] == 'A')]['체지방율 : %'].mean()\n",
        "b = df.loc[(df['측정회원성별'] == 'M') & (df['등급'] == 'D')]['체지방율 : %'].mean()"
      ],
      "metadata": {
        "id": "Dzad11CEEqe-"
      },
      "execution_count": 13,
      "outputs": []
    },
    {
      "cell_type": "code",
      "source": [
        "print(a)\n",
        "print(b)"
      ],
      "metadata": {
        "id": "vr-qgcjXE1HY",
        "outputId": "c25b1288-552b-48d6-d1c7-a24beb2cfac2",
        "colab": {
          "base_uri": "https://localhost:8080/"
        }
      },
      "execution_count": 15,
      "outputs": [
        {
          "output_type": "stream",
          "name": "stdout",
          "text": [
            "16.880880844504023\n",
            "24.812967330641545\n"
          ]
        }
      ]
    },
    {
      "cell_type": "code",
      "source": [
        "answer = b - a\n",
        "answer"
      ],
      "metadata": {
        "id": "4bdmXklWGMxQ",
        "outputId": "945675c0-db2d-4d4a-dbce-42f3ed8cb2f0",
        "colab": {
          "base_uri": "https://localhost:8080/"
        }
      },
      "execution_count": 17,
      "outputs": [
        {
          "output_type": "execute_result",
          "data": {
            "text/plain": [
              "7.932086486137521"
            ]
          },
          "metadata": {},
          "execution_count": 17
        }
      ]
    },
    {
      "cell_type": "code",
      "source": [
        "abs(df[(df.측정회원성별 =='M') &(df.등급 =='A')].iloc[:,4].mean() -df[(df.측정회원성별 =='M') &(df.등급 =='D')].iloc[:,4].mean())\n",
        "print(result)"
      ],
      "metadata": {
        "id": "wSqk_RDjJMs7"
      },
      "execution_count": null,
      "outputs": []
    },
    {
      "cell_type": "markdown",
      "source": [
        "여성 중 A등급과 D등급의 체중의 평균의 차이(큰 값에서 작은 값의 차)를 구하여라"
      ],
      "metadata": {
        "id": "F3Z47LeIGegU"
      }
    },
    {
      "cell_type": "code",
      "source": [
        "a = df.loc[(df['측정회원성별'] == 'F') & (df['등급'] == 'A')]['체중 : kg'].mean()\n",
        "d = df.loc[(df['측정회원성별'] == 'F') & (df['등급'] == 'D')]['체중 : kg'].mean()"
      ],
      "metadata": {
        "id": "44sx8bu6GRNP"
      },
      "execution_count": 22,
      "outputs": []
    },
    {
      "cell_type": "code",
      "source": [
        "df[(df.측정회원성별 =='F') &(df.등급 =='D')].iloc[:,3].mean()"
      ],
      "metadata": {
        "id": "OrWtryYyIxHh",
        "outputId": "6370d6b7-6224-46ac-dfb5-9a2c6236e087",
        "colab": {
          "base_uri": "https://localhost:8080/"
        }
      },
      "execution_count": 30,
      "outputs": [
        {
          "output_type": "execute_result",
          "data": {
            "text/plain": [
              "60.69735714285715"
            ]
          },
          "metadata": {},
          "execution_count": 30
        }
      ]
    },
    {
      "cell_type": "code",
      "source": [
        "print(a)\n",
        "print(d)"
      ],
      "metadata": {
        "id": "gGs5oAI_HT9E",
        "outputId": "cbc5e36c-7578-46c2-b1dd-a375ea822b8d",
        "colab": {
          "base_uri": "https://localhost:8080/"
        }
      },
      "execution_count": 35,
      "outputs": [
        {
          "output_type": "stream",
          "name": "stdout",
          "text": [
            "55.52114555256065\n",
            "60.69735714285715\n"
          ]
        }
      ]
    },
    {
      "cell_type": "code",
      "source": [
        "answer = d - a\n",
        "answer"
      ],
      "metadata": {
        "id": "TxgYQC1FHilg",
        "outputId": "b38a81a4-811f-4b16-fc06-398bac4f554f",
        "colab": {
          "base_uri": "https://localhost:8080/"
        }
      },
      "execution_count": 37,
      "outputs": [
        {
          "output_type": "execute_result",
          "data": {
            "text/plain": [
              "5.176211590296504"
            ]
          },
          "metadata": {},
          "execution_count": 37
        }
      ]
    },
    {
      "cell_type": "code",
      "source": [
        "#iloc가 '체중'을 나타냄\n",
        "result = abs(df[(df.측정회원성별 =='F') &(df.등급 =='A')].iloc[:,3].mean() -df[(df.측정회원성별 =='F') &(df.등급 =='D')].iloc[:,3].mean())\n",
        "print(result)"
      ],
      "metadata": {
        "id": "BCUxrjZfHxHt",
        "outputId": "9b442d48-50b8-4803-c107-7642cd8762b0",
        "colab": {
          "base_uri": "https://localhost:8080/"
        }
      },
      "execution_count": 28,
      "outputs": [
        {
          "output_type": "stream",
          "name": "stdout",
          "text": [
            "5.176211590296504\n"
          ]
        }
      ]
    },
    {
      "cell_type": "code",
      "source": [
        "# loc와 iloc 같이 사용 가능\n",
        "df.loc[(df['측정회원성별'] == 'F') & (df['등급'] == 'A')].iloc[:,3]"
      ],
      "metadata": {
        "id": "cr67JlrbJpUj",
        "outputId": "26f06879-d986-490d-c1c3-654b3ff5f439",
        "colab": {
          "base_uri": "https://localhost:8080/"
        }
      },
      "execution_count": 38,
      "outputs": [
        {
          "output_type": "execute_result",
          "data": {
            "text/plain": [
              "16       56.5\n",
              "20       50.1\n",
              "21       56.0\n",
              "24       55.0\n",
              "28       59.5\n",
              "         ... \n",
              "13324    46.5\n",
              "13330    63.2\n",
              "13335    60.0\n",
              "13349    55.9\n",
              "13353    53.6\n",
              "Name: 체중 : kg, Length: 1484, dtype: float64"
            ]
          },
          "metadata": {},
          "execution_count": 38
        }
      ]
    },
    {
      "cell_type": "markdown",
      "source": [
        "bmi는 자신의 몸무게(kg)를 키의 제곱(m)으로 나눈값이다. 데이터의 bmi 를 구한 새로운 컬럼을 만들고 남성의 bmi 평균을 구하여라"
      ],
      "metadata": {
        "id": "XRAPZZ3lKiHi"
      }
    },
    {
      "cell_type": "code",
      "source": [
        "df.head()"
      ],
      "metadata": {
        "id": "Kg8Llf9LK1LU",
        "outputId": "d6110e2d-6d85-4309-dea8-94ba9e0f718e",
        "colab": {
          "base_uri": "https://localhost:8080/",
          "height": 268
        }
      },
      "execution_count": 39,
      "outputs": [
        {
          "output_type": "execute_result",
          "data": {
            "text/plain": [
              "   측정나이 측정회원성별  신장 : cm  체중 : kg  체지방율 : %  이완기혈압(최저) : mmHg  \\\n",
              "0  59.0      M    175.0     70.6      19.2              91.0   \n",
              "1  40.0      F    161.4     45.8      21.7              62.0   \n",
              "2  27.0      M    176.6     84.8      19.2              87.0   \n",
              "3  38.0      M    167.6     76.7      24.7              63.0   \n",
              "4  21.0      M    165.2     66.2      21.5              83.0   \n",
              "\n",
              "   수축기혈압(최고) : mmHg  악력D : kg  앉아윗몸앞으로굽히기 : cm  교차윗몸일으키기 : 회  제자리 멀리뛰기 : cm 등급  \n",
              "0             150.0      40.6             12.2          30.0          179.0  C  \n",
              "1             119.0      22.1             16.0          32.0          165.0  B  \n",
              "2             153.0      45.9             13.2          61.0          216.0  B  \n",
              "3             132.0      43.6             16.0          45.0          231.0  A  \n",
              "4             106.0      33.5             10.6          46.0          198.0  C  "
            ],
            "text/html": [
              "\n",
              "  <div id=\"df-fda156dc-c53a-427c-bec2-4a0f8728e7c2\">\n",
              "    <div class=\"colab-df-container\">\n",
              "      <div>\n",
              "<style scoped>\n",
              "    .dataframe tbody tr th:only-of-type {\n",
              "        vertical-align: middle;\n",
              "    }\n",
              "\n",
              "    .dataframe tbody tr th {\n",
              "        vertical-align: top;\n",
              "    }\n",
              "\n",
              "    .dataframe thead th {\n",
              "        text-align: right;\n",
              "    }\n",
              "</style>\n",
              "<table border=\"1\" class=\"dataframe\">\n",
              "  <thead>\n",
              "    <tr style=\"text-align: right;\">\n",
              "      <th></th>\n",
              "      <th>측정나이</th>\n",
              "      <th>측정회원성별</th>\n",
              "      <th>신장 : cm</th>\n",
              "      <th>체중 : kg</th>\n",
              "      <th>체지방율 : %</th>\n",
              "      <th>이완기혈압(최저) : mmHg</th>\n",
              "      <th>수축기혈압(최고) : mmHg</th>\n",
              "      <th>악력D : kg</th>\n",
              "      <th>앉아윗몸앞으로굽히기 : cm</th>\n",
              "      <th>교차윗몸일으키기 : 회</th>\n",
              "      <th>제자리 멀리뛰기 : cm</th>\n",
              "      <th>등급</th>\n",
              "    </tr>\n",
              "  </thead>\n",
              "  <tbody>\n",
              "    <tr>\n",
              "      <th>0</th>\n",
              "      <td>59.0</td>\n",
              "      <td>M</td>\n",
              "      <td>175.0</td>\n",
              "      <td>70.6</td>\n",
              "      <td>19.2</td>\n",
              "      <td>91.0</td>\n",
              "      <td>150.0</td>\n",
              "      <td>40.6</td>\n",
              "      <td>12.2</td>\n",
              "      <td>30.0</td>\n",
              "      <td>179.0</td>\n",
              "      <td>C</td>\n",
              "    </tr>\n",
              "    <tr>\n",
              "      <th>1</th>\n",
              "      <td>40.0</td>\n",
              "      <td>F</td>\n",
              "      <td>161.4</td>\n",
              "      <td>45.8</td>\n",
              "      <td>21.7</td>\n",
              "      <td>62.0</td>\n",
              "      <td>119.0</td>\n",
              "      <td>22.1</td>\n",
              "      <td>16.0</td>\n",
              "      <td>32.0</td>\n",
              "      <td>165.0</td>\n",
              "      <td>B</td>\n",
              "    </tr>\n",
              "    <tr>\n",
              "      <th>2</th>\n",
              "      <td>27.0</td>\n",
              "      <td>M</td>\n",
              "      <td>176.6</td>\n",
              "      <td>84.8</td>\n",
              "      <td>19.2</td>\n",
              "      <td>87.0</td>\n",
              "      <td>153.0</td>\n",
              "      <td>45.9</td>\n",
              "      <td>13.2</td>\n",
              "      <td>61.0</td>\n",
              "      <td>216.0</td>\n",
              "      <td>B</td>\n",
              "    </tr>\n",
              "    <tr>\n",
              "      <th>3</th>\n",
              "      <td>38.0</td>\n",
              "      <td>M</td>\n",
              "      <td>167.6</td>\n",
              "      <td>76.7</td>\n",
              "      <td>24.7</td>\n",
              "      <td>63.0</td>\n",
              "      <td>132.0</td>\n",
              "      <td>43.6</td>\n",
              "      <td>16.0</td>\n",
              "      <td>45.0</td>\n",
              "      <td>231.0</td>\n",
              "      <td>A</td>\n",
              "    </tr>\n",
              "    <tr>\n",
              "      <th>4</th>\n",
              "      <td>21.0</td>\n",
              "      <td>M</td>\n",
              "      <td>165.2</td>\n",
              "      <td>66.2</td>\n",
              "      <td>21.5</td>\n",
              "      <td>83.0</td>\n",
              "      <td>106.0</td>\n",
              "      <td>33.5</td>\n",
              "      <td>10.6</td>\n",
              "      <td>46.0</td>\n",
              "      <td>198.0</td>\n",
              "      <td>C</td>\n",
              "    </tr>\n",
              "  </tbody>\n",
              "</table>\n",
              "</div>\n",
              "      <button class=\"colab-df-convert\" onclick=\"convertToInteractive('df-fda156dc-c53a-427c-bec2-4a0f8728e7c2')\"\n",
              "              title=\"Convert this dataframe to an interactive table.\"\n",
              "              style=\"display:none;\">\n",
              "        \n",
              "  <svg xmlns=\"http://www.w3.org/2000/svg\" height=\"24px\"viewBox=\"0 0 24 24\"\n",
              "       width=\"24px\">\n",
              "    <path d=\"M0 0h24v24H0V0z\" fill=\"none\"/>\n",
              "    <path d=\"M18.56 5.44l.94 2.06.94-2.06 2.06-.94-2.06-.94-.94-2.06-.94 2.06-2.06.94zm-11 1L8.5 8.5l.94-2.06 2.06-.94-2.06-.94L8.5 2.5l-.94 2.06-2.06.94zm10 10l.94 2.06.94-2.06 2.06-.94-2.06-.94-.94-2.06-.94 2.06-2.06.94z\"/><path d=\"M17.41 7.96l-1.37-1.37c-.4-.4-.92-.59-1.43-.59-.52 0-1.04.2-1.43.59L10.3 9.45l-7.72 7.72c-.78.78-.78 2.05 0 2.83L4 21.41c.39.39.9.59 1.41.59.51 0 1.02-.2 1.41-.59l7.78-7.78 2.81-2.81c.8-.78.8-2.07 0-2.86zM5.41 20L4 18.59l7.72-7.72 1.47 1.35L5.41 20z\"/>\n",
              "  </svg>\n",
              "      </button>\n",
              "      \n",
              "  <style>\n",
              "    .colab-df-container {\n",
              "      display:flex;\n",
              "      flex-wrap:wrap;\n",
              "      gap: 12px;\n",
              "    }\n",
              "\n",
              "    .colab-df-convert {\n",
              "      background-color: #E8F0FE;\n",
              "      border: none;\n",
              "      border-radius: 50%;\n",
              "      cursor: pointer;\n",
              "      display: none;\n",
              "      fill: #1967D2;\n",
              "      height: 32px;\n",
              "      padding: 0 0 0 0;\n",
              "      width: 32px;\n",
              "    }\n",
              "\n",
              "    .colab-df-convert:hover {\n",
              "      background-color: #E2EBFA;\n",
              "      box-shadow: 0px 1px 2px rgba(60, 64, 67, 0.3), 0px 1px 3px 1px rgba(60, 64, 67, 0.15);\n",
              "      fill: #174EA6;\n",
              "    }\n",
              "\n",
              "    [theme=dark] .colab-df-convert {\n",
              "      background-color: #3B4455;\n",
              "      fill: #D2E3FC;\n",
              "    }\n",
              "\n",
              "    [theme=dark] .colab-df-convert:hover {\n",
              "      background-color: #434B5C;\n",
              "      box-shadow: 0px 1px 3px 1px rgba(0, 0, 0, 0.15);\n",
              "      filter: drop-shadow(0px 1px 2px rgba(0, 0, 0, 0.3));\n",
              "      fill: #FFFFFF;\n",
              "    }\n",
              "  </style>\n",
              "\n",
              "      <script>\n",
              "        const buttonEl =\n",
              "          document.querySelector('#df-fda156dc-c53a-427c-bec2-4a0f8728e7c2 button.colab-df-convert');\n",
              "        buttonEl.style.display =\n",
              "          google.colab.kernel.accessAllowed ? 'block' : 'none';\n",
              "\n",
              "        async function convertToInteractive(key) {\n",
              "          const element = document.querySelector('#df-fda156dc-c53a-427c-bec2-4a0f8728e7c2');\n",
              "          const dataTable =\n",
              "            await google.colab.kernel.invokeFunction('convertToInteractive',\n",
              "                                                     [key], {});\n",
              "          if (!dataTable) return;\n",
              "\n",
              "          const docLinkHtml = 'Like what you see? Visit the ' +\n",
              "            '<a target=\"_blank\" href=https://colab.research.google.com/notebooks/data_table.ipynb>data table notebook</a>'\n",
              "            + ' to learn more about interactive tables.';\n",
              "          element.innerHTML = '';\n",
              "          dataTable['output_type'] = 'display_data';\n",
              "          await google.colab.output.renderOutput(dataTable, element);\n",
              "          const docLink = document.createElement('div');\n",
              "          docLink.innerHTML = docLinkHtml;\n",
              "          element.appendChild(docLink);\n",
              "        }\n",
              "      </script>\n",
              "    </div>\n",
              "  </div>\n",
              "  "
            ]
          },
          "metadata": {},
          "execution_count": 39
        }
      ]
    },
    {
      "cell_type": "code",
      "source": [
        "#bmi구하는 법\n",
        "df['bmi'] = df['체중 : kg'] / (df['신장 : cm'] / 100) **2"
      ],
      "metadata": {
        "id": "7ck2dcLRKSgx"
      },
      "execution_count": 48,
      "outputs": []
    },
    {
      "cell_type": "code",
      "source": [
        "df[df['측정회원성별'] == 'M'].iloc[:,-1].mean()"
      ],
      "metadata": {
        "id": "5jLcvK6wK8hI",
        "outputId": "af9bbb36-f49f-4bc5-e406-2e6f463a7c0d",
        "colab": {
          "base_uri": "https://localhost:8080/"
        }
      },
      "execution_count": 49,
      "outputs": [
        {
          "output_type": "execute_result",
          "data": {
            "text/plain": [
              "24.46134409819308"
            ]
          },
          "metadata": {},
          "execution_count": 49
        }
      ]
    },
    {
      "cell_type": "code",
      "source": [
        "df[df['측정회원성별'] == 'M'].bmi.mean()"
      ],
      "metadata": {
        "id": "AHT07bRjK_5q",
        "outputId": "7c689528-e36d-4025-9c7b-3f514ec388af",
        "colab": {
          "base_uri": "https://localhost:8080/"
        }
      },
      "execution_count": 50,
      "outputs": [
        {
          "output_type": "execute_result",
          "data": {
            "text/plain": [
              "24.46134409819308"
            ]
          },
          "metadata": {},
          "execution_count": 50
        }
      ]
    },
    {
      "cell_type": "markdown",
      "source": [
        "bmi보다 체지방율이 높은 사람들의 체중평균을 구하여라"
      ],
      "metadata": {
        "id": "OnlRFILuL65n"
      }
    },
    {
      "cell_type": "code",
      "source": [
        "df.loc[df['bmi'] < df['체지방율 : %']]['체중 : kg'].mean()"
      ],
      "metadata": {
        "id": "yXcLb_lEMGR5",
        "outputId": "af240fcf-f6b8-4c6e-a738-f6a99b665990",
        "colab": {
          "base_uri": "https://localhost:8080/"
        }
      },
      "execution_count": 55,
      "outputs": [
        {
          "output_type": "execute_result",
          "data": {
            "text/plain": [
              "61.7408806392542"
            ]
          },
          "metadata": {},
          "execution_count": 55
        }
      ]
    },
    {
      "cell_type": "markdown",
      "source": [
        "남성과 여성의 악력 평균의 차이를 구하여라"
      ],
      "metadata": {
        "id": "qc0NJBrIMld0"
      }
    },
    {
      "cell_type": "code",
      "source": [
        "m = df[df['측정회원성별'] == 'M']['악력D : kg'].mean()\n",
        "f = df[df['측정회원성별'] == 'F']['악력D : kg'].mean()"
      ],
      "metadata": {
        "id": "dVMX-7lhMlU6"
      },
      "execution_count": 58,
      "outputs": []
    },
    {
      "cell_type": "code",
      "source": [
        "print(m, f)\n"
      ],
      "metadata": {
        "id": "fLfdie5qM0H6",
        "outputId": "e4d32bec-7111-4503-c768-3df72841d5fd",
        "colab": {
          "base_uri": "https://localhost:8080/"
        }
      },
      "execution_count": 59,
      "outputs": [
        {
          "output_type": "stream",
          "name": "stdout",
          "text": [
            "43.36538696418085 25.80584511370621\n"
          ]
        }
      ]
    },
    {
      "cell_type": "code",
      "source": [
        "answer = m - f \n",
        "print(answer)"
      ],
      "metadata": {
        "id": "EylPaDESM6f9",
        "outputId": "3df6ea9a-70a4-4faa-845f-cc05fe254dcb",
        "colab": {
          "base_uri": "https://localhost:8080/"
        }
      },
      "execution_count": 60,
      "outputs": [
        {
          "output_type": "stream",
          "name": "stdout",
          "text": [
            "17.55954185047464\n"
          ]
        }
      ]
    },
    {
      "cell_type": "markdown",
      "source": [
        "남성과 여성의 교차윗몸일으키기 횟수의 평균의 차이를 구하여라"
      ],
      "metadata": {
        "id": "Q14NqPjgND4p"
      }
    },
    {
      "cell_type": "code",
      "source": [
        "df.head()"
      ],
      "metadata": {
        "id": "7PeCDv-6MmMw",
        "outputId": "6fcce605-3f10-4066-e72c-813ce8bdcb77",
        "colab": {
          "base_uri": "https://localhost:8080/",
          "height": 268
        }
      },
      "execution_count": 61,
      "outputs": [
        {
          "output_type": "execute_result",
          "data": {
            "text/plain": [
              "   측정나이 측정회원성별  신장 : cm  체중 : kg  체지방율 : %  이완기혈압(최저) : mmHg  \\\n",
              "0  59.0      M    175.0     70.6      19.2              91.0   \n",
              "1  40.0      F    161.4     45.8      21.7              62.0   \n",
              "2  27.0      M    176.6     84.8      19.2              87.0   \n",
              "3  38.0      M    167.6     76.7      24.7              63.0   \n",
              "4  21.0      M    165.2     66.2      21.5              83.0   \n",
              "\n",
              "   수축기혈압(최고) : mmHg  악력D : kg  앉아윗몸앞으로굽히기 : cm  교차윗몸일으키기 : 회  제자리 멀리뛰기 : cm  \\\n",
              "0             150.0      40.6             12.2          30.0          179.0   \n",
              "1             119.0      22.1             16.0          32.0          165.0   \n",
              "2             153.0      45.9             13.2          61.0          216.0   \n",
              "3             132.0      43.6             16.0          45.0          231.0   \n",
              "4             106.0      33.5             10.6          46.0          198.0   \n",
              "\n",
              "  등급        bmi  \n",
              "0  C  23.053061  \n",
              "1  B  17.581601  \n",
              "2  B  27.190328  \n",
              "3  A  27.305324  \n",
              "4  C  24.257046  "
            ],
            "text/html": [
              "\n",
              "  <div id=\"df-8c4320ef-df31-4475-9f90-9c66513f95d7\">\n",
              "    <div class=\"colab-df-container\">\n",
              "      <div>\n",
              "<style scoped>\n",
              "    .dataframe tbody tr th:only-of-type {\n",
              "        vertical-align: middle;\n",
              "    }\n",
              "\n",
              "    .dataframe tbody tr th {\n",
              "        vertical-align: top;\n",
              "    }\n",
              "\n",
              "    .dataframe thead th {\n",
              "        text-align: right;\n",
              "    }\n",
              "</style>\n",
              "<table border=\"1\" class=\"dataframe\">\n",
              "  <thead>\n",
              "    <tr style=\"text-align: right;\">\n",
              "      <th></th>\n",
              "      <th>측정나이</th>\n",
              "      <th>측정회원성별</th>\n",
              "      <th>신장 : cm</th>\n",
              "      <th>체중 : kg</th>\n",
              "      <th>체지방율 : %</th>\n",
              "      <th>이완기혈압(최저) : mmHg</th>\n",
              "      <th>수축기혈압(최고) : mmHg</th>\n",
              "      <th>악력D : kg</th>\n",
              "      <th>앉아윗몸앞으로굽히기 : cm</th>\n",
              "      <th>교차윗몸일으키기 : 회</th>\n",
              "      <th>제자리 멀리뛰기 : cm</th>\n",
              "      <th>등급</th>\n",
              "      <th>bmi</th>\n",
              "    </tr>\n",
              "  </thead>\n",
              "  <tbody>\n",
              "    <tr>\n",
              "      <th>0</th>\n",
              "      <td>59.0</td>\n",
              "      <td>M</td>\n",
              "      <td>175.0</td>\n",
              "      <td>70.6</td>\n",
              "      <td>19.2</td>\n",
              "      <td>91.0</td>\n",
              "      <td>150.0</td>\n",
              "      <td>40.6</td>\n",
              "      <td>12.2</td>\n",
              "      <td>30.0</td>\n",
              "      <td>179.0</td>\n",
              "      <td>C</td>\n",
              "      <td>23.053061</td>\n",
              "    </tr>\n",
              "    <tr>\n",
              "      <th>1</th>\n",
              "      <td>40.0</td>\n",
              "      <td>F</td>\n",
              "      <td>161.4</td>\n",
              "      <td>45.8</td>\n",
              "      <td>21.7</td>\n",
              "      <td>62.0</td>\n",
              "      <td>119.0</td>\n",
              "      <td>22.1</td>\n",
              "      <td>16.0</td>\n",
              "      <td>32.0</td>\n",
              "      <td>165.0</td>\n",
              "      <td>B</td>\n",
              "      <td>17.581601</td>\n",
              "    </tr>\n",
              "    <tr>\n",
              "      <th>2</th>\n",
              "      <td>27.0</td>\n",
              "      <td>M</td>\n",
              "      <td>176.6</td>\n",
              "      <td>84.8</td>\n",
              "      <td>19.2</td>\n",
              "      <td>87.0</td>\n",
              "      <td>153.0</td>\n",
              "      <td>45.9</td>\n",
              "      <td>13.2</td>\n",
              "      <td>61.0</td>\n",
              "      <td>216.0</td>\n",
              "      <td>B</td>\n",
              "      <td>27.190328</td>\n",
              "    </tr>\n",
              "    <tr>\n",
              "      <th>3</th>\n",
              "      <td>38.0</td>\n",
              "      <td>M</td>\n",
              "      <td>167.6</td>\n",
              "      <td>76.7</td>\n",
              "      <td>24.7</td>\n",
              "      <td>63.0</td>\n",
              "      <td>132.0</td>\n",
              "      <td>43.6</td>\n",
              "      <td>16.0</td>\n",
              "      <td>45.0</td>\n",
              "      <td>231.0</td>\n",
              "      <td>A</td>\n",
              "      <td>27.305324</td>\n",
              "    </tr>\n",
              "    <tr>\n",
              "      <th>4</th>\n",
              "      <td>21.0</td>\n",
              "      <td>M</td>\n",
              "      <td>165.2</td>\n",
              "      <td>66.2</td>\n",
              "      <td>21.5</td>\n",
              "      <td>83.0</td>\n",
              "      <td>106.0</td>\n",
              "      <td>33.5</td>\n",
              "      <td>10.6</td>\n",
              "      <td>46.0</td>\n",
              "      <td>198.0</td>\n",
              "      <td>C</td>\n",
              "      <td>24.257046</td>\n",
              "    </tr>\n",
              "  </tbody>\n",
              "</table>\n",
              "</div>\n",
              "      <button class=\"colab-df-convert\" onclick=\"convertToInteractive('df-8c4320ef-df31-4475-9f90-9c66513f95d7')\"\n",
              "              title=\"Convert this dataframe to an interactive table.\"\n",
              "              style=\"display:none;\">\n",
              "        \n",
              "  <svg xmlns=\"http://www.w3.org/2000/svg\" height=\"24px\"viewBox=\"0 0 24 24\"\n",
              "       width=\"24px\">\n",
              "    <path d=\"M0 0h24v24H0V0z\" fill=\"none\"/>\n",
              "    <path d=\"M18.56 5.44l.94 2.06.94-2.06 2.06-.94-2.06-.94-.94-2.06-.94 2.06-2.06.94zm-11 1L8.5 8.5l.94-2.06 2.06-.94-2.06-.94L8.5 2.5l-.94 2.06-2.06.94zm10 10l.94 2.06.94-2.06 2.06-.94-2.06-.94-.94-2.06-.94 2.06-2.06.94z\"/><path d=\"M17.41 7.96l-1.37-1.37c-.4-.4-.92-.59-1.43-.59-.52 0-1.04.2-1.43.59L10.3 9.45l-7.72 7.72c-.78.78-.78 2.05 0 2.83L4 21.41c.39.39.9.59 1.41.59.51 0 1.02-.2 1.41-.59l7.78-7.78 2.81-2.81c.8-.78.8-2.07 0-2.86zM5.41 20L4 18.59l7.72-7.72 1.47 1.35L5.41 20z\"/>\n",
              "  </svg>\n",
              "      </button>\n",
              "      \n",
              "  <style>\n",
              "    .colab-df-container {\n",
              "      display:flex;\n",
              "      flex-wrap:wrap;\n",
              "      gap: 12px;\n",
              "    }\n",
              "\n",
              "    .colab-df-convert {\n",
              "      background-color: #E8F0FE;\n",
              "      border: none;\n",
              "      border-radius: 50%;\n",
              "      cursor: pointer;\n",
              "      display: none;\n",
              "      fill: #1967D2;\n",
              "      height: 32px;\n",
              "      padding: 0 0 0 0;\n",
              "      width: 32px;\n",
              "    }\n",
              "\n",
              "    .colab-df-convert:hover {\n",
              "      background-color: #E2EBFA;\n",
              "      box-shadow: 0px 1px 2px rgba(60, 64, 67, 0.3), 0px 1px 3px 1px rgba(60, 64, 67, 0.15);\n",
              "      fill: #174EA6;\n",
              "    }\n",
              "\n",
              "    [theme=dark] .colab-df-convert {\n",
              "      background-color: #3B4455;\n",
              "      fill: #D2E3FC;\n",
              "    }\n",
              "\n",
              "    [theme=dark] .colab-df-convert:hover {\n",
              "      background-color: #434B5C;\n",
              "      box-shadow: 0px 1px 3px 1px rgba(0, 0, 0, 0.15);\n",
              "      filter: drop-shadow(0px 1px 2px rgba(0, 0, 0, 0.3));\n",
              "      fill: #FFFFFF;\n",
              "    }\n",
              "  </style>\n",
              "\n",
              "      <script>\n",
              "        const buttonEl =\n",
              "          document.querySelector('#df-8c4320ef-df31-4475-9f90-9c66513f95d7 button.colab-df-convert');\n",
              "        buttonEl.style.display =\n",
              "          google.colab.kernel.accessAllowed ? 'block' : 'none';\n",
              "\n",
              "        async function convertToInteractive(key) {\n",
              "          const element = document.querySelector('#df-8c4320ef-df31-4475-9f90-9c66513f95d7');\n",
              "          const dataTable =\n",
              "            await google.colab.kernel.invokeFunction('convertToInteractive',\n",
              "                                                     [key], {});\n",
              "          if (!dataTable) return;\n",
              "\n",
              "          const docLinkHtml = 'Like what you see? Visit the ' +\n",
              "            '<a target=\"_blank\" href=https://colab.research.google.com/notebooks/data_table.ipynb>data table notebook</a>'\n",
              "            + ' to learn more about interactive tables.';\n",
              "          element.innerHTML = '';\n",
              "          dataTable['output_type'] = 'display_data';\n",
              "          await google.colab.output.renderOutput(dataTable, element);\n",
              "          const docLink = document.createElement('div');\n",
              "          docLink.innerHTML = docLinkHtml;\n",
              "          element.appendChild(docLink);\n",
              "        }\n",
              "      </script>\n",
              "    </div>\n",
              "  </div>\n",
              "  "
            ]
          },
          "metadata": {},
          "execution_count": 61
        }
      ]
    },
    {
      "cell_type": "code",
      "source": [
        "m = df[df['측정회원성별'] == 'M']['교차윗몸일으키기 : 회'].mean()\n",
        "f = df[df['측정회원성별'] == 'F']['교차윗몸일으키기 : 회'].mean()"
      ],
      "metadata": {
        "id": "WCqJ5XsKNBa2"
      },
      "execution_count": 63,
      "outputs": []
    },
    {
      "cell_type": "code",
      "source": [
        "answer = m - f\n",
        "print(answer)"
      ],
      "metadata": {
        "id": "DsqQTRPmNQkE",
        "outputId": "1879a416-bbf1-4420-b9eb-ab56241f1e2d",
        "colab": {
          "base_uri": "https://localhost:8080/"
        }
      },
      "execution_count": 65,
      "outputs": [
        {
          "output_type": "stream",
          "name": "stdout",
          "text": [
            "14.243156833157627\n"
          ]
        }
      ]
    },
    {
      "cell_type": "code",
      "source": [],
      "metadata": {
        "id": "mAtg54xwNacg"
      },
      "execution_count": null,
      "outputs": []
    }
  ]
}
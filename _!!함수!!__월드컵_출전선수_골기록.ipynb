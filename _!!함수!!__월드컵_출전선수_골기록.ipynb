{
  "nbformat": 4,
  "nbformat_minor": 0,
  "metadata": {
    "colab": {
      "provenance": [],
      "collapsed_sections": [],
      "authorship_tag": "ABX9TyPSViVrS6Aybys35+E2Ltas",
      "include_colab_link": true
    },
    "kernelspec": {
      "name": "python3",
      "display_name": "Python 3"
    },
    "language_info": {
      "name": "python"
    }
  },
  "cells": [
    {
      "cell_type": "markdown",
      "metadata": {
        "id": "view-in-github",
        "colab_type": "text"
      },
      "source": [
        "<a href=\"https://colab.research.google.com/github/DDOYEONN/BigData_Analysis_Test/blob/main/_!!%ED%95%A8%EC%88%98!!__%EC%9B%94%EB%93%9C%EC%BB%B5_%EC%B6%9C%EC%A0%84%EC%84%A0%EC%88%98_%EA%B3%A8%EA%B8%B0%EB%A1%9D.ipynb\" target=\"_parent\"><img src=\"https://colab.research.google.com/assets/colab-badge.svg\" alt=\"Open In Colab\"/></a>"
      ]
    },
    {
      "cell_type": "code",
      "execution_count": null,
      "metadata": {
        "id": "KUMxEtGpNqGE"
      },
      "outputs": [],
      "source": [
        "데이터 출처 :https://www.kaggle.com/darinhawley/fifa-world-cup-goalscorers-19302018(참고, 데이터 수정)\n",
        "데이터 설명 : 1930 ~2018년도 월드컵 출전선수 골기록\n",
        "data url = https://raw.githubusercontent.com/Datamanim/datarepo/main/worldcup/worldcupgoals.csv"
      ]
    },
    {
      "cell_type": "code",
      "source": [
        "import pandas as pd\n",
        "import numpy as np\n",
        "df= pd.read_csv('https://raw.githubusercontent.com/Datamanim/datarepo/main/worldcup/worldcupgoals.csv')\n",
        "df.head()"
      ],
      "metadata": {
        "colab": {
          "base_uri": "https://localhost:8080/",
          "height": 206
        },
        "id": "CWiCB-yjNyK7",
        "outputId": "069804f3-f36d-4d11-e5cb-94aec23c8322"
      },
      "execution_count": null,
      "outputs": [
        {
          "output_type": "execute_result",
          "data": {
            "text/plain": [
              "           Player  Goals                Years  Country\n",
              "0  Miroslav Klose     16  2002-2006-2010-2014  Germany\n",
              "1         Ronaldo     15       1998-2002-2006   Brazil\n",
              "2     Gerd Muller     14            1970-1974  Germany\n",
              "3   Just Fontaine     13                 1958   France\n",
              "4            Pele     12  1958-1962-1966-1970   Brazil"
            ],
            "text/html": [
              "\n",
              "  <div id=\"df-61a925b0-199e-4745-b413-8da5c356e06c\">\n",
              "    <div class=\"colab-df-container\">\n",
              "      <div>\n",
              "<style scoped>\n",
              "    .dataframe tbody tr th:only-of-type {\n",
              "        vertical-align: middle;\n",
              "    }\n",
              "\n",
              "    .dataframe tbody tr th {\n",
              "        vertical-align: top;\n",
              "    }\n",
              "\n",
              "    .dataframe thead th {\n",
              "        text-align: right;\n",
              "    }\n",
              "</style>\n",
              "<table border=\"1\" class=\"dataframe\">\n",
              "  <thead>\n",
              "    <tr style=\"text-align: right;\">\n",
              "      <th></th>\n",
              "      <th>Player</th>\n",
              "      <th>Goals</th>\n",
              "      <th>Years</th>\n",
              "      <th>Country</th>\n",
              "    </tr>\n",
              "  </thead>\n",
              "  <tbody>\n",
              "    <tr>\n",
              "      <th>0</th>\n",
              "      <td>Miroslav Klose</td>\n",
              "      <td>16</td>\n",
              "      <td>2002-2006-2010-2014</td>\n",
              "      <td>Germany</td>\n",
              "    </tr>\n",
              "    <tr>\n",
              "      <th>1</th>\n",
              "      <td>Ronaldo</td>\n",
              "      <td>15</td>\n",
              "      <td>1998-2002-2006</td>\n",
              "      <td>Brazil</td>\n",
              "    </tr>\n",
              "    <tr>\n",
              "      <th>2</th>\n",
              "      <td>Gerd Muller</td>\n",
              "      <td>14</td>\n",
              "      <td>1970-1974</td>\n",
              "      <td>Germany</td>\n",
              "    </tr>\n",
              "    <tr>\n",
              "      <th>3</th>\n",
              "      <td>Just Fontaine</td>\n",
              "      <td>13</td>\n",
              "      <td>1958</td>\n",
              "      <td>France</td>\n",
              "    </tr>\n",
              "    <tr>\n",
              "      <th>4</th>\n",
              "      <td>Pele</td>\n",
              "      <td>12</td>\n",
              "      <td>1958-1962-1966-1970</td>\n",
              "      <td>Brazil</td>\n",
              "    </tr>\n",
              "  </tbody>\n",
              "</table>\n",
              "</div>\n",
              "      <button class=\"colab-df-convert\" onclick=\"convertToInteractive('df-61a925b0-199e-4745-b413-8da5c356e06c')\"\n",
              "              title=\"Convert this dataframe to an interactive table.\"\n",
              "              style=\"display:none;\">\n",
              "        \n",
              "  <svg xmlns=\"http://www.w3.org/2000/svg\" height=\"24px\"viewBox=\"0 0 24 24\"\n",
              "       width=\"24px\">\n",
              "    <path d=\"M0 0h24v24H0V0z\" fill=\"none\"/>\n",
              "    <path d=\"M18.56 5.44l.94 2.06.94-2.06 2.06-.94-2.06-.94-.94-2.06-.94 2.06-2.06.94zm-11 1L8.5 8.5l.94-2.06 2.06-.94-2.06-.94L8.5 2.5l-.94 2.06-2.06.94zm10 10l.94 2.06.94-2.06 2.06-.94-2.06-.94-.94-2.06-.94 2.06-2.06.94z\"/><path d=\"M17.41 7.96l-1.37-1.37c-.4-.4-.92-.59-1.43-.59-.52 0-1.04.2-1.43.59L10.3 9.45l-7.72 7.72c-.78.78-.78 2.05 0 2.83L4 21.41c.39.39.9.59 1.41.59.51 0 1.02-.2 1.41-.59l7.78-7.78 2.81-2.81c.8-.78.8-2.07 0-2.86zM5.41 20L4 18.59l7.72-7.72 1.47 1.35L5.41 20z\"/>\n",
              "  </svg>\n",
              "      </button>\n",
              "      \n",
              "  <style>\n",
              "    .colab-df-container {\n",
              "      display:flex;\n",
              "      flex-wrap:wrap;\n",
              "      gap: 12px;\n",
              "    }\n",
              "\n",
              "    .colab-df-convert {\n",
              "      background-color: #E8F0FE;\n",
              "      border: none;\n",
              "      border-radius: 50%;\n",
              "      cursor: pointer;\n",
              "      display: none;\n",
              "      fill: #1967D2;\n",
              "      height: 32px;\n",
              "      padding: 0 0 0 0;\n",
              "      width: 32px;\n",
              "    }\n",
              "\n",
              "    .colab-df-convert:hover {\n",
              "      background-color: #E2EBFA;\n",
              "      box-shadow: 0px 1px 2px rgba(60, 64, 67, 0.3), 0px 1px 3px 1px rgba(60, 64, 67, 0.15);\n",
              "      fill: #174EA6;\n",
              "    }\n",
              "\n",
              "    [theme=dark] .colab-df-convert {\n",
              "      background-color: #3B4455;\n",
              "      fill: #D2E3FC;\n",
              "    }\n",
              "\n",
              "    [theme=dark] .colab-df-convert:hover {\n",
              "      background-color: #434B5C;\n",
              "      box-shadow: 0px 1px 3px 1px rgba(0, 0, 0, 0.15);\n",
              "      filter: drop-shadow(0px 1px 2px rgba(0, 0, 0, 0.3));\n",
              "      fill: #FFFFFF;\n",
              "    }\n",
              "  </style>\n",
              "\n",
              "      <script>\n",
              "        const buttonEl =\n",
              "          document.querySelector('#df-61a925b0-199e-4745-b413-8da5c356e06c button.colab-df-convert');\n",
              "        buttonEl.style.display =\n",
              "          google.colab.kernel.accessAllowed ? 'block' : 'none';\n",
              "\n",
              "        async function convertToInteractive(key) {\n",
              "          const element = document.querySelector('#df-61a925b0-199e-4745-b413-8da5c356e06c');\n",
              "          const dataTable =\n",
              "            await google.colab.kernel.invokeFunction('convertToInteractive',\n",
              "                                                     [key], {});\n",
              "          if (!dataTable) return;\n",
              "\n",
              "          const docLinkHtml = 'Like what you see? Visit the ' +\n",
              "            '<a target=\"_blank\" href=https://colab.research.google.com/notebooks/data_table.ipynb>data table notebook</a>'\n",
              "            + ' to learn more about interactive tables.';\n",
              "          element.innerHTML = '';\n",
              "          dataTable['output_type'] = 'display_data';\n",
              "          await google.colab.output.renderOutput(dataTable, element);\n",
              "          const docLink = document.createElement('div');\n",
              "          docLink.innerHTML = docLinkHtml;\n",
              "          element.appendChild(docLink);\n",
              "        }\n",
              "      </script>\n",
              "    </div>\n",
              "  </div>\n",
              "  "
            ]
          },
          "metadata": {},
          "execution_count": 1
        }
      ]
    },
    {
      "cell_type": "markdown",
      "source": [
        "주어진 전체 기간의 각 나라별 골득점수 상위 5개 국가와 그 득점수를 데이터프레임형태로 출력하라"
      ],
      "metadata": {
        "id": "UTk5fk1YN-T7"
      }
    },
    {
      "cell_type": "code",
      "source": [
        "#!!!!!!!!!!!!!!!!!!!!!!!!각 혹은 ~별이 문제에서 나왔을 경우 일단, groupby | value_counts()를 사용해보기 !!!!!!!!!!!!!!!!!!!!!!!!"
      ],
      "metadata": {
        "id": "y-MdgeOcTSbU"
      },
      "execution_count": null,
      "outputs": []
    },
    {
      "cell_type": "code",
      "source": [
        "#np.unique(df.Country)\n",
        "df['Country'].unique()"
      ],
      "metadata": {
        "colab": {
          "base_uri": "https://localhost:8080/"
        },
        "id": "G7ATaTDnSjHo",
        "outputId": "838d5887-8a7c-464b-9f58-add1e0fea9d3"
      },
      "execution_count": null,
      "outputs": [
        {
          "output_type": "execute_result",
          "data": {
            "text/plain": [
              "array(['Germany', 'Brazil', 'France', 'Hungary', 'Argentina', 'England',\n",
              "       'Peru', 'Poland', 'Italy', 'Portugal', 'Spain', 'Uruguay', 'Czech',\n",
              "       'Netherlands', 'Austria', 'Bulgaria', 'Colombia', 'Croatia',\n",
              "       'Ghana', 'Russia', 'Switzerland', 'Australia', 'Belgium',\n",
              "       'Cameroon', 'Denmark', 'Northern Ireland', 'Sweden', 'USA', 'USSR',\n",
              "       'Chile', 'Japan', 'Mexico', 'Nigeria', 'Romania', 'Slovakia',\n",
              "       'Yugoslavia', 'Costa Rica', 'Ecuador', 'Ireland', 'Paraguay',\n",
              "       'Saudi Arabia', 'Scotland', 'Senegal', 'South Korea', 'Turkey',\n",
              "       'Algeria', 'Cote dIvoire', 'Cuba', 'Czech Republic', 'Egypt',\n",
              "       'Haiti', 'Jamaica', 'Morocco', 'North Korea', 'Norway',\n",
              "       'South Africa', 'Tunisia', 'Ukraine', 'Wales', 'Angola', 'Bolivia',\n",
              "       'Bosnia Herz', 'El Salvador', 'Greece', 'Honduras', 'Iceland',\n",
              "       'Iran', 'Iraq', 'Israel', 'Kuwait', 'New Zealand', 'Panama',\n",
              "       'Serbia', 'Slovenia', 'Togo', 'UAE'], dtype=object)"
            ]
          },
          "metadata": {},
          "execution_count": 2
        }
      ]
    },
    {
      "cell_type": "code",
      "source": [
        "#각 나라의 선수가 몇 명인지 나옴\n",
        "#기준이 출전 선수의 골 기록이기 때문에 \n",
        "#count\n",
        "df.groupby('Country')['Goals'].count().sort_values(ascending = False)"
      ],
      "metadata": {
        "id": "MeH90bNcS-A6",
        "colab": {
          "base_uri": "https://localhost:8080/"
        },
        "outputId": "c5c3eb77-bb45-40b1-90e4-ecfde137d1dd"
      },
      "execution_count": null,
      "outputs": [
        {
          "output_type": "execute_result",
          "data": {
            "text/plain": [
              "Country\n",
              "Brazil       81\n",
              "Germany      78\n",
              "Italy        60\n",
              "Argentina    59\n",
              "France       58\n",
              "             ..\n",
              "Haiti         1\n",
              "Angola        1\n",
              "Bolivia       1\n",
              "Israel        1\n",
              "Iraq          1\n",
              "Name: Goals, Length: 76, dtype: int64"
            ]
          },
          "metadata": {},
          "execution_count": 3
        }
      ]
    },
    {
      "cell_type": "code",
      "source": [
        "#각 나라의 선수들이 넣은 골이 합산해지는 것.\n",
        "pd.DataFrame(df.groupby('Country')['Goals'].sum().sort_values(ascending = False).head(5))"
      ],
      "metadata": {
        "colab": {
          "base_uri": "https://localhost:8080/",
          "height": 238
        },
        "id": "XRuMMatSVhWX",
        "outputId": "f0070fb9-5015-445e-d7f3-52733f4a4cc8"
      },
      "execution_count": null,
      "outputs": [
        {
          "output_type": "execute_result",
          "data": {
            "text/plain": [
              "           Goals\n",
              "Country         \n",
              "Brazil       228\n",
              "Germany      226\n",
              "Argentina    135\n",
              "Italy        123\n",
              "France       115"
            ],
            "text/html": [
              "\n",
              "  <div id=\"df-38679a67-656e-450f-b3ac-9d678bff20de\">\n",
              "    <div class=\"colab-df-container\">\n",
              "      <div>\n",
              "<style scoped>\n",
              "    .dataframe tbody tr th:only-of-type {\n",
              "        vertical-align: middle;\n",
              "    }\n",
              "\n",
              "    .dataframe tbody tr th {\n",
              "        vertical-align: top;\n",
              "    }\n",
              "\n",
              "    .dataframe thead th {\n",
              "        text-align: right;\n",
              "    }\n",
              "</style>\n",
              "<table border=\"1\" class=\"dataframe\">\n",
              "  <thead>\n",
              "    <tr style=\"text-align: right;\">\n",
              "      <th></th>\n",
              "      <th>Goals</th>\n",
              "    </tr>\n",
              "    <tr>\n",
              "      <th>Country</th>\n",
              "      <th></th>\n",
              "    </tr>\n",
              "  </thead>\n",
              "  <tbody>\n",
              "    <tr>\n",
              "      <th>Brazil</th>\n",
              "      <td>228</td>\n",
              "    </tr>\n",
              "    <tr>\n",
              "      <th>Germany</th>\n",
              "      <td>226</td>\n",
              "    </tr>\n",
              "    <tr>\n",
              "      <th>Argentina</th>\n",
              "      <td>135</td>\n",
              "    </tr>\n",
              "    <tr>\n",
              "      <th>Italy</th>\n",
              "      <td>123</td>\n",
              "    </tr>\n",
              "    <tr>\n",
              "      <th>France</th>\n",
              "      <td>115</td>\n",
              "    </tr>\n",
              "  </tbody>\n",
              "</table>\n",
              "</div>\n",
              "      <button class=\"colab-df-convert\" onclick=\"convertToInteractive('df-38679a67-656e-450f-b3ac-9d678bff20de')\"\n",
              "              title=\"Convert this dataframe to an interactive table.\"\n",
              "              style=\"display:none;\">\n",
              "        \n",
              "  <svg xmlns=\"http://www.w3.org/2000/svg\" height=\"24px\"viewBox=\"0 0 24 24\"\n",
              "       width=\"24px\">\n",
              "    <path d=\"M0 0h24v24H0V0z\" fill=\"none\"/>\n",
              "    <path d=\"M18.56 5.44l.94 2.06.94-2.06 2.06-.94-2.06-.94-.94-2.06-.94 2.06-2.06.94zm-11 1L8.5 8.5l.94-2.06 2.06-.94-2.06-.94L8.5 2.5l-.94 2.06-2.06.94zm10 10l.94 2.06.94-2.06 2.06-.94-2.06-.94-.94-2.06-.94 2.06-2.06.94z\"/><path d=\"M17.41 7.96l-1.37-1.37c-.4-.4-.92-.59-1.43-.59-.52 0-1.04.2-1.43.59L10.3 9.45l-7.72 7.72c-.78.78-.78 2.05 0 2.83L4 21.41c.39.39.9.59 1.41.59.51 0 1.02-.2 1.41-.59l7.78-7.78 2.81-2.81c.8-.78.8-2.07 0-2.86zM5.41 20L4 18.59l7.72-7.72 1.47 1.35L5.41 20z\"/>\n",
              "  </svg>\n",
              "      </button>\n",
              "      \n",
              "  <style>\n",
              "    .colab-df-container {\n",
              "      display:flex;\n",
              "      flex-wrap:wrap;\n",
              "      gap: 12px;\n",
              "    }\n",
              "\n",
              "    .colab-df-convert {\n",
              "      background-color: #E8F0FE;\n",
              "      border: none;\n",
              "      border-radius: 50%;\n",
              "      cursor: pointer;\n",
              "      display: none;\n",
              "      fill: #1967D2;\n",
              "      height: 32px;\n",
              "      padding: 0 0 0 0;\n",
              "      width: 32px;\n",
              "    }\n",
              "\n",
              "    .colab-df-convert:hover {\n",
              "      background-color: #E2EBFA;\n",
              "      box-shadow: 0px 1px 2px rgba(60, 64, 67, 0.3), 0px 1px 3px 1px rgba(60, 64, 67, 0.15);\n",
              "      fill: #174EA6;\n",
              "    }\n",
              "\n",
              "    [theme=dark] .colab-df-convert {\n",
              "      background-color: #3B4455;\n",
              "      fill: #D2E3FC;\n",
              "    }\n",
              "\n",
              "    [theme=dark] .colab-df-convert:hover {\n",
              "      background-color: #434B5C;\n",
              "      box-shadow: 0px 1px 3px 1px rgba(0, 0, 0, 0.15);\n",
              "      filter: drop-shadow(0px 1px 2px rgba(0, 0, 0, 0.3));\n",
              "      fill: #FFFFFF;\n",
              "    }\n",
              "  </style>\n",
              "\n",
              "      <script>\n",
              "        const buttonEl =\n",
              "          document.querySelector('#df-38679a67-656e-450f-b3ac-9d678bff20de button.colab-df-convert');\n",
              "        buttonEl.style.display =\n",
              "          google.colab.kernel.accessAllowed ? 'block' : 'none';\n",
              "\n",
              "        async function convertToInteractive(key) {\n",
              "          const element = document.querySelector('#df-38679a67-656e-450f-b3ac-9d678bff20de');\n",
              "          const dataTable =\n",
              "            await google.colab.kernel.invokeFunction('convertToInteractive',\n",
              "                                                     [key], {});\n",
              "          if (!dataTable) return;\n",
              "\n",
              "          const docLinkHtml = 'Like what you see? Visit the ' +\n",
              "            '<a target=\"_blank\" href=https://colab.research.google.com/notebooks/data_table.ipynb>data table notebook</a>'\n",
              "            + ' to learn more about interactive tables.';\n",
              "          element.innerHTML = '';\n",
              "          dataTable['output_type'] = 'display_data';\n",
              "          await google.colab.output.renderOutput(dataTable, element);\n",
              "          const docLink = document.createElement('div');\n",
              "          docLink.innerHTML = docLinkHtml;\n",
              "          element.appendChild(docLink);\n",
              "        }\n",
              "      </script>\n",
              "    </div>\n",
              "  </div>\n",
              "  "
            ]
          },
          "metadata": {},
          "execution_count": 4
        }
      ]
    },
    {
      "cell_type": "markdown",
      "source": [
        "주어진 전체기간동안 골득점을 한 선수가 가장 많은 나라 상위 5개 국가와 그 선수 숫자를 데이터 프레임 형식으로 출력하라"
      ],
      "metadata": {
        "id": "I6VUN8BUV8fi"
      }
    },
    {
      "cell_type": "code",
      "source": [
        "pd.DataFrame(df.groupby('Country')['Goals'].count().sort_values(ascending = False).head(5))"
      ],
      "metadata": {
        "colab": {
          "base_uri": "https://localhost:8080/",
          "height": 238
        },
        "id": "QoqtQCy5QuZv",
        "outputId": "a3e1f73a-596e-42d6-90b9-a5d510abe5c9"
      },
      "execution_count": null,
      "outputs": [
        {
          "output_type": "execute_result",
          "data": {
            "text/plain": [
              "           Goals\n",
              "Country         \n",
              "Brazil        81\n",
              "Germany       78\n",
              "Italy         60\n",
              "Argentina     59\n",
              "France        58"
            ],
            "text/html": [
              "\n",
              "  <div id=\"df-e43831cf-3991-4eaf-bca4-5b65baf3f311\">\n",
              "    <div class=\"colab-df-container\">\n",
              "      <div>\n",
              "<style scoped>\n",
              "    .dataframe tbody tr th:only-of-type {\n",
              "        vertical-align: middle;\n",
              "    }\n",
              "\n",
              "    .dataframe tbody tr th {\n",
              "        vertical-align: top;\n",
              "    }\n",
              "\n",
              "    .dataframe thead th {\n",
              "        text-align: right;\n",
              "    }\n",
              "</style>\n",
              "<table border=\"1\" class=\"dataframe\">\n",
              "  <thead>\n",
              "    <tr style=\"text-align: right;\">\n",
              "      <th></th>\n",
              "      <th>Goals</th>\n",
              "    </tr>\n",
              "    <tr>\n",
              "      <th>Country</th>\n",
              "      <th></th>\n",
              "    </tr>\n",
              "  </thead>\n",
              "  <tbody>\n",
              "    <tr>\n",
              "      <th>Brazil</th>\n",
              "      <td>81</td>\n",
              "    </tr>\n",
              "    <tr>\n",
              "      <th>Germany</th>\n",
              "      <td>78</td>\n",
              "    </tr>\n",
              "    <tr>\n",
              "      <th>Italy</th>\n",
              "      <td>60</td>\n",
              "    </tr>\n",
              "    <tr>\n",
              "      <th>Argentina</th>\n",
              "      <td>59</td>\n",
              "    </tr>\n",
              "    <tr>\n",
              "      <th>France</th>\n",
              "      <td>58</td>\n",
              "    </tr>\n",
              "  </tbody>\n",
              "</table>\n",
              "</div>\n",
              "      <button class=\"colab-df-convert\" onclick=\"convertToInteractive('df-e43831cf-3991-4eaf-bca4-5b65baf3f311')\"\n",
              "              title=\"Convert this dataframe to an interactive table.\"\n",
              "              style=\"display:none;\">\n",
              "        \n",
              "  <svg xmlns=\"http://www.w3.org/2000/svg\" height=\"24px\"viewBox=\"0 0 24 24\"\n",
              "       width=\"24px\">\n",
              "    <path d=\"M0 0h24v24H0V0z\" fill=\"none\"/>\n",
              "    <path d=\"M18.56 5.44l.94 2.06.94-2.06 2.06-.94-2.06-.94-.94-2.06-.94 2.06-2.06.94zm-11 1L8.5 8.5l.94-2.06 2.06-.94-2.06-.94L8.5 2.5l-.94 2.06-2.06.94zm10 10l.94 2.06.94-2.06 2.06-.94-2.06-.94-.94-2.06-.94 2.06-2.06.94z\"/><path d=\"M17.41 7.96l-1.37-1.37c-.4-.4-.92-.59-1.43-.59-.52 0-1.04.2-1.43.59L10.3 9.45l-7.72 7.72c-.78.78-.78 2.05 0 2.83L4 21.41c.39.39.9.59 1.41.59.51 0 1.02-.2 1.41-.59l7.78-7.78 2.81-2.81c.8-.78.8-2.07 0-2.86zM5.41 20L4 18.59l7.72-7.72 1.47 1.35L5.41 20z\"/>\n",
              "  </svg>\n",
              "      </button>\n",
              "      \n",
              "  <style>\n",
              "    .colab-df-container {\n",
              "      display:flex;\n",
              "      flex-wrap:wrap;\n",
              "      gap: 12px;\n",
              "    }\n",
              "\n",
              "    .colab-df-convert {\n",
              "      background-color: #E8F0FE;\n",
              "      border: none;\n",
              "      border-radius: 50%;\n",
              "      cursor: pointer;\n",
              "      display: none;\n",
              "      fill: #1967D2;\n",
              "      height: 32px;\n",
              "      padding: 0 0 0 0;\n",
              "      width: 32px;\n",
              "    }\n",
              "\n",
              "    .colab-df-convert:hover {\n",
              "      background-color: #E2EBFA;\n",
              "      box-shadow: 0px 1px 2px rgba(60, 64, 67, 0.3), 0px 1px 3px 1px rgba(60, 64, 67, 0.15);\n",
              "      fill: #174EA6;\n",
              "    }\n",
              "\n",
              "    [theme=dark] .colab-df-convert {\n",
              "      background-color: #3B4455;\n",
              "      fill: #D2E3FC;\n",
              "    }\n",
              "\n",
              "    [theme=dark] .colab-df-convert:hover {\n",
              "      background-color: #434B5C;\n",
              "      box-shadow: 0px 1px 3px 1px rgba(0, 0, 0, 0.15);\n",
              "      filter: drop-shadow(0px 1px 2px rgba(0, 0, 0, 0.3));\n",
              "      fill: #FFFFFF;\n",
              "    }\n",
              "  </style>\n",
              "\n",
              "      <script>\n",
              "        const buttonEl =\n",
              "          document.querySelector('#df-e43831cf-3991-4eaf-bca4-5b65baf3f311 button.colab-df-convert');\n",
              "        buttonEl.style.display =\n",
              "          google.colab.kernel.accessAllowed ? 'block' : 'none';\n",
              "\n",
              "        async function convertToInteractive(key) {\n",
              "          const element = document.querySelector('#df-e43831cf-3991-4eaf-bca4-5b65baf3f311');\n",
              "          const dataTable =\n",
              "            await google.colab.kernel.invokeFunction('convertToInteractive',\n",
              "                                                     [key], {});\n",
              "          if (!dataTable) return;\n",
              "\n",
              "          const docLinkHtml = 'Like what you see? Visit the ' +\n",
              "            '<a target=\"_blank\" href=https://colab.research.google.com/notebooks/data_table.ipynb>data table notebook</a>'\n",
              "            + ' to learn more about interactive tables.';\n",
              "          element.innerHTML = '';\n",
              "          dataTable['output_type'] = 'display_data';\n",
              "          await google.colab.output.renderOutput(dataTable, element);\n",
              "          const docLink = document.createElement('div');\n",
              "          docLink.innerHTML = docLinkHtml;\n",
              "          element.appendChild(docLink);\n",
              "        }\n",
              "      </script>\n",
              "    </div>\n",
              "  </div>\n",
              "  "
            ]
          },
          "metadata": {},
          "execution_count": 6
        }
      ]
    },
    {
      "cell_type": "markdown",
      "source": [
        "Years 컬럼은 년도 -년도 형식으로 구성되어있고, 각 년도는 4자리 숫자이다. 년도 표기가 4자리 숫자로 안된 케이스가 존재한다. 해당 건은 몇건인지 출력하라"
      ],
      "metadata": {
        "id": "sxIS_SogWQI4"
      }
    },
    {
      "cell_type": "code",
      "source": [
        "df.head()"
      ],
      "metadata": {
        "colab": {
          "base_uri": "https://localhost:8080/",
          "height": 206
        },
        "id": "T6iacJJ-Wq3R",
        "outputId": "8478e207-9c62-49df-d2f7-a08f7f40c0d1"
      },
      "execution_count": null,
      "outputs": [
        {
          "output_type": "execute_result",
          "data": {
            "text/plain": [
              "           Player  Goals                Years  Country\n",
              "0  Miroslav Klose     16  2002-2006-2010-2014  Germany\n",
              "1         Ronaldo     15       1998-2002-2006   Brazil\n",
              "2     Gerd Muller     14            1970-1974  Germany\n",
              "3   Just Fontaine     13                 1958   France\n",
              "4            Pele     12  1958-1962-1966-1970   Brazil"
            ],
            "text/html": [
              "\n",
              "  <div id=\"df-d076bb6a-4b10-4056-a439-279c27522ea7\">\n",
              "    <div class=\"colab-df-container\">\n",
              "      <div>\n",
              "<style scoped>\n",
              "    .dataframe tbody tr th:only-of-type {\n",
              "        vertical-align: middle;\n",
              "    }\n",
              "\n",
              "    .dataframe tbody tr th {\n",
              "        vertical-align: top;\n",
              "    }\n",
              "\n",
              "    .dataframe thead th {\n",
              "        text-align: right;\n",
              "    }\n",
              "</style>\n",
              "<table border=\"1\" class=\"dataframe\">\n",
              "  <thead>\n",
              "    <tr style=\"text-align: right;\">\n",
              "      <th></th>\n",
              "      <th>Player</th>\n",
              "      <th>Goals</th>\n",
              "      <th>Years</th>\n",
              "      <th>Country</th>\n",
              "    </tr>\n",
              "  </thead>\n",
              "  <tbody>\n",
              "    <tr>\n",
              "      <th>0</th>\n",
              "      <td>Miroslav Klose</td>\n",
              "      <td>16</td>\n",
              "      <td>2002-2006-2010-2014</td>\n",
              "      <td>Germany</td>\n",
              "    </tr>\n",
              "    <tr>\n",
              "      <th>1</th>\n",
              "      <td>Ronaldo</td>\n",
              "      <td>15</td>\n",
              "      <td>1998-2002-2006</td>\n",
              "      <td>Brazil</td>\n",
              "    </tr>\n",
              "    <tr>\n",
              "      <th>2</th>\n",
              "      <td>Gerd Muller</td>\n",
              "      <td>14</td>\n",
              "      <td>1970-1974</td>\n",
              "      <td>Germany</td>\n",
              "    </tr>\n",
              "    <tr>\n",
              "      <th>3</th>\n",
              "      <td>Just Fontaine</td>\n",
              "      <td>13</td>\n",
              "      <td>1958</td>\n",
              "      <td>France</td>\n",
              "    </tr>\n",
              "    <tr>\n",
              "      <th>4</th>\n",
              "      <td>Pele</td>\n",
              "      <td>12</td>\n",
              "      <td>1958-1962-1966-1970</td>\n",
              "      <td>Brazil</td>\n",
              "    </tr>\n",
              "  </tbody>\n",
              "</table>\n",
              "</div>\n",
              "      <button class=\"colab-df-convert\" onclick=\"convertToInteractive('df-d076bb6a-4b10-4056-a439-279c27522ea7')\"\n",
              "              title=\"Convert this dataframe to an interactive table.\"\n",
              "              style=\"display:none;\">\n",
              "        \n",
              "  <svg xmlns=\"http://www.w3.org/2000/svg\" height=\"24px\"viewBox=\"0 0 24 24\"\n",
              "       width=\"24px\">\n",
              "    <path d=\"M0 0h24v24H0V0z\" fill=\"none\"/>\n",
              "    <path d=\"M18.56 5.44l.94 2.06.94-2.06 2.06-.94-2.06-.94-.94-2.06-.94 2.06-2.06.94zm-11 1L8.5 8.5l.94-2.06 2.06-.94-2.06-.94L8.5 2.5l-.94 2.06-2.06.94zm10 10l.94 2.06.94-2.06 2.06-.94-2.06-.94-.94-2.06-.94 2.06-2.06.94z\"/><path d=\"M17.41 7.96l-1.37-1.37c-.4-.4-.92-.59-1.43-.59-.52 0-1.04.2-1.43.59L10.3 9.45l-7.72 7.72c-.78.78-.78 2.05 0 2.83L4 21.41c.39.39.9.59 1.41.59.51 0 1.02-.2 1.41-.59l7.78-7.78 2.81-2.81c.8-.78.8-2.07 0-2.86zM5.41 20L4 18.59l7.72-7.72 1.47 1.35L5.41 20z\"/>\n",
              "  </svg>\n",
              "      </button>\n",
              "      \n",
              "  <style>\n",
              "    .colab-df-container {\n",
              "      display:flex;\n",
              "      flex-wrap:wrap;\n",
              "      gap: 12px;\n",
              "    }\n",
              "\n",
              "    .colab-df-convert {\n",
              "      background-color: #E8F0FE;\n",
              "      border: none;\n",
              "      border-radius: 50%;\n",
              "      cursor: pointer;\n",
              "      display: none;\n",
              "      fill: #1967D2;\n",
              "      height: 32px;\n",
              "      padding: 0 0 0 0;\n",
              "      width: 32px;\n",
              "    }\n",
              "\n",
              "    .colab-df-convert:hover {\n",
              "      background-color: #E2EBFA;\n",
              "      box-shadow: 0px 1px 2px rgba(60, 64, 67, 0.3), 0px 1px 3px 1px rgba(60, 64, 67, 0.15);\n",
              "      fill: #174EA6;\n",
              "    }\n",
              "\n",
              "    [theme=dark] .colab-df-convert {\n",
              "      background-color: #3B4455;\n",
              "      fill: #D2E3FC;\n",
              "    }\n",
              "\n",
              "    [theme=dark] .colab-df-convert:hover {\n",
              "      background-color: #434B5C;\n",
              "      box-shadow: 0px 1px 3px 1px rgba(0, 0, 0, 0.15);\n",
              "      filter: drop-shadow(0px 1px 2px rgba(0, 0, 0, 0.3));\n",
              "      fill: #FFFFFF;\n",
              "    }\n",
              "  </style>\n",
              "\n",
              "      <script>\n",
              "        const buttonEl =\n",
              "          document.querySelector('#df-d076bb6a-4b10-4056-a439-279c27522ea7 button.colab-df-convert');\n",
              "        buttonEl.style.display =\n",
              "          google.colab.kernel.accessAllowed ? 'block' : 'none';\n",
              "\n",
              "        async function convertToInteractive(key) {\n",
              "          const element = document.querySelector('#df-d076bb6a-4b10-4056-a439-279c27522ea7');\n",
              "          const dataTable =\n",
              "            await google.colab.kernel.invokeFunction('convertToInteractive',\n",
              "                                                     [key], {});\n",
              "          if (!dataTable) return;\n",
              "\n",
              "          const docLinkHtml = 'Like what you see? Visit the ' +\n",
              "            '<a target=\"_blank\" href=https://colab.research.google.com/notebooks/data_table.ipynb>data table notebook</a>'\n",
              "            + ' to learn more about interactive tables.';\n",
              "          element.innerHTML = '';\n",
              "          dataTable['output_type'] = 'display_data';\n",
              "          await google.colab.output.renderOutput(dataTable, element);\n",
              "          const docLink = document.createElement('div');\n",
              "          docLink.innerHTML = docLinkHtml;\n",
              "          element.appendChild(docLink);\n",
              "        }\n",
              "      </script>\n",
              "    </div>\n",
              "  </div>\n",
              "  "
            ]
          },
          "metadata": {},
          "execution_count": 7
        }
      ]
    },
    {
      "cell_type": "code",
      "source": [
        "df['yearLst'] = df.Years.str.split('-')\n",
        "\n",
        "def checkFour(x):\n",
        "    for value in x:\n",
        "        if len(str(value)) != 4:\n",
        "            return False\n",
        "\n",
        "    return True\n",
        "\n",
        "df['check'] = df['yearLst'].apply(checkFour)\n",
        "\n",
        "result = len(df[df.check == False])\n",
        "result"
      ],
      "metadata": {
        "id": "T8b8uZLBWo5N",
        "colab": {
          "base_uri": "https://localhost:8080/"
        },
        "outputId": "795bce88-47cb-4f9e-ef0a-3f84a16e922a"
      },
      "execution_count": null,
      "outputs": [
        {
          "output_type": "execute_result",
          "data": {
            "text/plain": [
              "45"
            ]
          },
          "metadata": {},
          "execution_count": 12
        }
      ]
    },
    {
      "cell_type": "markdown",
      "source": [
        "---"
      ],
      "metadata": {
        "id": "UjLJFFV7atqb"
      }
    },
    {
      "cell_type": "markdown",
      "source": [
        "apply"
      ],
      "metadata": {
        "id": "NDyd-OawnEU_"
      }
    },
    {
      "cell_type": "code",
      "source": [
        "import numpy as np\n",
        "import pandas as pd\n",
        "\n",
        "df = pd.DataFrame([[4,9],[1,4],[5,6]], columns = ['A','B'])\n",
        "df"
      ],
      "metadata": {
        "colab": {
          "base_uri": "https://localhost:8080/",
          "height": 143
        },
        "id": "hugpT3NMXiQK",
        "outputId": "6c4dde3e-14a4-4bf7-95e1-1fa572ced372"
      },
      "execution_count": null,
      "outputs": [
        {
          "output_type": "execute_result",
          "data": {
            "text/plain": [
              "   A  B\n",
              "0  4  9\n",
              "1  1  4\n",
              "2  5  6"
            ],
            "text/html": [
              "\n",
              "  <div id=\"df-c96200ee-ea4a-4f33-bbb0-f901de8e8b60\">\n",
              "    <div class=\"colab-df-container\">\n",
              "      <div>\n",
              "<style scoped>\n",
              "    .dataframe tbody tr th:only-of-type {\n",
              "        vertical-align: middle;\n",
              "    }\n",
              "\n",
              "    .dataframe tbody tr th {\n",
              "        vertical-align: top;\n",
              "    }\n",
              "\n",
              "    .dataframe thead th {\n",
              "        text-align: right;\n",
              "    }\n",
              "</style>\n",
              "<table border=\"1\" class=\"dataframe\">\n",
              "  <thead>\n",
              "    <tr style=\"text-align: right;\">\n",
              "      <th></th>\n",
              "      <th>A</th>\n",
              "      <th>B</th>\n",
              "    </tr>\n",
              "  </thead>\n",
              "  <tbody>\n",
              "    <tr>\n",
              "      <th>0</th>\n",
              "      <td>4</td>\n",
              "      <td>9</td>\n",
              "    </tr>\n",
              "    <tr>\n",
              "      <th>1</th>\n",
              "      <td>1</td>\n",
              "      <td>4</td>\n",
              "    </tr>\n",
              "    <tr>\n",
              "      <th>2</th>\n",
              "      <td>5</td>\n",
              "      <td>6</td>\n",
              "    </tr>\n",
              "  </tbody>\n",
              "</table>\n",
              "</div>\n",
              "      <button class=\"colab-df-convert\" onclick=\"convertToInteractive('df-c96200ee-ea4a-4f33-bbb0-f901de8e8b60')\"\n",
              "              title=\"Convert this dataframe to an interactive table.\"\n",
              "              style=\"display:none;\">\n",
              "        \n",
              "  <svg xmlns=\"http://www.w3.org/2000/svg\" height=\"24px\"viewBox=\"0 0 24 24\"\n",
              "       width=\"24px\">\n",
              "    <path d=\"M0 0h24v24H0V0z\" fill=\"none\"/>\n",
              "    <path d=\"M18.56 5.44l.94 2.06.94-2.06 2.06-.94-2.06-.94-.94-2.06-.94 2.06-2.06.94zm-11 1L8.5 8.5l.94-2.06 2.06-.94-2.06-.94L8.5 2.5l-.94 2.06-2.06.94zm10 10l.94 2.06.94-2.06 2.06-.94-2.06-.94-.94-2.06-.94 2.06-2.06.94z\"/><path d=\"M17.41 7.96l-1.37-1.37c-.4-.4-.92-.59-1.43-.59-.52 0-1.04.2-1.43.59L10.3 9.45l-7.72 7.72c-.78.78-.78 2.05 0 2.83L4 21.41c.39.39.9.59 1.41.59.51 0 1.02-.2 1.41-.59l7.78-7.78 2.81-2.81c.8-.78.8-2.07 0-2.86zM5.41 20L4 18.59l7.72-7.72 1.47 1.35L5.41 20z\"/>\n",
              "  </svg>\n",
              "      </button>\n",
              "      \n",
              "  <style>\n",
              "    .colab-df-container {\n",
              "      display:flex;\n",
              "      flex-wrap:wrap;\n",
              "      gap: 12px;\n",
              "    }\n",
              "\n",
              "    .colab-df-convert {\n",
              "      background-color: #E8F0FE;\n",
              "      border: none;\n",
              "      border-radius: 50%;\n",
              "      cursor: pointer;\n",
              "      display: none;\n",
              "      fill: #1967D2;\n",
              "      height: 32px;\n",
              "      padding: 0 0 0 0;\n",
              "      width: 32px;\n",
              "    }\n",
              "\n",
              "    .colab-df-convert:hover {\n",
              "      background-color: #E2EBFA;\n",
              "      box-shadow: 0px 1px 2px rgba(60, 64, 67, 0.3), 0px 1px 3px 1px rgba(60, 64, 67, 0.15);\n",
              "      fill: #174EA6;\n",
              "    }\n",
              "\n",
              "    [theme=dark] .colab-df-convert {\n",
              "      background-color: #3B4455;\n",
              "      fill: #D2E3FC;\n",
              "    }\n",
              "\n",
              "    [theme=dark] .colab-df-convert:hover {\n",
              "      background-color: #434B5C;\n",
              "      box-shadow: 0px 1px 3px 1px rgba(0, 0, 0, 0.15);\n",
              "      filter: drop-shadow(0px 1px 2px rgba(0, 0, 0, 0.3));\n",
              "      fill: #FFFFFF;\n",
              "    }\n",
              "  </style>\n",
              "\n",
              "      <script>\n",
              "        const buttonEl =\n",
              "          document.querySelector('#df-c96200ee-ea4a-4f33-bbb0-f901de8e8b60 button.colab-df-convert');\n",
              "        buttonEl.style.display =\n",
              "          google.colab.kernel.accessAllowed ? 'block' : 'none';\n",
              "\n",
              "        async function convertToInteractive(key) {\n",
              "          const element = document.querySelector('#df-c96200ee-ea4a-4f33-bbb0-f901de8e8b60');\n",
              "          const dataTable =\n",
              "            await google.colab.kernel.invokeFunction('convertToInteractive',\n",
              "                                                     [key], {});\n",
              "          if (!dataTable) return;\n",
              "\n",
              "          const docLinkHtml = 'Like what you see? Visit the ' +\n",
              "            '<a target=\"_blank\" href=https://colab.research.google.com/notebooks/data_table.ipynb>data table notebook</a>'\n",
              "            + ' to learn more about interactive tables.';\n",
              "          element.innerHTML = '';\n",
              "          dataTable['output_type'] = 'display_data';\n",
              "          await google.colab.output.renderOutput(dataTable, element);\n",
              "          const docLink = document.createElement('div');\n",
              "          docLink.innerHTML = docLinkHtml;\n",
              "          element.appendChild(docLink);\n",
              "        }\n",
              "      </script>\n",
              "    </div>\n",
              "  </div>\n",
              "  "
            ]
          },
          "metadata": {},
          "execution_count": 56
        }
      ]
    },
    {
      "cell_type": "code",
      "source": [
        "def plus_one(x):\n",
        "    x += 1\n",
        "    return x"
      ],
      "metadata": {
        "id": "sM9kEKPXXzZJ"
      },
      "execution_count": null,
      "outputs": []
    },
    {
      "cell_type": "code",
      "source": [
        "df['A'].apply(plus_one)"
      ],
      "metadata": {
        "colab": {
          "base_uri": "https://localhost:8080/"
        },
        "id": "sna-1PpCX67w",
        "outputId": "4ee92b37-f19b-4c65-c3d7-9636cdd2868c"
      },
      "execution_count": null,
      "outputs": [
        {
          "output_type": "execute_result",
          "data": {
            "text/plain": [
              "0    5\n",
              "1    2\n",
              "2    6\n",
              "Name: A, dtype: int64"
            ]
          },
          "metadata": {},
          "execution_count": 58
        }
      ]
    },
    {
      "cell_type": "code",
      "source": [
        "df['A'] = df['A'].apply(plus_one)"
      ],
      "metadata": {
        "id": "YEPGlzeKYDti"
      },
      "execution_count": null,
      "outputs": []
    },
    {
      "cell_type": "code",
      "source": [
        "df"
      ],
      "metadata": {
        "colab": {
          "base_uri": "https://localhost:8080/",
          "height": 143
        },
        "id": "qIledgBFYPKd",
        "outputId": "2725e848-28ab-4e79-9966-b7d965d74fdc"
      },
      "execution_count": null,
      "outputs": [
        {
          "output_type": "execute_result",
          "data": {
            "text/plain": [
              "   A  B\n",
              "0  5  9\n",
              "1  2  4\n",
              "2  6  6"
            ],
            "text/html": [
              "\n",
              "  <div id=\"df-f9eda956-9332-41bc-91b5-907b98927394\">\n",
              "    <div class=\"colab-df-container\">\n",
              "      <div>\n",
              "<style scoped>\n",
              "    .dataframe tbody tr th:only-of-type {\n",
              "        vertical-align: middle;\n",
              "    }\n",
              "\n",
              "    .dataframe tbody tr th {\n",
              "        vertical-align: top;\n",
              "    }\n",
              "\n",
              "    .dataframe thead th {\n",
              "        text-align: right;\n",
              "    }\n",
              "</style>\n",
              "<table border=\"1\" class=\"dataframe\">\n",
              "  <thead>\n",
              "    <tr style=\"text-align: right;\">\n",
              "      <th></th>\n",
              "      <th>A</th>\n",
              "      <th>B</th>\n",
              "    </tr>\n",
              "  </thead>\n",
              "  <tbody>\n",
              "    <tr>\n",
              "      <th>0</th>\n",
              "      <td>5</td>\n",
              "      <td>9</td>\n",
              "    </tr>\n",
              "    <tr>\n",
              "      <th>1</th>\n",
              "      <td>2</td>\n",
              "      <td>4</td>\n",
              "    </tr>\n",
              "    <tr>\n",
              "      <th>2</th>\n",
              "      <td>6</td>\n",
              "      <td>6</td>\n",
              "    </tr>\n",
              "  </tbody>\n",
              "</table>\n",
              "</div>\n",
              "      <button class=\"colab-df-convert\" onclick=\"convertToInteractive('df-f9eda956-9332-41bc-91b5-907b98927394')\"\n",
              "              title=\"Convert this dataframe to an interactive table.\"\n",
              "              style=\"display:none;\">\n",
              "        \n",
              "  <svg xmlns=\"http://www.w3.org/2000/svg\" height=\"24px\"viewBox=\"0 0 24 24\"\n",
              "       width=\"24px\">\n",
              "    <path d=\"M0 0h24v24H0V0z\" fill=\"none\"/>\n",
              "    <path d=\"M18.56 5.44l.94 2.06.94-2.06 2.06-.94-2.06-.94-.94-2.06-.94 2.06-2.06.94zm-11 1L8.5 8.5l.94-2.06 2.06-.94-2.06-.94L8.5 2.5l-.94 2.06-2.06.94zm10 10l.94 2.06.94-2.06 2.06-.94-2.06-.94-.94-2.06-.94 2.06-2.06.94z\"/><path d=\"M17.41 7.96l-1.37-1.37c-.4-.4-.92-.59-1.43-.59-.52 0-1.04.2-1.43.59L10.3 9.45l-7.72 7.72c-.78.78-.78 2.05 0 2.83L4 21.41c.39.39.9.59 1.41.59.51 0 1.02-.2 1.41-.59l7.78-7.78 2.81-2.81c.8-.78.8-2.07 0-2.86zM5.41 20L4 18.59l7.72-7.72 1.47 1.35L5.41 20z\"/>\n",
              "  </svg>\n",
              "      </button>\n",
              "      \n",
              "  <style>\n",
              "    .colab-df-container {\n",
              "      display:flex;\n",
              "      flex-wrap:wrap;\n",
              "      gap: 12px;\n",
              "    }\n",
              "\n",
              "    .colab-df-convert {\n",
              "      background-color: #E8F0FE;\n",
              "      border: none;\n",
              "      border-radius: 50%;\n",
              "      cursor: pointer;\n",
              "      display: none;\n",
              "      fill: #1967D2;\n",
              "      height: 32px;\n",
              "      padding: 0 0 0 0;\n",
              "      width: 32px;\n",
              "    }\n",
              "\n",
              "    .colab-df-convert:hover {\n",
              "      background-color: #E2EBFA;\n",
              "      box-shadow: 0px 1px 2px rgba(60, 64, 67, 0.3), 0px 1px 3px 1px rgba(60, 64, 67, 0.15);\n",
              "      fill: #174EA6;\n",
              "    }\n",
              "\n",
              "    [theme=dark] .colab-df-convert {\n",
              "      background-color: #3B4455;\n",
              "      fill: #D2E3FC;\n",
              "    }\n",
              "\n",
              "    [theme=dark] .colab-df-convert:hover {\n",
              "      background-color: #434B5C;\n",
              "      box-shadow: 0px 1px 3px 1px rgba(0, 0, 0, 0.15);\n",
              "      filter: drop-shadow(0px 1px 2px rgba(0, 0, 0, 0.3));\n",
              "      fill: #FFFFFF;\n",
              "    }\n",
              "  </style>\n",
              "\n",
              "      <script>\n",
              "        const buttonEl =\n",
              "          document.querySelector('#df-f9eda956-9332-41bc-91b5-907b98927394 button.colab-df-convert');\n",
              "        buttonEl.style.display =\n",
              "          google.colab.kernel.accessAllowed ? 'block' : 'none';\n",
              "\n",
              "        async function convertToInteractive(key) {\n",
              "          const element = document.querySelector('#df-f9eda956-9332-41bc-91b5-907b98927394');\n",
              "          const dataTable =\n",
              "            await google.colab.kernel.invokeFunction('convertToInteractive',\n",
              "                                                     [key], {});\n",
              "          if (!dataTable) return;\n",
              "\n",
              "          const docLinkHtml = 'Like what you see? Visit the ' +\n",
              "            '<a target=\"_blank\" href=https://colab.research.google.com/notebooks/data_table.ipynb>data table notebook</a>'\n",
              "            + ' to learn more about interactive tables.';\n",
              "          element.innerHTML = '';\n",
              "          dataTable['output_type'] = 'display_data';\n",
              "          await google.colab.output.renderOutput(dataTable, element);\n",
              "          const docLink = document.createElement('div');\n",
              "          docLink.innerHTML = docLinkHtml;\n",
              "          element.appendChild(docLink);\n",
              "        }\n",
              "      </script>\n",
              "    </div>\n",
              "  </div>\n",
              "  "
            ]
          },
          "metadata": {},
          "execution_count": 60
        }
      ]
    },
    {
      "cell_type": "code",
      "source": [
        "#단순한 사칙연산, 간단한 문자열 추출 lambda를 적용한 apply함수가 좋습니다. \n",
        "\"lambda 입력변수 : 리턴값\"\n",
        "def로 만드는 것 대신 lambda로 만들려면 'lambda입력값 : 결과값' 순서로 입력변수 \n",
        "적용을 시키기 위해서 apply(lambda 입력값 : 결과값)"
      ],
      "metadata": {
        "id": "M4i5v7UNYQn2"
      },
      "execution_count": null,
      "outputs": []
    },
    {
      "cell_type": "code",
      "source": [
        "df = pd.DataFrame([[4,9],[1,4],[5,6]], columns = ['A','B'])"
      ],
      "metadata": {
        "id": "jXgNERgvYiaC"
      },
      "execution_count": null,
      "outputs": []
    },
    {
      "cell_type": "code",
      "source": [
        "df['A'].apply(lambda x : x+1)"
      ],
      "metadata": {
        "colab": {
          "base_uri": "https://localhost:8080/"
        },
        "id": "cWtyjE0UY3nM",
        "outputId": "3be88a43-f8e7-4f69-9a62-b3c84f3e79b0"
      },
      "execution_count": null,
      "outputs": [
        {
          "output_type": "execute_result",
          "data": {
            "text/plain": [
              "0    5\n",
              "1    2\n",
              "2    6\n",
              "Name: A, dtype: int64"
            ]
          },
          "metadata": {},
          "execution_count": 62
        }
      ]
    },
    {
      "cell_type": "code",
      "source": [
        "df['A'] = df['A'].apply(lambda x : x+1)"
      ],
      "metadata": {
        "id": "UiUqiSPmY-BQ"
      },
      "execution_count": null,
      "outputs": []
    },
    {
      "cell_type": "code",
      "source": [
        "## 전체 바꾸기\n",
        "df = pd.DataFrame([[2,4,9],[3,1,4],[9,5,6]], columns = ['A','B','C'])\n",
        "df"
      ],
      "metadata": {
        "colab": {
          "base_uri": "https://localhost:8080/",
          "height": 143
        },
        "id": "LhjE27XTZDUq",
        "outputId": "881569bb-40e5-4252-a7ad-fd2fea2fb12d"
      },
      "execution_count": null,
      "outputs": [
        {
          "output_type": "execute_result",
          "data": {
            "text/plain": [
              "   A  B  C\n",
              "0  2  4  9\n",
              "1  3  1  4\n",
              "2  9  5  6"
            ],
            "text/html": [
              "\n",
              "  <div id=\"df-e163e7eb-cb60-483a-bad3-805715af8067\">\n",
              "    <div class=\"colab-df-container\">\n",
              "      <div>\n",
              "<style scoped>\n",
              "    .dataframe tbody tr th:only-of-type {\n",
              "        vertical-align: middle;\n",
              "    }\n",
              "\n",
              "    .dataframe tbody tr th {\n",
              "        vertical-align: top;\n",
              "    }\n",
              "\n",
              "    .dataframe thead th {\n",
              "        text-align: right;\n",
              "    }\n",
              "</style>\n",
              "<table border=\"1\" class=\"dataframe\">\n",
              "  <thead>\n",
              "    <tr style=\"text-align: right;\">\n",
              "      <th></th>\n",
              "      <th>A</th>\n",
              "      <th>B</th>\n",
              "      <th>C</th>\n",
              "    </tr>\n",
              "  </thead>\n",
              "  <tbody>\n",
              "    <tr>\n",
              "      <th>0</th>\n",
              "      <td>2</td>\n",
              "      <td>4</td>\n",
              "      <td>9</td>\n",
              "    </tr>\n",
              "    <tr>\n",
              "      <th>1</th>\n",
              "      <td>3</td>\n",
              "      <td>1</td>\n",
              "      <td>4</td>\n",
              "    </tr>\n",
              "    <tr>\n",
              "      <th>2</th>\n",
              "      <td>9</td>\n",
              "      <td>5</td>\n",
              "      <td>6</td>\n",
              "    </tr>\n",
              "  </tbody>\n",
              "</table>\n",
              "</div>\n",
              "      <button class=\"colab-df-convert\" onclick=\"convertToInteractive('df-e163e7eb-cb60-483a-bad3-805715af8067')\"\n",
              "              title=\"Convert this dataframe to an interactive table.\"\n",
              "              style=\"display:none;\">\n",
              "        \n",
              "  <svg xmlns=\"http://www.w3.org/2000/svg\" height=\"24px\"viewBox=\"0 0 24 24\"\n",
              "       width=\"24px\">\n",
              "    <path d=\"M0 0h24v24H0V0z\" fill=\"none\"/>\n",
              "    <path d=\"M18.56 5.44l.94 2.06.94-2.06 2.06-.94-2.06-.94-.94-2.06-.94 2.06-2.06.94zm-11 1L8.5 8.5l.94-2.06 2.06-.94-2.06-.94L8.5 2.5l-.94 2.06-2.06.94zm10 10l.94 2.06.94-2.06 2.06-.94-2.06-.94-.94-2.06-.94 2.06-2.06.94z\"/><path d=\"M17.41 7.96l-1.37-1.37c-.4-.4-.92-.59-1.43-.59-.52 0-1.04.2-1.43.59L10.3 9.45l-7.72 7.72c-.78.78-.78 2.05 0 2.83L4 21.41c.39.39.9.59 1.41.59.51 0 1.02-.2 1.41-.59l7.78-7.78 2.81-2.81c.8-.78.8-2.07 0-2.86zM5.41 20L4 18.59l7.72-7.72 1.47 1.35L5.41 20z\"/>\n",
              "  </svg>\n",
              "      </button>\n",
              "      \n",
              "  <style>\n",
              "    .colab-df-container {\n",
              "      display:flex;\n",
              "      flex-wrap:wrap;\n",
              "      gap: 12px;\n",
              "    }\n",
              "\n",
              "    .colab-df-convert {\n",
              "      background-color: #E8F0FE;\n",
              "      border: none;\n",
              "      border-radius: 50%;\n",
              "      cursor: pointer;\n",
              "      display: none;\n",
              "      fill: #1967D2;\n",
              "      height: 32px;\n",
              "      padding: 0 0 0 0;\n",
              "      width: 32px;\n",
              "    }\n",
              "\n",
              "    .colab-df-convert:hover {\n",
              "      background-color: #E2EBFA;\n",
              "      box-shadow: 0px 1px 2px rgba(60, 64, 67, 0.3), 0px 1px 3px 1px rgba(60, 64, 67, 0.15);\n",
              "      fill: #174EA6;\n",
              "    }\n",
              "\n",
              "    [theme=dark] .colab-df-convert {\n",
              "      background-color: #3B4455;\n",
              "      fill: #D2E3FC;\n",
              "    }\n",
              "\n",
              "    [theme=dark] .colab-df-convert:hover {\n",
              "      background-color: #434B5C;\n",
              "      box-shadow: 0px 1px 3px 1px rgba(0, 0, 0, 0.15);\n",
              "      filter: drop-shadow(0px 1px 2px rgba(0, 0, 0, 0.3));\n",
              "      fill: #FFFFFF;\n",
              "    }\n",
              "  </style>\n",
              "\n",
              "      <script>\n",
              "        const buttonEl =\n",
              "          document.querySelector('#df-e163e7eb-cb60-483a-bad3-805715af8067 button.colab-df-convert');\n",
              "        buttonEl.style.display =\n",
              "          google.colab.kernel.accessAllowed ? 'block' : 'none';\n",
              "\n",
              "        async function convertToInteractive(key) {\n",
              "          const element = document.querySelector('#df-e163e7eb-cb60-483a-bad3-805715af8067');\n",
              "          const dataTable =\n",
              "            await google.colab.kernel.invokeFunction('convertToInteractive',\n",
              "                                                     [key], {});\n",
              "          if (!dataTable) return;\n",
              "\n",
              "          const docLinkHtml = 'Like what you see? Visit the ' +\n",
              "            '<a target=\"_blank\" href=https://colab.research.google.com/notebooks/data_table.ipynb>data table notebook</a>'\n",
              "            + ' to learn more about interactive tables.';\n",
              "          element.innerHTML = '';\n",
              "          dataTable['output_type'] = 'display_data';\n",
              "          await google.colab.output.renderOutput(dataTable, element);\n",
              "          const docLink = document.createElement('div');\n",
              "          docLink.innerHTML = docLinkHtml;\n",
              "          element.appendChild(docLink);\n",
              "        }\n",
              "      </script>\n",
              "    </div>\n",
              "  </div>\n",
              "  "
            ]
          },
          "metadata": {},
          "execution_count": 69
        }
      ]
    },
    {
      "cell_type": "code",
      "source": [
        "#df값이 변한 것은 아님! 표 전체를 바꾸고 싶다면 값을 따로 할당해야 함\n",
        "df.apply(lambda x : x+1)"
      ],
      "metadata": {
        "colab": {
          "base_uri": "https://localhost:8080/",
          "height": 143
        },
        "id": "ZUogLY68ZgG3",
        "outputId": "cfbe3217-cbae-4d51-abc6-7a58ad75bea5"
      },
      "execution_count": null,
      "outputs": [
        {
          "output_type": "execute_result",
          "data": {
            "text/plain": [
              "    A  B   C\n",
              "0   3  5  10\n",
              "1   4  2   5\n",
              "2  10  6   7"
            ],
            "text/html": [
              "\n",
              "  <div id=\"df-e22e8618-87e8-4fe8-b077-c4313174543d\">\n",
              "    <div class=\"colab-df-container\">\n",
              "      <div>\n",
              "<style scoped>\n",
              "    .dataframe tbody tr th:only-of-type {\n",
              "        vertical-align: middle;\n",
              "    }\n",
              "\n",
              "    .dataframe tbody tr th {\n",
              "        vertical-align: top;\n",
              "    }\n",
              "\n",
              "    .dataframe thead th {\n",
              "        text-align: right;\n",
              "    }\n",
              "</style>\n",
              "<table border=\"1\" class=\"dataframe\">\n",
              "  <thead>\n",
              "    <tr style=\"text-align: right;\">\n",
              "      <th></th>\n",
              "      <th>A</th>\n",
              "      <th>B</th>\n",
              "      <th>C</th>\n",
              "    </tr>\n",
              "  </thead>\n",
              "  <tbody>\n",
              "    <tr>\n",
              "      <th>0</th>\n",
              "      <td>3</td>\n",
              "      <td>5</td>\n",
              "      <td>10</td>\n",
              "    </tr>\n",
              "    <tr>\n",
              "      <th>1</th>\n",
              "      <td>4</td>\n",
              "      <td>2</td>\n",
              "      <td>5</td>\n",
              "    </tr>\n",
              "    <tr>\n",
              "      <th>2</th>\n",
              "      <td>10</td>\n",
              "      <td>6</td>\n",
              "      <td>7</td>\n",
              "    </tr>\n",
              "  </tbody>\n",
              "</table>\n",
              "</div>\n",
              "      <button class=\"colab-df-convert\" onclick=\"convertToInteractive('df-e22e8618-87e8-4fe8-b077-c4313174543d')\"\n",
              "              title=\"Convert this dataframe to an interactive table.\"\n",
              "              style=\"display:none;\">\n",
              "        \n",
              "  <svg xmlns=\"http://www.w3.org/2000/svg\" height=\"24px\"viewBox=\"0 0 24 24\"\n",
              "       width=\"24px\">\n",
              "    <path d=\"M0 0h24v24H0V0z\" fill=\"none\"/>\n",
              "    <path d=\"M18.56 5.44l.94 2.06.94-2.06 2.06-.94-2.06-.94-.94-2.06-.94 2.06-2.06.94zm-11 1L8.5 8.5l.94-2.06 2.06-.94-2.06-.94L8.5 2.5l-.94 2.06-2.06.94zm10 10l.94 2.06.94-2.06 2.06-.94-2.06-.94-.94-2.06-.94 2.06-2.06.94z\"/><path d=\"M17.41 7.96l-1.37-1.37c-.4-.4-.92-.59-1.43-.59-.52 0-1.04.2-1.43.59L10.3 9.45l-7.72 7.72c-.78.78-.78 2.05 0 2.83L4 21.41c.39.39.9.59 1.41.59.51 0 1.02-.2 1.41-.59l7.78-7.78 2.81-2.81c.8-.78.8-2.07 0-2.86zM5.41 20L4 18.59l7.72-7.72 1.47 1.35L5.41 20z\"/>\n",
              "  </svg>\n",
              "      </button>\n",
              "      \n",
              "  <style>\n",
              "    .colab-df-container {\n",
              "      display:flex;\n",
              "      flex-wrap:wrap;\n",
              "      gap: 12px;\n",
              "    }\n",
              "\n",
              "    .colab-df-convert {\n",
              "      background-color: #E8F0FE;\n",
              "      border: none;\n",
              "      border-radius: 50%;\n",
              "      cursor: pointer;\n",
              "      display: none;\n",
              "      fill: #1967D2;\n",
              "      height: 32px;\n",
              "      padding: 0 0 0 0;\n",
              "      width: 32px;\n",
              "    }\n",
              "\n",
              "    .colab-df-convert:hover {\n",
              "      background-color: #E2EBFA;\n",
              "      box-shadow: 0px 1px 2px rgba(60, 64, 67, 0.3), 0px 1px 3px 1px rgba(60, 64, 67, 0.15);\n",
              "      fill: #174EA6;\n",
              "    }\n",
              "\n",
              "    [theme=dark] .colab-df-convert {\n",
              "      background-color: #3B4455;\n",
              "      fill: #D2E3FC;\n",
              "    }\n",
              "\n",
              "    [theme=dark] .colab-df-convert:hover {\n",
              "      background-color: #434B5C;\n",
              "      box-shadow: 0px 1px 3px 1px rgba(0, 0, 0, 0.15);\n",
              "      filter: drop-shadow(0px 1px 2px rgba(0, 0, 0, 0.3));\n",
              "      fill: #FFFFFF;\n",
              "    }\n",
              "  </style>\n",
              "\n",
              "      <script>\n",
              "        const buttonEl =\n",
              "          document.querySelector('#df-e22e8618-87e8-4fe8-b077-c4313174543d button.colab-df-convert');\n",
              "        buttonEl.style.display =\n",
              "          google.colab.kernel.accessAllowed ? 'block' : 'none';\n",
              "\n",
              "        async function convertToInteractive(key) {\n",
              "          const element = document.querySelector('#df-e22e8618-87e8-4fe8-b077-c4313174543d');\n",
              "          const dataTable =\n",
              "            await google.colab.kernel.invokeFunction('convertToInteractive',\n",
              "                                                     [key], {});\n",
              "          if (!dataTable) return;\n",
              "\n",
              "          const docLinkHtml = 'Like what you see? Visit the ' +\n",
              "            '<a target=\"_blank\" href=https://colab.research.google.com/notebooks/data_table.ipynb>data table notebook</a>'\n",
              "            + ' to learn more about interactive tables.';\n",
              "          element.innerHTML = '';\n",
              "          dataTable['output_type'] = 'display_data';\n",
              "          await google.colab.output.renderOutput(dataTable, element);\n",
              "          const docLink = document.createElement('div');\n",
              "          docLink.innerHTML = docLinkHtml;\n",
              "          element.appendChild(docLink);\n",
              "        }\n",
              "      </script>\n",
              "    </div>\n",
              "  </div>\n",
              "  "
            ]
          },
          "metadata": {},
          "execution_count": 68
        }
      ]
    },
    {
      "cell_type": "code",
      "source": [
        "df[['A','C']] = df[['A','C']].apply(plus_one)"
      ],
      "metadata": {
        "id": "y_1z0y7UZsnC"
      },
      "execution_count": null,
      "outputs": []
    },
    {
      "cell_type": "code",
      "source": [
        "df.apply(np.sqrt)"
      ],
      "metadata": {
        "colab": {
          "base_uri": "https://localhost:8080/",
          "height": 143
        },
        "id": "UtBNV7hLaFZb",
        "outputId": "aac963ce-8b79-428f-82bf-818bc5363506"
      },
      "execution_count": null,
      "outputs": [
        {
          "output_type": "execute_result",
          "data": {
            "text/plain": [
              "          A         B         C\n",
              "0  1.732051  2.000000  3.162278\n",
              "1  2.000000  1.000000  2.236068\n",
              "2  3.162278  2.236068  2.645751"
            ],
            "text/html": [
              "\n",
              "  <div id=\"df-2f985d3a-1bbd-4d38-b0b3-65a8a78b7781\">\n",
              "    <div class=\"colab-df-container\">\n",
              "      <div>\n",
              "<style scoped>\n",
              "    .dataframe tbody tr th:only-of-type {\n",
              "        vertical-align: middle;\n",
              "    }\n",
              "\n",
              "    .dataframe tbody tr th {\n",
              "        vertical-align: top;\n",
              "    }\n",
              "\n",
              "    .dataframe thead th {\n",
              "        text-align: right;\n",
              "    }\n",
              "</style>\n",
              "<table border=\"1\" class=\"dataframe\">\n",
              "  <thead>\n",
              "    <tr style=\"text-align: right;\">\n",
              "      <th></th>\n",
              "      <th>A</th>\n",
              "      <th>B</th>\n",
              "      <th>C</th>\n",
              "    </tr>\n",
              "  </thead>\n",
              "  <tbody>\n",
              "    <tr>\n",
              "      <th>0</th>\n",
              "      <td>1.732051</td>\n",
              "      <td>2.000000</td>\n",
              "      <td>3.162278</td>\n",
              "    </tr>\n",
              "    <tr>\n",
              "      <th>1</th>\n",
              "      <td>2.000000</td>\n",
              "      <td>1.000000</td>\n",
              "      <td>2.236068</td>\n",
              "    </tr>\n",
              "    <tr>\n",
              "      <th>2</th>\n",
              "      <td>3.162278</td>\n",
              "      <td>2.236068</td>\n",
              "      <td>2.645751</td>\n",
              "    </tr>\n",
              "  </tbody>\n",
              "</table>\n",
              "</div>\n",
              "      <button class=\"colab-df-convert\" onclick=\"convertToInteractive('df-2f985d3a-1bbd-4d38-b0b3-65a8a78b7781')\"\n",
              "              title=\"Convert this dataframe to an interactive table.\"\n",
              "              style=\"display:none;\">\n",
              "        \n",
              "  <svg xmlns=\"http://www.w3.org/2000/svg\" height=\"24px\"viewBox=\"0 0 24 24\"\n",
              "       width=\"24px\">\n",
              "    <path d=\"M0 0h24v24H0V0z\" fill=\"none\"/>\n",
              "    <path d=\"M18.56 5.44l.94 2.06.94-2.06 2.06-.94-2.06-.94-.94-2.06-.94 2.06-2.06.94zm-11 1L8.5 8.5l.94-2.06 2.06-.94-2.06-.94L8.5 2.5l-.94 2.06-2.06.94zm10 10l.94 2.06.94-2.06 2.06-.94-2.06-.94-.94-2.06-.94 2.06-2.06.94z\"/><path d=\"M17.41 7.96l-1.37-1.37c-.4-.4-.92-.59-1.43-.59-.52 0-1.04.2-1.43.59L10.3 9.45l-7.72 7.72c-.78.78-.78 2.05 0 2.83L4 21.41c.39.39.9.59 1.41.59.51 0 1.02-.2 1.41-.59l7.78-7.78 2.81-2.81c.8-.78.8-2.07 0-2.86zM5.41 20L4 18.59l7.72-7.72 1.47 1.35L5.41 20z\"/>\n",
              "  </svg>\n",
              "      </button>\n",
              "      \n",
              "  <style>\n",
              "    .colab-df-container {\n",
              "      display:flex;\n",
              "      flex-wrap:wrap;\n",
              "      gap: 12px;\n",
              "    }\n",
              "\n",
              "    .colab-df-convert {\n",
              "      background-color: #E8F0FE;\n",
              "      border: none;\n",
              "      border-radius: 50%;\n",
              "      cursor: pointer;\n",
              "      display: none;\n",
              "      fill: #1967D2;\n",
              "      height: 32px;\n",
              "      padding: 0 0 0 0;\n",
              "      width: 32px;\n",
              "    }\n",
              "\n",
              "    .colab-df-convert:hover {\n",
              "      background-color: #E2EBFA;\n",
              "      box-shadow: 0px 1px 2px rgba(60, 64, 67, 0.3), 0px 1px 3px 1px rgba(60, 64, 67, 0.15);\n",
              "      fill: #174EA6;\n",
              "    }\n",
              "\n",
              "    [theme=dark] .colab-df-convert {\n",
              "      background-color: #3B4455;\n",
              "      fill: #D2E3FC;\n",
              "    }\n",
              "\n",
              "    [theme=dark] .colab-df-convert:hover {\n",
              "      background-color: #434B5C;\n",
              "      box-shadow: 0px 1px 3px 1px rgba(0, 0, 0, 0.15);\n",
              "      filter: drop-shadow(0px 1px 2px rgba(0, 0, 0, 0.3));\n",
              "      fill: #FFFFFF;\n",
              "    }\n",
              "  </style>\n",
              "\n",
              "      <script>\n",
              "        const buttonEl =\n",
              "          document.querySelector('#df-2f985d3a-1bbd-4d38-b0b3-65a8a78b7781 button.colab-df-convert');\n",
              "        buttonEl.style.display =\n",
              "          google.colab.kernel.accessAllowed ? 'block' : 'none';\n",
              "\n",
              "        async function convertToInteractive(key) {\n",
              "          const element = document.querySelector('#df-2f985d3a-1bbd-4d38-b0b3-65a8a78b7781');\n",
              "          const dataTable =\n",
              "            await google.colab.kernel.invokeFunction('convertToInteractive',\n",
              "                                                     [key], {});\n",
              "          if (!dataTable) return;\n",
              "\n",
              "          const docLinkHtml = 'Like what you see? Visit the ' +\n",
              "            '<a target=\"_blank\" href=https://colab.research.google.com/notebooks/data_table.ipynb>data table notebook</a>'\n",
              "            + ' to learn more about interactive tables.';\n",
              "          element.innerHTML = '';\n",
              "          dataTable['output_type'] = 'display_data';\n",
              "          await google.colab.output.renderOutput(dataTable, element);\n",
              "          const docLink = document.createElement('div');\n",
              "          docLink.innerHTML = docLinkHtml;\n",
              "          element.appendChild(docLink);\n",
              "        }\n",
              "      </script>\n",
              "    </div>\n",
              "  </div>\n",
              "  "
            ]
          },
          "metadata": {},
          "execution_count": 71
        }
      ]
    },
    {
      "cell_type": "markdown",
      "source": [
        "---"
      ],
      "metadata": {
        "id": "KZNsYPrGawKq"
      }
    },
    {
      "cell_type": "markdown",
      "source": [
        "**Q3에서 발생한 예외 케이스를 제외한 데이터프레임을 df2라고 정의하고 데이터의 행의 숫자를 출력하라 (아래 문제부터는 df2로 풀이하겠습니다) **"
      ],
      "metadata": {
        "id": "OmFp7gywnX9t"
      }
    },
    {
      "cell_type": "code",
      "source": [
        "df2 = df[df.check ==True].reset_index(drop=True)\n",
        "print(df2.shape[0])"
      ],
      "metadata": {
        "id": "lgzWQg1vaL8W",
        "colab": {
          "base_uri": "https://localhost:8080/"
        },
        "outputId": "96e6b1c8-0cb3-4864-b716-119eefd91694"
      },
      "execution_count": null,
      "outputs": [
        {
          "output_type": "stream",
          "name": "stdout",
          "text": [
            "1250\n"
          ]
        }
      ]
    },
    {
      "cell_type": "markdown",
      "source": [
        "월드컵 출전횟수를 나타내는 ‘LenCup’ 컬럼을 추가하고 4회 출전한 선수의 숫자를 구하여라"
      ],
      "metadata": {
        "id": "bB4oG7smogve"
      }
    },
    {
      "cell_type": "code",
      "source": [
        "#데이터 타입\n",
        "#df.info() \n",
        "df.dtypes"
      ],
      "metadata": {
        "colab": {
          "base_uri": "https://localhost:8080/"
        },
        "id": "hIWZk2wqpE7f",
        "outputId": "581e3b1e-f192-4b49-c2fd-09346046676d"
      },
      "execution_count": null,
      "outputs": [
        {
          "output_type": "execute_result",
          "data": {
            "text/plain": [
              "Player     object\n",
              "Goals       int64\n",
              "Years      object\n",
              "Country    object\n",
              "yearLst    object\n",
              "check        bool\n",
              "dtype: object"
            ]
          },
          "metadata": {},
          "execution_count": 28
        }
      ]
    },
    {
      "cell_type": "code",
      "source": [
        "df2['LenCup'] = df2['yearLst'].str.len()\n",
        "result = df2['LenCup'].value_counts()[4]\n",
        "print(result)"
      ],
      "metadata": {
        "id": "RNtcqm2qodVE"
      },
      "execution_count": null,
      "outputs": []
    },
    {
      "cell_type": "markdown",
      "source": [
        "Yugoslavia 국가의 월드컵 출전횟수가 2회인 선수들의 숫자를 구하여라"
      ],
      "metadata": {
        "id": "_ytNUhfSs_Bk"
      }
    },
    {
      "cell_type": "code",
      "source": [
        "출전횟수 2회인 선수 \n",
        "yearLst ==2.Player "
      ],
      "metadata": {
        "id": "UmWHrR4ivUMG"
      },
      "execution_count": null,
      "outputs": []
    },
    {
      "cell_type": "code",
      "source": [
        "#c1 = condition_country1\n",
        "c1 = df[df.Country == 'Yugoslavia']\n",
        "len(c1[c1.LenCup == 2].Player)"
      ],
      "metadata": {
        "colab": {
          "base_uri": "https://localhost:8080/"
        },
        "id": "1oxM0msxs9-a",
        "outputId": "6da2118f-80ad-4700-9cbb-77e35ae535a1"
      },
      "execution_count": null,
      "outputs": [
        {
          "output_type": "execute_result",
          "data": {
            "text/plain": [
              "7"
            ]
          },
          "metadata": {},
          "execution_count": 57
        }
      ]
    },
    {
      "cell_type": "markdown",
      "source": [
        "2002년도에 출전한 전체 선수는 몇명인가?"
      ],
      "metadata": {
        "id": "f88isK_BwoEP"
      }
    },
    {
      "cell_type": "code",
      "source": [
        "df2.head()"
      ],
      "metadata": {
        "colab": {
          "base_uri": "https://localhost:8080/",
          "height": 206
        },
        "id": "pszW75ZDtBmF",
        "outputId": "7ce64df4-02f1-4de7-9b3d-93d293938dcf"
      },
      "execution_count": null,
      "outputs": [
        {
          "output_type": "execute_result",
          "data": {
            "text/plain": [
              "           Player  Goals                Years  Country  \\\n",
              "0  Miroslav Klose     16  2002-2006-2010-2014  Germany   \n",
              "1         Ronaldo     15       1998-2002-2006   Brazil   \n",
              "2     Gerd Muller     14            1970-1974  Germany   \n",
              "3   Just Fontaine     13                 1958   France   \n",
              "4            Pele     12  1958-1962-1966-1970   Brazil   \n",
              "\n",
              "                    yearLst  check  LenCup  \n",
              "0  [2002, 2006, 2010, 2014]   True       4  \n",
              "1        [1998, 2002, 2006]   True       3  \n",
              "2              [1970, 1974]   True       2  \n",
              "3                    [1958]   True       1  \n",
              "4  [1958, 1962, 1966, 1970]   True       4  "
            ],
            "text/html": [
              "\n",
              "  <div id=\"df-645d7457-681d-4696-b802-7c2878ae8a3d\">\n",
              "    <div class=\"colab-df-container\">\n",
              "      <div>\n",
              "<style scoped>\n",
              "    .dataframe tbody tr th:only-of-type {\n",
              "        vertical-align: middle;\n",
              "    }\n",
              "\n",
              "    .dataframe tbody tr th {\n",
              "        vertical-align: top;\n",
              "    }\n",
              "\n",
              "    .dataframe thead th {\n",
              "        text-align: right;\n",
              "    }\n",
              "</style>\n",
              "<table border=\"1\" class=\"dataframe\">\n",
              "  <thead>\n",
              "    <tr style=\"text-align: right;\">\n",
              "      <th></th>\n",
              "      <th>Player</th>\n",
              "      <th>Goals</th>\n",
              "      <th>Years</th>\n",
              "      <th>Country</th>\n",
              "      <th>yearLst</th>\n",
              "      <th>check</th>\n",
              "      <th>LenCup</th>\n",
              "    </tr>\n",
              "  </thead>\n",
              "  <tbody>\n",
              "    <tr>\n",
              "      <th>0</th>\n",
              "      <td>Miroslav Klose</td>\n",
              "      <td>16</td>\n",
              "      <td>2002-2006-2010-2014</td>\n",
              "      <td>Germany</td>\n",
              "      <td>[2002, 2006, 2010, 2014]</td>\n",
              "      <td>True</td>\n",
              "      <td>4</td>\n",
              "    </tr>\n",
              "    <tr>\n",
              "      <th>1</th>\n",
              "      <td>Ronaldo</td>\n",
              "      <td>15</td>\n",
              "      <td>1998-2002-2006</td>\n",
              "      <td>Brazil</td>\n",
              "      <td>[1998, 2002, 2006]</td>\n",
              "      <td>True</td>\n",
              "      <td>3</td>\n",
              "    </tr>\n",
              "    <tr>\n",
              "      <th>2</th>\n",
              "      <td>Gerd Muller</td>\n",
              "      <td>14</td>\n",
              "      <td>1970-1974</td>\n",
              "      <td>Germany</td>\n",
              "      <td>[1970, 1974]</td>\n",
              "      <td>True</td>\n",
              "      <td>2</td>\n",
              "    </tr>\n",
              "    <tr>\n",
              "      <th>3</th>\n",
              "      <td>Just Fontaine</td>\n",
              "      <td>13</td>\n",
              "      <td>1958</td>\n",
              "      <td>France</td>\n",
              "      <td>[1958]</td>\n",
              "      <td>True</td>\n",
              "      <td>1</td>\n",
              "    </tr>\n",
              "    <tr>\n",
              "      <th>4</th>\n",
              "      <td>Pele</td>\n",
              "      <td>12</td>\n",
              "      <td>1958-1962-1966-1970</td>\n",
              "      <td>Brazil</td>\n",
              "      <td>[1958, 1962, 1966, 1970]</td>\n",
              "      <td>True</td>\n",
              "      <td>4</td>\n",
              "    </tr>\n",
              "  </tbody>\n",
              "</table>\n",
              "</div>\n",
              "      <button class=\"colab-df-convert\" onclick=\"convertToInteractive('df-645d7457-681d-4696-b802-7c2878ae8a3d')\"\n",
              "              title=\"Convert this dataframe to an interactive table.\"\n",
              "              style=\"display:none;\">\n",
              "        \n",
              "  <svg xmlns=\"http://www.w3.org/2000/svg\" height=\"24px\"viewBox=\"0 0 24 24\"\n",
              "       width=\"24px\">\n",
              "    <path d=\"M0 0h24v24H0V0z\" fill=\"none\"/>\n",
              "    <path d=\"M18.56 5.44l.94 2.06.94-2.06 2.06-.94-2.06-.94-.94-2.06-.94 2.06-2.06.94zm-11 1L8.5 8.5l.94-2.06 2.06-.94-2.06-.94L8.5 2.5l-.94 2.06-2.06.94zm10 10l.94 2.06.94-2.06 2.06-.94-2.06-.94-.94-2.06-.94 2.06-2.06.94z\"/><path d=\"M17.41 7.96l-1.37-1.37c-.4-.4-.92-.59-1.43-.59-.52 0-1.04.2-1.43.59L10.3 9.45l-7.72 7.72c-.78.78-.78 2.05 0 2.83L4 21.41c.39.39.9.59 1.41.59.51 0 1.02-.2 1.41-.59l7.78-7.78 2.81-2.81c.8-.78.8-2.07 0-2.86zM5.41 20L4 18.59l7.72-7.72 1.47 1.35L5.41 20z\"/>\n",
              "  </svg>\n",
              "      </button>\n",
              "      \n",
              "  <style>\n",
              "    .colab-df-container {\n",
              "      display:flex;\n",
              "      flex-wrap:wrap;\n",
              "      gap: 12px;\n",
              "    }\n",
              "\n",
              "    .colab-df-convert {\n",
              "      background-color: #E8F0FE;\n",
              "      border: none;\n",
              "      border-radius: 50%;\n",
              "      cursor: pointer;\n",
              "      display: none;\n",
              "      fill: #1967D2;\n",
              "      height: 32px;\n",
              "      padding: 0 0 0 0;\n",
              "      width: 32px;\n",
              "    }\n",
              "\n",
              "    .colab-df-convert:hover {\n",
              "      background-color: #E2EBFA;\n",
              "      box-shadow: 0px 1px 2px rgba(60, 64, 67, 0.3), 0px 1px 3px 1px rgba(60, 64, 67, 0.15);\n",
              "      fill: #174EA6;\n",
              "    }\n",
              "\n",
              "    [theme=dark] .colab-df-convert {\n",
              "      background-color: #3B4455;\n",
              "      fill: #D2E3FC;\n",
              "    }\n",
              "\n",
              "    [theme=dark] .colab-df-convert:hover {\n",
              "      background-color: #434B5C;\n",
              "      box-shadow: 0px 1px 3px 1px rgba(0, 0, 0, 0.15);\n",
              "      filter: drop-shadow(0px 1px 2px rgba(0, 0, 0, 0.3));\n",
              "      fill: #FFFFFF;\n",
              "    }\n",
              "  </style>\n",
              "\n",
              "      <script>\n",
              "        const buttonEl =\n",
              "          document.querySelector('#df-645d7457-681d-4696-b802-7c2878ae8a3d button.colab-df-convert');\n",
              "        buttonEl.style.display =\n",
              "          google.colab.kernel.accessAllowed ? 'block' : 'none';\n",
              "\n",
              "        async function convertToInteractive(key) {\n",
              "          const element = document.querySelector('#df-645d7457-681d-4696-b802-7c2878ae8a3d');\n",
              "          const dataTable =\n",
              "            await google.colab.kernel.invokeFunction('convertToInteractive',\n",
              "                                                     [key], {});\n",
              "          if (!dataTable) return;\n",
              "\n",
              "          const docLinkHtml = 'Like what you see? Visit the ' +\n",
              "            '<a target=\"_blank\" href=https://colab.research.google.com/notebooks/data_table.ipynb>data table notebook</a>'\n",
              "            + ' to learn more about interactive tables.';\n",
              "          element.innerHTML = '';\n",
              "          dataTable['output_type'] = 'display_data';\n",
              "          await google.colab.output.renderOutput(dataTable, element);\n",
              "          const docLink = document.createElement('div');\n",
              "          docLink.innerHTML = docLinkHtml;\n",
              "          element.appendChild(docLink);\n",
              "        }\n",
              "      </script>\n",
              "    </div>\n",
              "  </div>\n",
              "  "
            ]
          },
          "metadata": {},
          "execution_count": 58
        }
      ]
    },
    {
      "cell_type": "code",
      "source": [
        "year = df2.yearLst\n",
        "year"
      ],
      "metadata": {
        "colab": {
          "base_uri": "https://localhost:8080/"
        },
        "id": "l2aRpICHwpGj",
        "outputId": "c5c5412c-3b71-4bad-954a-aaaec2dd23f5"
      },
      "execution_count": null,
      "outputs": [
        {
          "output_type": "execute_result",
          "data": {
            "text/plain": [
              "0       [2002, 2006, 2010, 2014]\n",
              "1             [1998, 2002, 2006]\n",
              "2                   [1970, 1974]\n",
              "3                         [1958]\n",
              "4       [1958, 1962, 1966, 1970]\n",
              "                  ...           \n",
              "1290                      [1962]\n",
              "1291                [1982, 1990]\n",
              "1292                      [1930]\n",
              "1293                      [1930]\n",
              "1294                [1954, 1958]\n",
              "Name: yearLst, Length: 1250, dtype: object"
            ]
          },
          "metadata": {},
          "execution_count": 70
        }
      ]
    },
    {
      "cell_type": "markdown",
      "source": [
        "![image.png](data:image/png;base64,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)\n",
        "\n",
        "True든 뭐든 조건이 적혀있고\n",
        "그 조건이 True일때만 도는게 while!\n",
        "\n",
        "![image.png](data:image/png;base64,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)\n"
      ],
      "metadata": {
        "id": "a9WRh7l7R_MT"
      }
    },
    {
      "cell_type": "code",
      "source": [
        "a = []\n",
        "for i in df2.yearLst:\n",
        "    if '2002' in i:\n",
        "        a.append(i)"
      ],
      "metadata": {
        "id": "6Ldp3QPGHVd1"
      },
      "execution_count": null,
      "outputs": []
    },
    {
      "cell_type": "code",
      "source": [
        "print(a)"
      ],
      "metadata": {
        "colab": {
          "base_uri": "https://localhost:8080/"
        },
        "id": "QvuakmHNH24H",
        "outputId": "51015a86-a862-4f7c-d891-56e9adfc43c9"
      },
      "execution_count": null,
      "outputs": [
        {
          "output_type": "stream",
          "name": "stdout",
          "text": [
            "[['2002', '2006', '2010', '2014'], ['1998', '2002', '2006'], ['1994', '1998', '2002'], ['1998', '2002'], ['1998', '2002'], ['1998', '2002'], ['1998', '2002', '2006', '2010'], ['2002', '2010'], ['1994', '1998', '2002'], ['2002', '2010'], ['1998', '2002', '2006'], ['1994', '1998', '2002'], ['1998', '2002'], ['1998', '2002', '2006'], ['2002', '2006', '2010'], ['1990', '1994', '2002'], ['1998', '2002', '2006'], ['1998', '2002', '2006'], ['1998', '2002'], ['1998', '2002'], ['2002', '2006'], ['1994', '2002', '2006'], ['2002', '2010'], ['2002', '2006'], ['2002', '2006'], ['2002', '2006'], ['1998', '2002', '2006'], ['2002', '2006'], ['2002'], ['1998', '2002', '2010'], ['2002', '2006', '2010', '2014'], ['2002', '2006'], ['1994', '1998', '2002', '2006'], ['2002'], ['2002', '2006'], ['2002', '2006', '2010'], ['2002'], ['1998', '2002', '2006'], ['1990', '1998', '2002'], ['1994', '1998', '2002'], ['2002', '2006'], ['1998', '2002'], ['2002', '2006', '2014'], ['2002', '2010'], ['2002', '2006'], ['1998', '2002'], ['1998', '2002', '2006'], ['1998', '2002', '2006'], ['2002', '2006'], ['1998', '2002', '2006'], ['2002', '2006'], ['2002', '2006', '2010'], ['1994', '1998', '2002'], ['2002', '2006'], ['2002'], ['1998', '2002'], ['1990', '1994', '1998', '2002'], ['1990', '1994', '2002'], ['1998', '2002'], ['1994', '1998', '2002'], ['2002'], ['2002'], ['1998', '2002'], ['1998', '2002'], ['2002'], ['2002'], ['2002'], ['1998', '2002', '2006'], ['2002'], ['2002'], ['2002', '2006', '2010'], ['1998', '2002'], ['2002'], ['2002'], ['1998', '2002'], ['2002', '2006'], ['2002'], ['1998', '2002'], ['1998', '2002'], ['1998', '2002', '2010'], ['1998', '2002'], ['2002', '2006'], ['2002', '2006'], ['1998', '2002', '2006'], ['2002', '2006', '2010'], ['2002', '2006'], ['2002', '2010'], ['1998', '2002'], ['1998', '2002'], ['1998', '2002'], ['1998', '2002', '2006'], ['2002'], ['2002', '2006'], ['2002'], ['2002'], ['2002', '2006'], ['2002'], ['2002'], ['2002'], ['1990', '2002'], ['1998', '2002'], ['2002', '2006'], ['2002', '2006'], ['2002', '2006', '2010'], ['2002'], ['1998', '2002', '2006'], ['1998', '2002'], ['2002'], ['2002', '2006', '2010'], ['2002'], ['1998', '2002'], ['1998', '2002'], ['1998', '2002'], ['1998', '2002'], ['2002', '2006', '2010'], ['2002'], ['2002'], ['2002'], ['2002'], ['2002'], ['2002', '2006'], ['2002'], ['1994', '2002'], ['2002'], ['2002'], ['2002'], ['2002'], ['2002'], ['2002'], ['1998', '2002'], ['2002'], ['2002', '2010'], ['1998', '2002'], ['2002', '2006'], ['2002', '2006'], ['2002', '2006'], ['2002', '2006'], ['2002'], ['2002', '2006', '2010'], ['2002'], ['2002', '2006'], ['2002', '2006'], ['2002', '2006'], ['2002', '2006'], ['2002'], ['2002', '2006'], ['2002', '2006'], ['2002'], ['2002'], ['2002'], ['2002'], ['2002'], ['2002'], ['2002'], ['2002', '2006'], ['1994', '1998', '2002']]\n"
          ]
        }
      ]
    },
    {
      "cell_type": "code",
      "source": [
        "len(a)"
      ],
      "metadata": {
        "colab": {
          "base_uri": "https://localhost:8080/"
        },
        "id": "SrCjWDoMH34K",
        "outputId": "b015671d-d944-4ebd-e99c-eba36d81b3b1"
      },
      "execution_count": null,
      "outputs": [
        {
          "output_type": "execute_result",
          "data": {
            "text/plain": [
              "156"
            ]
          },
          "metadata": {},
          "execution_count": 89
        }
      ]
    },
    {
      "cell_type": "code",
      "source": [
        "i = 0\n",
        "for a in df2.yearLst:\n",
        "    if '2002' in a:\n",
        "        i += 1"
      ],
      "metadata": {
        "id": "IxoMZTv8IKek"
      },
      "execution_count": null,
      "outputs": []
    },
    {
      "cell_type": "code",
      "source": [
        "print(i)"
      ],
      "metadata": {
        "colab": {
          "base_uri": "https://localhost:8080/"
        },
        "id": "1vJxHmYXIw9h",
        "outputId": "c66b488e-2ec9-45ea-9bde-0f8888c74975"
      },
      "execution_count": null,
      "outputs": [
        {
          "output_type": "stream",
          "name": "stdout",
          "text": [
            "156\n"
          ]
        }
      ]
    },
    {
      "cell_type": "code",
      "source": [
        "result = len(df2[df2.Years.str.contains('2002')])\n",
        "print(result)"
      ],
      "metadata": {
        "colab": {
          "base_uri": "https://localhost:8080/"
        },
        "id": "3DESBEW9JEO4",
        "outputId": "288323f0-1484-4679-dac2-fca8565fc822"
      },
      "execution_count": null,
      "outputs": [
        {
          "output_type": "stream",
          "name": "stdout",
          "text": [
            "156\n"
          ]
        }
      ]
    },
    {
      "cell_type": "code",
      "source": [
        "df2.Years.str.contains('2002')"
      ],
      "metadata": {
        "id": "_iwLo19zMgox"
      },
      "execution_count": null,
      "outputs": []
    },
    {
      "cell_type": "code",
      "source": [
        "df2.Years"
      ],
      "metadata": {
        "colab": {
          "base_uri": "https://localhost:8080/"
        },
        "id": "3Q1fiR6-MwKD",
        "outputId": "41e7267e-aaed-4df7-b2f0-19e1767e18d6"
      },
      "execution_count": 100,
      "outputs": [
        {
          "output_type": "execute_result",
          "data": {
            "text/plain": [
              "0       2002-2006-2010-2014\n",
              "1            1998-2002-2006\n",
              "2                 1970-1974\n",
              "3                      1958\n",
              "4       1958-1962-1966-1970\n",
              "               ...         \n",
              "1290                   1962\n",
              "1291              1982-1990\n",
              "1292                   1930\n",
              "1293                   1930\n",
              "1294              1954-1958\n",
              "Name: Years, Length: 1250, dtype: object"
            ]
          },
          "metadata": {},
          "execution_count": 100
        }
      ]
    },
    {
      "cell_type": "markdown",
      "source": [
        "이름에 ‘carlos’ 단어가 들어가는 선수의 숫자는 몇 명인가? (대, 소문자 구분 x)"
      ],
      "metadata": {
        "id": "mnDO_j2XJe6_"
      }
    },
    {
      "cell_type": "code",
      "source": [
        "df2.head()"
      ],
      "metadata": {
        "colab": {
          "base_uri": "https://localhost:8080/",
          "height": 206
        },
        "id": "2D5BXQznJMEg",
        "outputId": "7e8625fc-e3f5-4317-b443-2e5d38a21b46"
      },
      "execution_count": null,
      "outputs": [
        {
          "output_type": "execute_result",
          "data": {
            "text/plain": [
              "           Player  Goals                Years  Country  \\\n",
              "0  Miroslav Klose     16  2002-2006-2010-2014  Germany   \n",
              "1         Ronaldo     15       1998-2002-2006   Brazil   \n",
              "2     Gerd Muller     14            1970-1974  Germany   \n",
              "3   Just Fontaine     13                 1958   France   \n",
              "4            Pele     12  1958-1962-1966-1970   Brazil   \n",
              "\n",
              "                    yearLst  check  LenCup  \n",
              "0  [2002, 2006, 2010, 2014]   True       4  \n",
              "1        [1998, 2002, 2006]   True       3  \n",
              "2              [1970, 1974]   True       2  \n",
              "3                    [1958]   True       1  \n",
              "4  [1958, 1962, 1966, 1970]   True       4  "
            ],
            "text/html": [
              "\n",
              "  <div id=\"df-28faac40-ab9e-4094-a5b8-d6d6cc6d0e40\">\n",
              "    <div class=\"colab-df-container\">\n",
              "      <div>\n",
              "<style scoped>\n",
              "    .dataframe tbody tr th:only-of-type {\n",
              "        vertical-align: middle;\n",
              "    }\n",
              "\n",
              "    .dataframe tbody tr th {\n",
              "        vertical-align: top;\n",
              "    }\n",
              "\n",
              "    .dataframe thead th {\n",
              "        text-align: right;\n",
              "    }\n",
              "</style>\n",
              "<table border=\"1\" class=\"dataframe\">\n",
              "  <thead>\n",
              "    <tr style=\"text-align: right;\">\n",
              "      <th></th>\n",
              "      <th>Player</th>\n",
              "      <th>Goals</th>\n",
              "      <th>Years</th>\n",
              "      <th>Country</th>\n",
              "      <th>yearLst</th>\n",
              "      <th>check</th>\n",
              "      <th>LenCup</th>\n",
              "    </tr>\n",
              "  </thead>\n",
              "  <tbody>\n",
              "    <tr>\n",
              "      <th>0</th>\n",
              "      <td>Miroslav Klose</td>\n",
              "      <td>16</td>\n",
              "      <td>2002-2006-2010-2014</td>\n",
              "      <td>Germany</td>\n",
              "      <td>[2002, 2006, 2010, 2014]</td>\n",
              "      <td>True</td>\n",
              "      <td>4</td>\n",
              "    </tr>\n",
              "    <tr>\n",
              "      <th>1</th>\n",
              "      <td>Ronaldo</td>\n",
              "      <td>15</td>\n",
              "      <td>1998-2002-2006</td>\n",
              "      <td>Brazil</td>\n",
              "      <td>[1998, 2002, 2006]</td>\n",
              "      <td>True</td>\n",
              "      <td>3</td>\n",
              "    </tr>\n",
              "    <tr>\n",
              "      <th>2</th>\n",
              "      <td>Gerd Muller</td>\n",
              "      <td>14</td>\n",
              "      <td>1970-1974</td>\n",
              "      <td>Germany</td>\n",
              "      <td>[1970, 1974]</td>\n",
              "      <td>True</td>\n",
              "      <td>2</td>\n",
              "    </tr>\n",
              "    <tr>\n",
              "      <th>3</th>\n",
              "      <td>Just Fontaine</td>\n",
              "      <td>13</td>\n",
              "      <td>1958</td>\n",
              "      <td>France</td>\n",
              "      <td>[1958]</td>\n",
              "      <td>True</td>\n",
              "      <td>1</td>\n",
              "    </tr>\n",
              "    <tr>\n",
              "      <th>4</th>\n",
              "      <td>Pele</td>\n",
              "      <td>12</td>\n",
              "      <td>1958-1962-1966-1970</td>\n",
              "      <td>Brazil</td>\n",
              "      <td>[1958, 1962, 1966, 1970]</td>\n",
              "      <td>True</td>\n",
              "      <td>4</td>\n",
              "    </tr>\n",
              "  </tbody>\n",
              "</table>\n",
              "</div>\n",
              "      <button class=\"colab-df-convert\" onclick=\"convertToInteractive('df-28faac40-ab9e-4094-a5b8-d6d6cc6d0e40')\"\n",
              "              title=\"Convert this dataframe to an interactive table.\"\n",
              "              style=\"display:none;\">\n",
              "        \n",
              "  <svg xmlns=\"http://www.w3.org/2000/svg\" height=\"24px\"viewBox=\"0 0 24 24\"\n",
              "       width=\"24px\">\n",
              "    <path d=\"M0 0h24v24H0V0z\" fill=\"none\"/>\n",
              "    <path d=\"M18.56 5.44l.94 2.06.94-2.06 2.06-.94-2.06-.94-.94-2.06-.94 2.06-2.06.94zm-11 1L8.5 8.5l.94-2.06 2.06-.94-2.06-.94L8.5 2.5l-.94 2.06-2.06.94zm10 10l.94 2.06.94-2.06 2.06-.94-2.06-.94-.94-2.06-.94 2.06-2.06.94z\"/><path d=\"M17.41 7.96l-1.37-1.37c-.4-.4-.92-.59-1.43-.59-.52 0-1.04.2-1.43.59L10.3 9.45l-7.72 7.72c-.78.78-.78 2.05 0 2.83L4 21.41c.39.39.9.59 1.41.59.51 0 1.02-.2 1.41-.59l7.78-7.78 2.81-2.81c.8-.78.8-2.07 0-2.86zM5.41 20L4 18.59l7.72-7.72 1.47 1.35L5.41 20z\"/>\n",
              "  </svg>\n",
              "      </button>\n",
              "      \n",
              "  <style>\n",
              "    .colab-df-container {\n",
              "      display:flex;\n",
              "      flex-wrap:wrap;\n",
              "      gap: 12px;\n",
              "    }\n",
              "\n",
              "    .colab-df-convert {\n",
              "      background-color: #E8F0FE;\n",
              "      border: none;\n",
              "      border-radius: 50%;\n",
              "      cursor: pointer;\n",
              "      display: none;\n",
              "      fill: #1967D2;\n",
              "      height: 32px;\n",
              "      padding: 0 0 0 0;\n",
              "      width: 32px;\n",
              "    }\n",
              "\n",
              "    .colab-df-convert:hover {\n",
              "      background-color: #E2EBFA;\n",
              "      box-shadow: 0px 1px 2px rgba(60, 64, 67, 0.3), 0px 1px 3px 1px rgba(60, 64, 67, 0.15);\n",
              "      fill: #174EA6;\n",
              "    }\n",
              "\n",
              "    [theme=dark] .colab-df-convert {\n",
              "      background-color: #3B4455;\n",
              "      fill: #D2E3FC;\n",
              "    }\n",
              "\n",
              "    [theme=dark] .colab-df-convert:hover {\n",
              "      background-color: #434B5C;\n",
              "      box-shadow: 0px 1px 3px 1px rgba(0, 0, 0, 0.15);\n",
              "      filter: drop-shadow(0px 1px 2px rgba(0, 0, 0, 0.3));\n",
              "      fill: #FFFFFF;\n",
              "    }\n",
              "  </style>\n",
              "\n",
              "      <script>\n",
              "        const buttonEl =\n",
              "          document.querySelector('#df-28faac40-ab9e-4094-a5b8-d6d6cc6d0e40 button.colab-df-convert');\n",
              "        buttonEl.style.display =\n",
              "          google.colab.kernel.accessAllowed ? 'block' : 'none';\n",
              "\n",
              "        async function convertToInteractive(key) {\n",
              "          const element = document.querySelector('#df-28faac40-ab9e-4094-a5b8-d6d6cc6d0e40');\n",
              "          const dataTable =\n",
              "            await google.colab.kernel.invokeFunction('convertToInteractive',\n",
              "                                                     [key], {});\n",
              "          if (!dataTable) return;\n",
              "\n",
              "          const docLinkHtml = 'Like what you see? Visit the ' +\n",
              "            '<a target=\"_blank\" href=https://colab.research.google.com/notebooks/data_table.ipynb>data table notebook</a>'\n",
              "            + ' to learn more about interactive tables.';\n",
              "          element.innerHTML = '';\n",
              "          dataTable['output_type'] = 'display_data';\n",
              "          await google.colab.output.renderOutput(dataTable, element);\n",
              "          const docLink = document.createElement('div');\n",
              "          docLink.innerHTML = docLinkHtml;\n",
              "          element.appendChild(docLink);\n",
              "        }\n",
              "      </script>\n",
              "    </div>\n",
              "  </div>\n",
              "  "
            ]
          },
          "metadata": {},
          "execution_count": 93
        }
      ]
    },
    {
      "cell_type": "code",
      "source": [
        "#시리즈가 오면 str을 붙여줌"
      ],
      "metadata": {
        "id": "2N26eHyTNhV0"
      },
      "execution_count": null,
      "outputs": []
    },
    {
      "cell_type": "code",
      "source": [
        "result = len(df2[df2.Player.str.lower().str.contains('carlos')])\n",
        "print(result)"
      ],
      "metadata": {
        "id": "5mcmiVeqJing",
        "colab": {
          "base_uri": "https://localhost:8080/"
        },
        "outputId": "d8f94487-183a-4d1d-aa54-a812a6382005"
      },
      "execution_count": 105,
      "outputs": [
        {
          "output_type": "stream",
          "name": "stdout",
          "text": [
            "13\n"
          ]
        }
      ]
    },
    {
      "cell_type": "code",
      "source": [
        "len(df2[df2.Player.str.contains('carlos', case = False)])"
      ],
      "metadata": {
        "colab": {
          "base_uri": "https://localhost:8080/"
        },
        "id": "qt7B0YhPNoOF",
        "outputId": "1d5d4004-6818-4f56-8c4b-475f3a50a984"
      },
      "execution_count": 113,
      "outputs": [
        {
          "output_type": "execute_result",
          "data": {
            "text/plain": [
              "13"
            ]
          },
          "metadata": {},
          "execution_count": 113
        }
      ]
    },
    {
      "cell_type": "code",
      "source": [
        "len(df2[df2.Player.str.upper().str.contains('CARLOS')])"
      ],
      "metadata": {
        "colab": {
          "base_uri": "https://localhost:8080/"
        },
        "id": "XmYK0FMuJ4MA",
        "outputId": "7814deeb-5999-490f-84cd-18e3d607423b"
      },
      "execution_count": 104,
      "outputs": [
        {
          "output_type": "execute_result",
          "data": {
            "text/plain": [
              "13"
            ]
          },
          "metadata": {},
          "execution_count": 104
        }
      ]
    },
    {
      "cell_type": "markdown",
      "source": [
        "월드컵 출전 횟수가 1회뿐인 선수들 중에서 가장 많은 득점을 올렸던 선수는 누구인가?"
      ],
      "metadata": {
        "id": "nurGeJw_OF2H"
      }
    },
    {
      "cell_type": "code",
      "source": [
        "df2[df2['LenCup'] == 1][['Goals','Player']].sort_values(ascending = False, by='Goals').head(1)"
      ],
      "metadata": {
        "colab": {
          "base_uri": "https://localhost:8080/",
          "height": 81
        },
        "id": "61HzIQg_L-cX",
        "outputId": "8c691ab2-38a1-43a3-c433-94d7f80e9c9d"
      },
      "execution_count": 121,
      "outputs": [
        {
          "output_type": "execute_result",
          "data": {
            "text/plain": [
              "   Goals         Player\n",
              "3     13  Just Fontaine"
            ],
            "text/html": [
              "\n",
              "  <div id=\"df-a1448add-8d2a-40e5-a772-5074cfd54dd3\">\n",
              "    <div class=\"colab-df-container\">\n",
              "      <div>\n",
              "<style scoped>\n",
              "    .dataframe tbody tr th:only-of-type {\n",
              "        vertical-align: middle;\n",
              "    }\n",
              "\n",
              "    .dataframe tbody tr th {\n",
              "        vertical-align: top;\n",
              "    }\n",
              "\n",
              "    .dataframe thead th {\n",
              "        text-align: right;\n",
              "    }\n",
              "</style>\n",
              "<table border=\"1\" class=\"dataframe\">\n",
              "  <thead>\n",
              "    <tr style=\"text-align: right;\">\n",
              "      <th></th>\n",
              "      <th>Goals</th>\n",
              "      <th>Player</th>\n",
              "    </tr>\n",
              "  </thead>\n",
              "  <tbody>\n",
              "    <tr>\n",
              "      <th>3</th>\n",
              "      <td>13</td>\n",
              "      <td>Just Fontaine</td>\n",
              "    </tr>\n",
              "  </tbody>\n",
              "</table>\n",
              "</div>\n",
              "      <button class=\"colab-df-convert\" onclick=\"convertToInteractive('df-a1448add-8d2a-40e5-a772-5074cfd54dd3')\"\n",
              "              title=\"Convert this dataframe to an interactive table.\"\n",
              "              style=\"display:none;\">\n",
              "        \n",
              "  <svg xmlns=\"http://www.w3.org/2000/svg\" height=\"24px\"viewBox=\"0 0 24 24\"\n",
              "       width=\"24px\">\n",
              "    <path d=\"M0 0h24v24H0V0z\" fill=\"none\"/>\n",
              "    <path d=\"M18.56 5.44l.94 2.06.94-2.06 2.06-.94-2.06-.94-.94-2.06-.94 2.06-2.06.94zm-11 1L8.5 8.5l.94-2.06 2.06-.94-2.06-.94L8.5 2.5l-.94 2.06-2.06.94zm10 10l.94 2.06.94-2.06 2.06-.94-2.06-.94-.94-2.06-.94 2.06-2.06.94z\"/><path d=\"M17.41 7.96l-1.37-1.37c-.4-.4-.92-.59-1.43-.59-.52 0-1.04.2-1.43.59L10.3 9.45l-7.72 7.72c-.78.78-.78 2.05 0 2.83L4 21.41c.39.39.9.59 1.41.59.51 0 1.02-.2 1.41-.59l7.78-7.78 2.81-2.81c.8-.78.8-2.07 0-2.86zM5.41 20L4 18.59l7.72-7.72 1.47 1.35L5.41 20z\"/>\n",
              "  </svg>\n",
              "      </button>\n",
              "      \n",
              "  <style>\n",
              "    .colab-df-container {\n",
              "      display:flex;\n",
              "      flex-wrap:wrap;\n",
              "      gap: 12px;\n",
              "    }\n",
              "\n",
              "    .colab-df-convert {\n",
              "      background-color: #E8F0FE;\n",
              "      border: none;\n",
              "      border-radius: 50%;\n",
              "      cursor: pointer;\n",
              "      display: none;\n",
              "      fill: #1967D2;\n",
              "      height: 32px;\n",
              "      padding: 0 0 0 0;\n",
              "      width: 32px;\n",
              "    }\n",
              "\n",
              "    .colab-df-convert:hover {\n",
              "      background-color: #E2EBFA;\n",
              "      box-shadow: 0px 1px 2px rgba(60, 64, 67, 0.3), 0px 1px 3px 1px rgba(60, 64, 67, 0.15);\n",
              "      fill: #174EA6;\n",
              "    }\n",
              "\n",
              "    [theme=dark] .colab-df-convert {\n",
              "      background-color: #3B4455;\n",
              "      fill: #D2E3FC;\n",
              "    }\n",
              "\n",
              "    [theme=dark] .colab-df-convert:hover {\n",
              "      background-color: #434B5C;\n",
              "      box-shadow: 0px 1px 3px 1px rgba(0, 0, 0, 0.15);\n",
              "      filter: drop-shadow(0px 1px 2px rgba(0, 0, 0, 0.3));\n",
              "      fill: #FFFFFF;\n",
              "    }\n",
              "  </style>\n",
              "\n",
              "      <script>\n",
              "        const buttonEl =\n",
              "          document.querySelector('#df-a1448add-8d2a-40e5-a772-5074cfd54dd3 button.colab-df-convert');\n",
              "        buttonEl.style.display =\n",
              "          google.colab.kernel.accessAllowed ? 'block' : 'none';\n",
              "\n",
              "        async function convertToInteractive(key) {\n",
              "          const element = document.querySelector('#df-a1448add-8d2a-40e5-a772-5074cfd54dd3');\n",
              "          const dataTable =\n",
              "            await google.colab.kernel.invokeFunction('convertToInteractive',\n",
              "                                                     [key], {});\n",
              "          if (!dataTable) return;\n",
              "\n",
              "          const docLinkHtml = 'Like what you see? Visit the ' +\n",
              "            '<a target=\"_blank\" href=https://colab.research.google.com/notebooks/data_table.ipynb>data table notebook</a>'\n",
              "            + ' to learn more about interactive tables.';\n",
              "          element.innerHTML = '';\n",
              "          dataTable['output_type'] = 'display_data';\n",
              "          await google.colab.output.renderOutput(dataTable, element);\n",
              "          const docLink = document.createElement('div');\n",
              "          docLink.innerHTML = docLinkHtml;\n",
              "          element.appendChild(docLink);\n",
              "        }\n",
              "      </script>\n",
              "    </div>\n",
              "  </div>\n",
              "  "
            ]
          },
          "metadata": {},
          "execution_count": 121
        }
      ]
    },
    {
      "cell_type": "code",
      "source": [
        "#groupby도 비슷?\n",
        "df2[df2['LenCup'] == 1].Goals.sort_values(ascending = False) #goals중에서 정렬을 하겠다.\n",
        "df2[df2['LenCup'] == 1].sort_values(ascending = False, by = 'Goals') #df2에서 goals를 기준으로 정렬 하겠다."
      ],
      "metadata": {
        "id": "GuyhVf5fOjFI"
      },
      "execution_count": null,
      "outputs": []
    },
    {
      "cell_type": "markdown",
      "source": [
        "월드컵 출전횟수가 1회 뿐인 선수들이 가장 많은 국가는 어디인가?"
      ],
      "metadata": {
        "id": "143tC0V0O8f7"
      }
    },
    {
      "cell_type": "code",
      "source": [
        "answer = df2.loc[df2['LenCup'] == 1].Country.value_counts().index[0]\n",
        "answer"
      ],
      "metadata": {
        "colab": {
          "base_uri": "https://localhost:8080/",
          "height": 36
        },
        "id": "scsPWtEAPhPU",
        "outputId": "ac7986f4-ab66-4382-83f3-09ad4b5f1ff2"
      },
      "execution_count": 131,
      "outputs": [
        {
          "output_type": "execute_result",
          "data": {
            "text/plain": [
              "'Brazil'"
            ],
            "application/vnd.google.colaboratory.intrinsic+json": {
              "type": "string"
            }
          },
          "metadata": {},
          "execution_count": 131
        }
      ]
    },
    {
      "cell_type": "code",
      "source": [],
      "metadata": {
        "id": "M7qZTatZQpiu"
      },
      "execution_count": null,
      "outputs": []
    }
  ]
}